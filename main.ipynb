{
 "cells": [
  {
   "metadata": {},
   "cell_type": "markdown",
   "source": [
    "## Importing needed libraries"
   ],
   "id": "99c421d1ecc41cc3"
  },
  {
   "cell_type": "code",
   "id": "initial_id",
   "metadata": {
    "collapsed": true
   },
   "source": [
    "import pandas as pd\n",
    "from sklearn.model_selection import train_test_split\n",
    "from sklearn.preprocessing import MinMaxScaler\n",
    "from sklearn.neighbors import NearestNeighbors"
   ],
   "execution_count": null,
   "outputs": []
  },
  {
   "metadata": {},
   "cell_type": "markdown",
   "source": [
    "## Loading data"
   ],
   "id": "97a2f7765728a3a6"
  },
  {
   "metadata": {},
   "cell_type": "code",
   "source": [
    "df = pd.read_csv('./data/movies.csv')\n",
    "df.head()"
   ],
   "id": "cdd0eb2ed33922f5",
   "execution_count": 20,
   "outputs": []
  },
  {
   "cell_type": "markdown",
   "source": [
    "## Creating a movie recommendation system"
   ],
   "metadata": {
    "collapsed": false
   },
   "id": "ec04ba0e28d9ac0b"
  },
  {
   "cell_type": "markdown",
   "source": [
    "### Data preparation"
   ],
   "metadata": {
    "collapsed": false
   },
   "id": "4b5dcef3600acd9e"
  },
  {
   "cell_type": "markdown",
   "source": [
    "Assigning grade ranges"
   ],
   "metadata": {
    "collapsed": false
   },
   "id": "38091de9191aa109"
  },
  {
   "metadata": {
    "ExecuteTime": {
     "end_time": "2024-07-03T06:18:08.510864100Z",
     "start_time": "2024-07-03T06:18:08.315848900Z"
    }
   },
   "cell_type": "code",
   "execution_count": 21,
   "source": [
    "df_copy = df.copy()\n",
    "df_copy.loc[(df_copy['vote_average'] >= 0) & (df_copy['vote_average'] <= 1), 'rating_between'] = \"between 0 and 1\"\n",
    "df_copy.loc[(df_copy['vote_average'] > 1) & (df_copy['vote_average'] <= 2), 'rating_between'] = \"between 1 and 2\"\n",
    "df_copy.loc[(df_copy['vote_average'] > 2) & (df_copy['vote_average'] <= 3), 'rating_between'] = \"between 2 and 3\"\n",
    "df_copy.loc[(df_copy['vote_average'] > 3) & (df_copy['vote_average'] <= 4), 'rating_between'] = \"between 3 and 4\"\n",
    "df_copy.loc[(df_copy['vote_average'] > 4) & (df_copy['vote_average'] <= 5), 'rating_between'] = \"between 4 and 5\"\n",
    "df_copy.loc[(df_copy['vote_average'] > 5) & (df_copy['vote_average'] <= 6), 'rating_between'] = \"between 5 and 6\"\n",
    "df_copy.loc[(df_copy['vote_average'] > 6) & (df_copy['vote_average'] <= 7), 'rating_between'] = \"between 6 and 7\"\n",
    "df_copy.loc[(df_copy['vote_average'] > 7) & (df_copy['vote_average'] <= 8), 'rating_between'] = \"between 7 and 8\"\n",
    "df_copy.loc[(df_copy['vote_average'] > 8) & (df_copy['vote_average'] <= 9), 'rating_between'] = \"between 8 and 9\"\n",
    "df_copy.loc[(df_copy['vote_average'] > 9) & (df_copy['vote_average'] <= 10), 'rating_between'] = \"between 9 and 10\""
   ],
   "id": "11cd4b84d7dac2cb",
   "outputs": []
  },
  {
   "cell_type": "markdown",
   "source": [
    "Filling in missing values"
   ],
   "metadata": {
    "collapsed": false
   },
   "id": "e1f243169b5d02a6"
  },
  {
   "cell_type": "code",
   "execution_count": 22,
   "source": [
    "df_copy['genres'] = df_copy['genres'].fillna('no category')"
   ],
   "metadata": {
    "collapsed": false,
    "ExecuteTime": {
     "end_time": "2024-07-03T06:18:08.565585700Z",
     "start_time": "2024-07-03T06:18:08.518367100Z"
    }
   },
   "id": "69b67e57c46da427",
   "outputs": []
  },
  {
   "cell_type": "markdown",
   "source": [
    "Creating categorical variables"
   ],
   "metadata": {
    "collapsed": false
   },
   "id": "b66ee249686a993a"
  },
  {
   "cell_type": "code",
   "execution_count": 23,
   "source": [
    "rating_df = pd.get_dummies(df_copy['rating_between'])\n",
    "language_df = pd.get_dummies(df_copy['original_language'])"
   ],
   "metadata": {
    "collapsed": false,
    "ExecuteTime": {
     "end_time": "2024-07-03T06:18:08.668543200Z",
     "start_time": "2024-07-03T06:18:08.565585700Z"
    }
   },
   "id": "dac667e828c9ab16",
   "outputs": []
  },
  {
   "cell_type": "markdown",
   "source": [
    "Extracting the main category"
   ],
   "metadata": {
    "collapsed": false
   },
   "id": "b27c3396584de4fb"
  },
  {
   "cell_type": "code",
   "execution_count": 24,
   "source": [
    "df_copy['main_category'] = df_copy['genres'].apply(lambda x: x.split('-')[0])\n",
    "genres_df = pd.get_dummies(df_copy.main_category)"
   ],
   "metadata": {
    "collapsed": false,
    "ExecuteTime": {
     "end_time": "2024-07-03T06:18:08.881848100Z",
     "start_time": "2024-07-03T06:18:08.670546200Z"
    }
   },
   "id": "c74183f95a384d9e",
   "outputs": []
  },
  {
   "cell_type": "markdown",
   "source": [
    "## Creating features"
   ],
   "metadata": {
    "collapsed": false
   },
   "id": "f92ab1a3e3b8c17e"
  },
  {
   "cell_type": "code",
   "execution_count": 25,
   "source": [
    "features = pd.concat([rating_df, language_df, genres_df, df_copy['vote_average'], df_copy['vote_count']], axis=1)"
   ],
   "metadata": {
    "collapsed": false,
    "ExecuteTime": {
     "end_time": "2024-07-03T06:18:08.937789900Z",
     "start_time": "2024-07-03T06:18:08.881848100Z"
    }
   },
   "id": "8584c6c89e14ce76",
   "outputs": []
  },
  {
   "cell_type": "markdown",
   "source": [
    "### Feature scaling"
   ],
   "metadata": {
    "collapsed": false
   },
   "id": "3b39d8633ba019d9"
  },
  {
   "cell_type": "code",
   "execution_count": 26,
   "source": [
    "min_max_scaler = MinMaxScaler()\n",
    "features = min_max_scaler.fit_transform(features)"
   ],
   "metadata": {
    "collapsed": false,
    "ExecuteTime": {
     "end_time": "2024-07-03T06:18:12.046813700Z",
     "start_time": "2024-07-03T06:18:08.937789900Z"
    }
   },
   "id": "c88532fdb9866e24",
   "outputs": []
  },
  {
   "cell_type": "markdown",
   "source": [
    "## Division into training and test set"
   ],
   "metadata": {
    "collapsed": false
   },
   "id": "c417b12507100fed"
  },
  {
   "cell_type": "code",
   "execution_count": 27,
   "source": [
    "X = features\n",
    "y = df_copy[['title', 'main_category']]\n",
    "X_train, X_test, y_train, y_test = train_test_split(X, y, test_size=0.2, random_state=42)"
   ],
   "metadata": {
    "collapsed": false,
    "ExecuteTime": {
     "end_time": "2024-07-03T06:18:13.855584Z",
     "start_time": "2024-07-03T06:18:12.038774500Z"
    }
   },
   "id": "a4bd90e8ac0dc2af",
   "outputs": []
  },
  {
   "cell_type": "markdown",
   "source": [
    "## Creating a KNN model"
   ],
   "metadata": {
    "collapsed": false
   },
   "id": "fd6c63a68286e813"
  },
  {
   "cell_type": "code",
   "execution_count": 28,
   "source": [
    "n_neighbors = 10\n",
    "knn = NearestNeighbors(n_neighbors=n_neighbors, algorithm='auto').fit(X_train)"
   ],
   "metadata": {
    "collapsed": false,
    "ExecuteTime": {
     "end_time": "2024-07-03T06:18:14.013216Z",
     "start_time": "2024-07-03T06:18:13.855584Z"
    }
   },
   "id": "5d0f90e73095e779",
   "outputs": []
  },
  {
   "cell_type": "markdown",
   "source": [
    "## Recommender function"
   ],
   "metadata": {
    "collapsed": false
   },
   "id": "8677e05c582642bc"
  },
  {
   "cell_type": "code",
   "execution_count": 29,
   "source": [
    "def recommend_movies(title, n_recommendations=5):\n",
    "    if title not in y_train['title'].values:\n",
    "        return \"Film nie znaleziony w bazie treningowej.\"\n",
    "    \n",
    "    idx = y_train[y_train['title'] == title].index[0]\n",
    "    movie_features = X_train[idx]\n",
    "    \n",
    "    # Zmiana kształtu na (1, -1)\n",
    "    movie_features = movie_features.reshape(1, -1)\n",
    "    \n",
    "    distances, indices = knn.kneighbors(movie_features, n_neighbors=n_recommendations + 1)\n",
    "    \n",
    "    recommendations = []\n",
    "    for i in range(1, len(indices[0])):\n",
    "        recommendations.append(y_train.iloc[indices[0][i]])\n",
    "    \n",
    "    return recommendations"
   ],
   "metadata": {
    "collapsed": false,
    "ExecuteTime": {
     "end_time": "2024-07-03T06:18:14.018759200Z",
     "start_time": "2024-07-03T06:18:14.018255500Z"
    }
   },
   "id": "9b3aca4abadf0afd",
   "outputs": []
  },
  {
   "cell_type": "markdown",
   "source": [
    "## Testing the model"
   ],
   "metadata": {
    "collapsed": false
   },
   "id": "3079d4f5dab90f87"
  },
  {
   "cell_type": "code",
   "execution_count": 30,
   "source": [
    "recommendations = recommend_movies(\"Toy Story\", n_recommendations=5)\n",
    "for title, genres in recommendations:\n",
    "    print(f\"Film: {title}, Kategorie: {genres}\")"
   ],
   "metadata": {
    "collapsed": false,
    "ExecuteTime": {
     "end_time": "2024-07-03T06:18:14.216033600Z",
     "start_time": "2024-07-03T06:18:14.018759200Z"
    }
   },
   "id": "b9497dbf9eb80d9d",
   "outputs": []
  },
  {
   "cell_type": "code",
   "execution_count": 32,
   "source": [
    "recommendations = recommend_movies(\"Music\", n_recommendations=30)\n",
    "for title, genres in recommendations:\n",
    "    print(f\"Film: {title}, Kategorie: {genres}\")"
   ],
   "metadata": {
    "collapsed": false,
    "ExecuteTime": {
     "end_time": "2024-07-03T06:18:44.905195900Z",
     "start_time": "2024-07-03T06:18:44.761355300Z"
    }
   },
   "id": "55d309ca131b77f5",
   "outputs": []
  },
  {
   "cell_type": "code",
   "execution_count": 31,
   "source": [],
   "metadata": {
    "collapsed": false,
    "ExecuteTime": {
     "end_time": "2024-07-03T06:18:14.434818100Z",
     "start_time": "2024-07-03T06:18:14.432744500Z"
    }
   },
   "id": "1f61637d7b3e45d0",
   "outputs": []
  }
 ],
 "metadata": {
  "kernelspec": {
   "display_name": "Python 3",
   "language": "python",
   "name": "python3"
  },
  "language_info": {
   "codemirror_mode": {
    "name": "ipython",
    "version": 2
   },
   "file_extension": ".py",
   "mimetype": "text/x-python",
   "name": "python",
   "nbconvert_exporter": "python",
   "pygments_lexer": "ipython2",
   "version": "2.7.6"
  }
 },
 "nbformat": 4,
 "nbformat_minor": 5
}
