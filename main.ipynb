{
 "cells": [
  {
   "metadata": {},
   "cell_type": "markdown",
   "source": [
    "## Importing needed libraries"
   ],
   "id": "99c421d1ecc41cc3"
  },
  {
   "cell_type": "code",
   "id": "initial_id",
   "metadata": {
    "collapsed": true
   },
   "source": [
    "import pandas as pd\n",
    "from sklearn.model_selection import train_test_split\n",
    "from sklearn.preprocessing import MinMaxScaler\n",
    "from sklearn.neighbors import NearestNeighbors"
   ],
   "outputs": [],
   "execution_count": null
  },
  {
   "metadata": {},
   "cell_type": "markdown",
   "source": [
    "## Loading data"
   ],
   "id": "97a2f7765728a3a6"
  },
  {
   "metadata": {},
   "cell_type": "code",
   "source": [
    "df = pd.read_csv('./data/movies.csv')\n",
    "df.head()"
   ],
   "id": "cdd0eb2ed33922f5",
   "outputs": [
    {
     "data": {
      "text/plain": "       id                             title                            genres  \\\n0  823464   Godzilla x Kong: The New Empire  Science Fiction-Action-Adventure   \n1  615656                 Meg 2: The Trench     Action-Science Fiction-Horror   \n2  758323               The Pope's Exorcist           Horror-Mystery-Thriller   \n3  667538  Transformers: Rise of the Beasts  Action-Adventure-Science Fiction   \n4  693134                    Dune: Part Two         Science Fiction-Adventure   \n\n  original_language                                           overview  \\\n0                en  Following their explosive showdown Godzilla an...   \n1                en  An exploratory dive into the deepest depths of...   \n2                en  Father Gabriele Amorth Chief Exorcist of the V...   \n3                en  When a new threat capable of destroying the en...   \n4                en  Follow the mythic journey of Paul Atreides as ...   \n\n   popularity                               production_companies release_date  \\\n0   10484.676           Legendary Pictures-Warner Bros. Pictures   2024-03-27   \n1    8763.998  Apelles Entertainment-Warner Bros. Pictures-di...   2023-08-02   \n2    5953.227  Screen Gems-2.0 Entertainment-Jesus & Mary-Wor...   2023-04-05   \n3    5409.104  Skydance-Paramount-di Bonaventura Pictures-Bay...   2023-06-06   \n4    4742.163                                 Legendary Pictures   2024-02-27   \n\n        budget      revenue  runtime    status  \\\n0  150000000.0  558503759.0    115.0  Released   \n1  129000000.0  352056482.0    116.0  Released   \n2   18000000.0   65675816.0    103.0  Released   \n3  200000000.0  407045464.0    127.0  Released   \n4  190000000.0  683813734.0    167.0  Released   \n\n                                             tagline  vote_average  \\\n0                       Rise together or fall alone.         7.246   \n1                                  Back for seconds.         7.079   \n2  Inspired by the actual files of Father Gabriel...         7.433   \n3                                     Unite or fall.         7.340   \n4                            Long live the fighters.         8.300   \n\n   vote_count                                            credits  \\\n0      1878.0  Rebecca Hall-Brian Tyree Henry-Dan Stevens-Kay...   \n1      1365.0  Jason Statham-Wu Jing-Shuya Sophia Cai-Sergio ...   \n2       545.0  Russell Crowe-Daniel Zovatto-Alex Essoe-Franco...   \n3      1007.0  Anthony Ramos-Dominique Fishback-Luna Lauren V...   \n4      2770.0  Timothée Chalamet-Zendaya-Rebecca Ferguson-Jav...   \n\n                                            keywords  \\\n0  giant monster-sequel-dinosaur-kaiju-fantasy wo...   \n1                based on novel or book-sequel-kaiju   \n2  spain-rome italy-vatican-pope-pig-possession-c...   \n3  peru-alien-end of the world-based on cartoon-b...   \n4  epic-based on novel or book-fight-sandstorm-sa...   \n\n                        poster_path                     backdrop_path  \\\n0  /v4uvGFAkKuYfyKLGZnYj6l47ERQ.jpg  /j3Z3XktmWB1VhsS8iXNcrR86PXi.jpg   \n1  /4m1Au3YkjqsxF8iwQy0fPYSxE0h.jpg  /qlxy8yo5bcgUw2KAmmojUKp4rHd.jpg   \n2  /9JBEPLTPSm0d1mbEcLxULjJq9Eh.jpg  /hiHGRbyTcbZoLsYYkO4QiCLYe34.jpg   \n3  /gPbM0MK8CP8A174rmUwGsADNYKD.jpg  /woJbg7ZqidhpvqFGGMRhWQNoxwa.jpg   \n4  /czembW0Rk1Ke7lCJGahbOhdCuhV.jpg  /xOMo8BRK7PfcJv9JCnx7s5hj0PX.jpg   \n\n                                     recommendations  \n0  1011985-1275232-359410-601796-967847-653346-69...  \n1  1006462-298618-569094-1061181-346698-1076487-6...  \n2  713704-296271-502356-1076605-1084225-1008005-9...  \n3  496450-569094-298618-385687-877100-598331-4628...  \n4  438631-763215-792307-1011985-467244-634492-359...  ",
      "text/html": "<div>\n<style scoped>\n    .dataframe tbody tr th:only-of-type {\n        vertical-align: middle;\n    }\n\n    .dataframe tbody tr th {\n        vertical-align: top;\n    }\n\n    .dataframe thead th {\n        text-align: right;\n    }\n</style>\n<table border=\"1\" class=\"dataframe\">\n  <thead>\n    <tr style=\"text-align: right;\">\n      <th></th>\n      <th>id</th>\n      <th>title</th>\n      <th>genres</th>\n      <th>original_language</th>\n      <th>overview</th>\n      <th>popularity</th>\n      <th>production_companies</th>\n      <th>release_date</th>\n      <th>budget</th>\n      <th>revenue</th>\n      <th>runtime</th>\n      <th>status</th>\n      <th>tagline</th>\n      <th>vote_average</th>\n      <th>vote_count</th>\n      <th>credits</th>\n      <th>keywords</th>\n      <th>poster_path</th>\n      <th>backdrop_path</th>\n      <th>recommendations</th>\n    </tr>\n  </thead>\n  <tbody>\n    <tr>\n      <th>0</th>\n      <td>823464</td>\n      <td>Godzilla x Kong: The New Empire</td>\n      <td>Science Fiction-Action-Adventure</td>\n      <td>en</td>\n      <td>Following their explosive showdown Godzilla an...</td>\n      <td>10484.676</td>\n      <td>Legendary Pictures-Warner Bros. Pictures</td>\n      <td>2024-03-27</td>\n      <td>150000000.0</td>\n      <td>558503759.0</td>\n      <td>115.0</td>\n      <td>Released</td>\n      <td>Rise together or fall alone.</td>\n      <td>7.246</td>\n      <td>1878.0</td>\n      <td>Rebecca Hall-Brian Tyree Henry-Dan Stevens-Kay...</td>\n      <td>giant monster-sequel-dinosaur-kaiju-fantasy wo...</td>\n      <td>/v4uvGFAkKuYfyKLGZnYj6l47ERQ.jpg</td>\n      <td>/j3Z3XktmWB1VhsS8iXNcrR86PXi.jpg</td>\n      <td>1011985-1275232-359410-601796-967847-653346-69...</td>\n    </tr>\n    <tr>\n      <th>1</th>\n      <td>615656</td>\n      <td>Meg 2: The Trench</td>\n      <td>Action-Science Fiction-Horror</td>\n      <td>en</td>\n      <td>An exploratory dive into the deepest depths of...</td>\n      <td>8763.998</td>\n      <td>Apelles Entertainment-Warner Bros. Pictures-di...</td>\n      <td>2023-08-02</td>\n      <td>129000000.0</td>\n      <td>352056482.0</td>\n      <td>116.0</td>\n      <td>Released</td>\n      <td>Back for seconds.</td>\n      <td>7.079</td>\n      <td>1365.0</td>\n      <td>Jason Statham-Wu Jing-Shuya Sophia Cai-Sergio ...</td>\n      <td>based on novel or book-sequel-kaiju</td>\n      <td>/4m1Au3YkjqsxF8iwQy0fPYSxE0h.jpg</td>\n      <td>/qlxy8yo5bcgUw2KAmmojUKp4rHd.jpg</td>\n      <td>1006462-298618-569094-1061181-346698-1076487-6...</td>\n    </tr>\n    <tr>\n      <th>2</th>\n      <td>758323</td>\n      <td>The Pope's Exorcist</td>\n      <td>Horror-Mystery-Thriller</td>\n      <td>en</td>\n      <td>Father Gabriele Amorth Chief Exorcist of the V...</td>\n      <td>5953.227</td>\n      <td>Screen Gems-2.0 Entertainment-Jesus &amp; Mary-Wor...</td>\n      <td>2023-04-05</td>\n      <td>18000000.0</td>\n      <td>65675816.0</td>\n      <td>103.0</td>\n      <td>Released</td>\n      <td>Inspired by the actual files of Father Gabriel...</td>\n      <td>7.433</td>\n      <td>545.0</td>\n      <td>Russell Crowe-Daniel Zovatto-Alex Essoe-Franco...</td>\n      <td>spain-rome italy-vatican-pope-pig-possession-c...</td>\n      <td>/9JBEPLTPSm0d1mbEcLxULjJq9Eh.jpg</td>\n      <td>/hiHGRbyTcbZoLsYYkO4QiCLYe34.jpg</td>\n      <td>713704-296271-502356-1076605-1084225-1008005-9...</td>\n    </tr>\n    <tr>\n      <th>3</th>\n      <td>667538</td>\n      <td>Transformers: Rise of the Beasts</td>\n      <td>Action-Adventure-Science Fiction</td>\n      <td>en</td>\n      <td>When a new threat capable of destroying the en...</td>\n      <td>5409.104</td>\n      <td>Skydance-Paramount-di Bonaventura Pictures-Bay...</td>\n      <td>2023-06-06</td>\n      <td>200000000.0</td>\n      <td>407045464.0</td>\n      <td>127.0</td>\n      <td>Released</td>\n      <td>Unite or fall.</td>\n      <td>7.340</td>\n      <td>1007.0</td>\n      <td>Anthony Ramos-Dominique Fishback-Luna Lauren V...</td>\n      <td>peru-alien-end of the world-based on cartoon-b...</td>\n      <td>/gPbM0MK8CP8A174rmUwGsADNYKD.jpg</td>\n      <td>/woJbg7ZqidhpvqFGGMRhWQNoxwa.jpg</td>\n      <td>496450-569094-298618-385687-877100-598331-4628...</td>\n    </tr>\n    <tr>\n      <th>4</th>\n      <td>693134</td>\n      <td>Dune: Part Two</td>\n      <td>Science Fiction-Adventure</td>\n      <td>en</td>\n      <td>Follow the mythic journey of Paul Atreides as ...</td>\n      <td>4742.163</td>\n      <td>Legendary Pictures</td>\n      <td>2024-02-27</td>\n      <td>190000000.0</td>\n      <td>683813734.0</td>\n      <td>167.0</td>\n      <td>Released</td>\n      <td>Long live the fighters.</td>\n      <td>8.300</td>\n      <td>2770.0</td>\n      <td>Timothée Chalamet-Zendaya-Rebecca Ferguson-Jav...</td>\n      <td>epic-based on novel or book-fight-sandstorm-sa...</td>\n      <td>/czembW0Rk1Ke7lCJGahbOhdCuhV.jpg</td>\n      <td>/xOMo8BRK7PfcJv9JCnx7s5hj0PX.jpg</td>\n      <td>438631-763215-792307-1011985-467244-634492-359...</td>\n    </tr>\n  </tbody>\n</table>\n</div>"
     },
     "execution_count": 20,
     "metadata": {},
     "output_type": "execute_result"
    }
   ],
   "execution_count": 20
  },
  {
   "cell_type": "markdown",
   "source": [
    "## Creating a movie recommendation system"
   ],
   "metadata": {
    "collapsed": false
   },
   "id": "ec04ba0e28d9ac0b"
  },
  {
   "cell_type": "markdown",
   "source": [
    "### Data preparation"
   ],
   "metadata": {
    "collapsed": false
   },
   "id": "4b5dcef3600acd9e"
  },
  {
   "cell_type": "markdown",
   "source": [
    "Assigning grade ranges"
   ],
   "metadata": {
    "collapsed": false
   },
   "id": "38091de9191aa109"
  },
  {
   "metadata": {
    "ExecuteTime": {
     "end_time": "2024-07-03T06:18:08.510864100Z",
     "start_time": "2024-07-03T06:18:08.315848900Z"
    }
   },
   "cell_type": "code",
   "outputs": [],
   "execution_count": 21,
   "source": [
    "df_copy = df.copy()\n",
    "df_copy.loc[(df_copy['vote_average'] >= 0) & (df_copy['vote_average'] <= 1), 'rating_between'] = \"between 0 and 1\"\n",
    "df_copy.loc[(df_copy['vote_average'] > 1) & (df_copy['vote_average'] <= 2), 'rating_between'] = \"between 1 and 2\"\n",
    "df_copy.loc[(df_copy['vote_average'] > 2) & (df_copy['vote_average'] <= 3), 'rating_between'] = \"between 2 and 3\"\n",
    "df_copy.loc[(df_copy['vote_average'] > 3) & (df_copy['vote_average'] <= 4), 'rating_between'] = \"between 3 and 4\"\n",
    "df_copy.loc[(df_copy['vote_average'] > 4) & (df_copy['vote_average'] <= 5), 'rating_between'] = \"between 4 and 5\"\n",
    "df_copy.loc[(df_copy['vote_average'] > 5) & (df_copy['vote_average'] <= 6), 'rating_between'] = \"between 5 and 6\"\n",
    "df_copy.loc[(df_copy['vote_average'] > 6) & (df_copy['vote_average'] <= 7), 'rating_between'] = \"between 6 and 7\"\n",
    "df_copy.loc[(df_copy['vote_average'] > 7) & (df_copy['vote_average'] <= 8), 'rating_between'] = \"between 7 and 8\"\n",
    "df_copy.loc[(df_copy['vote_average'] > 8) & (df_copy['vote_average'] <= 9), 'rating_between'] = \"between 8 and 9\"\n",
    "df_copy.loc[(df_copy['vote_average'] > 9) & (df_copy['vote_average'] <= 10), 'rating_between'] = \"between 9 and 10\""
   ],
   "id": "11cd4b84d7dac2cb"
  },
  {
   "cell_type": "markdown",
   "source": [
    "Filling in missing values"
   ],
   "metadata": {
    "collapsed": false
   },
   "id": "e1f243169b5d02a6"
  },
  {
   "cell_type": "code",
   "execution_count": 22,
   "outputs": [],
   "source": [
    "df_copy['genres'] = df_copy['genres'].fillna('no category')"
   ],
   "metadata": {
    "collapsed": false,
    "ExecuteTime": {
     "end_time": "2024-07-03T06:18:08.565585700Z",
     "start_time": "2024-07-03T06:18:08.518367100Z"
    }
   },
   "id": "69b67e57c46da427"
  },
  {
   "cell_type": "markdown",
   "source": [
    "Creating categorical variables"
   ],
   "metadata": {
    "collapsed": false
   },
   "id": "b66ee249686a993a"
  },
  {
   "cell_type": "code",
   "execution_count": 23,
   "outputs": [],
   "source": [
    "rating_df = pd.get_dummies(df_copy['rating_between'])\n",
    "language_df = pd.get_dummies(df_copy['original_language'])"
   ],
   "metadata": {
    "collapsed": false,
    "ExecuteTime": {
     "end_time": "2024-07-03T06:18:08.668543200Z",
     "start_time": "2024-07-03T06:18:08.565585700Z"
    }
   },
   "id": "dac667e828c9ab16"
  },
  {
   "cell_type": "markdown",
   "source": [
    "Extracting the main category"
   ],
   "metadata": {
    "collapsed": false
   },
   "id": "b27c3396584de4fb"
  },
  {
   "cell_type": "code",
   "execution_count": 24,
   "outputs": [],
   "source": [
    "df_copy['main_category'] = df_copy['genres'].apply(lambda x: x.split('-')[0])\n",
    "genres_df = pd.get_dummies(df_copy.main_category)"
   ],
   "metadata": {
    "collapsed": false,
    "ExecuteTime": {
     "end_time": "2024-07-03T06:18:08.881848100Z",
     "start_time": "2024-07-03T06:18:08.670546200Z"
    }
   },
   "id": "c74183f95a384d9e"
  },
  {
   "cell_type": "markdown",
   "source": [
    "## Creating features"
   ],
   "metadata": {
    "collapsed": false
   },
   "id": "f92ab1a3e3b8c17e"
  },
  {
   "cell_type": "code",
   "execution_count": 25,
   "outputs": [],
   "source": [
    "features = pd.concat([rating_df, language_df, genres_df, df_copy['vote_average'], df_copy['vote_count']], axis=1)"
   ],
   "metadata": {
    "collapsed": false,
    "ExecuteTime": {
     "end_time": "2024-07-03T06:18:08.937789900Z",
     "start_time": "2024-07-03T06:18:08.881848100Z"
    }
   },
   "id": "8584c6c89e14ce76"
  },
  {
   "cell_type": "markdown",
   "source": [
    "### Feature scaling"
   ],
   "metadata": {
    "collapsed": false
   },
   "id": "3b39d8633ba019d9"
  },
  {
   "cell_type": "code",
   "execution_count": 26,
   "outputs": [],
   "source": [
    "min_max_scaler = MinMaxScaler()\n",
    "features = min_max_scaler.fit_transform(features)"
   ],
   "metadata": {
    "collapsed": false,
    "ExecuteTime": {
     "end_time": "2024-07-03T06:18:12.046813700Z",
     "start_time": "2024-07-03T06:18:08.937789900Z"
    }
   },
   "id": "c88532fdb9866e24"
  },
  {
   "cell_type": "markdown",
   "source": [
    "## Division into training and test set"
   ],
   "metadata": {
    "collapsed": false
   },
   "id": "c417b12507100fed"
  },
  {
   "cell_type": "code",
   "execution_count": 27,
   "outputs": [],
   "source": [
    "X = features\n",
    "y = df_copy[['title', 'main_category']]\n",
    "X_train, X_test, y_train, y_test = train_test_split(X, y, test_size=0.2, random_state=42)"
   ],
   "metadata": {
    "collapsed": false,
    "ExecuteTime": {
     "end_time": "2024-07-03T06:18:13.855584Z",
     "start_time": "2024-07-03T06:18:12.038774500Z"
    }
   },
   "id": "a4bd90e8ac0dc2af"
  },
  {
   "cell_type": "markdown",
   "source": [
    "## Creating a KNN model"
   ],
   "metadata": {
    "collapsed": false
   },
   "id": "fd6c63a68286e813"
  },
  {
   "cell_type": "code",
   "execution_count": 28,
   "outputs": [],
   "source": [
    "n_neighbors = 10\n",
    "knn = NearestNeighbors(n_neighbors=n_neighbors, algorithm='auto').fit(X_train)"
   ],
   "metadata": {
    "collapsed": false,
    "ExecuteTime": {
     "end_time": "2024-07-03T06:18:14.013216Z",
     "start_time": "2024-07-03T06:18:13.855584Z"
    }
   },
   "id": "5d0f90e73095e779"
  },
  {
   "cell_type": "markdown",
   "source": [
    "## Recommender function"
   ],
   "metadata": {
    "collapsed": false
   },
   "id": "8677e05c582642bc"
  },
  {
   "cell_type": "code",
   "execution_count": 29,
   "outputs": [],
   "source": [
    "def recommend_movies(title, n_recommendations=5):\n",
    "    if title not in y_train['title'].values:\n",
    "        return \"Film nie znaleziony w bazie treningowej.\"\n",
    "    \n",
    "    idx = y_train[y_train['title'] == title].index[0]\n",
    "    movie_features = X_train[idx]\n",
    "    \n",
    "    # Zmiana kształtu na (1, -1)\n",
    "    movie_features = movie_features.reshape(1, -1)\n",
    "    \n",
    "    distances, indices = knn.kneighbors(movie_features, n_neighbors=n_recommendations + 1)\n",
    "    \n",
    "    recommendations = []\n",
    "    for i in range(1, len(indices[0])):\n",
    "        recommendations.append(y_train.iloc[indices[0][i]])\n",
    "    \n",
    "    return recommendations"
   ],
   "metadata": {
    "collapsed": false,
    "ExecuteTime": {
     "end_time": "2024-07-03T06:18:14.018759200Z",
     "start_time": "2024-07-03T06:18:14.018255500Z"
    }
   },
   "id": "9b3aca4abadf0afd"
  },
  {
   "cell_type": "markdown",
   "source": [
    "## Testing the model"
   ],
   "metadata": {
    "collapsed": false
   },
   "id": "3079d4f5dab90f87"
  },
  {
   "cell_type": "code",
   "execution_count": 30,
   "outputs": [
    {
     "name": "stdout",
     "output_type": "stream",
     "text": [
      "Film: Cardinal, Kategorie: no category\n",
      "Film: Ellombara, Kategorie: no category\n",
      "Film: Smiling Addiction, Kategorie: no category\n",
      "Film: ROH & NJPW: Honor Rising Japan - Night 1, Kategorie: no category\n",
      "Film: Make Ready To Survive - Shelter, Fire, Water, Kategorie: no category\n"
     ]
    }
   ],
   "source": [
    "recommendations = recommend_movies(\"Toy Story\", n_recommendations=5)\n",
    "for title, genres in recommendations:\n",
    "    print(f\"Film: {title}, Kategorie: {genres}\")"
   ],
   "metadata": {
    "collapsed": false,
    "ExecuteTime": {
     "end_time": "2024-07-03T06:18:14.216033600Z",
     "start_time": "2024-07-03T06:18:14.018759200Z"
    }
   },
   "id": "b9497dbf9eb80d9d"
  },
  {
   "cell_type": "code",
   "execution_count": 32,
   "outputs": [
    {
     "name": "stdout",
     "output_type": "stream",
     "text": [
      "Film: Almost There, Kategorie: no category\n",
      "Film: The Girls of St. Mary's, Kategorie: no category\n",
      "Film: Ellombara, Kategorie: no category\n",
      "Film: Round & Round, Kategorie: no category\n",
      "Film: The Key and the Frame, Kategorie: no category\n",
      "Film: Make Ready To Survive - Shelter, Fire, Water, Kategorie: no category\n",
      "Film: Gd, Kategorie: no category\n",
      "Film: His Last Burglary, Kategorie: no category\n",
      "Film: Hunting Evil, Kategorie: no category\n",
      "Film: Lola & Virginia (volume 2), Kategorie: no category\n",
      "Film: VLOG The Movie, Kategorie: no category\n",
      "Film: Wolves Unleashed, Kategorie: no category\n",
      "Film: My Mama Wears Timbs, Kategorie: no category\n",
      "Film: Cardinal, Kategorie: no category\n",
      "Film: 2006200000, Kategorie: no category\n",
      "Film: Out of Office, Kategorie: no category\n",
      "Film: Prima névé, Kategorie: no category\n",
      "Film: Cinescape, Kategorie: no category\n",
      "Film: Et steinkast unna, Kategorie: no category\n",
      "Film: Defective Detectives, Kategorie: no category\n",
      "Film: Sen, Kategorie: no category\n",
      "Film: Braaap 9, Kategorie: no category\n",
      "Film: Outside the Lines: The Art of Cheyne Gallarde, Kategorie: no category\n",
      "Film: Smiling Addiction, Kategorie: no category\n",
      "Film: The Write-Off, Kategorie: no category\n",
      "Film: Hitler's Escape To Argentina, Kategorie: no category\n",
      "Film: Saint Cloud Hill, Kategorie: no category\n",
      "Film: Low, Kategorie: no category\n",
      "Film: B.B. King & Eric Clapton Live Apollo Hall of Fame, Kategorie: no category\n",
      "Film: ROH & NJPW: Honor Rising Japan - Night 1, Kategorie: no category\n"
     ]
    }
   ],
   "source": [
    "recommendations = recommend_movies(\"Music\", n_recommendations=30)\n",
    "for title, genres in recommendations:\n",
    "    print(f\"Film: {title}, Kategorie: {genres}\")"
   ],
   "metadata": {
    "collapsed": false,
    "ExecuteTime": {
     "end_time": "2024-07-03T06:18:44.905195900Z",
     "start_time": "2024-07-03T06:18:44.761355300Z"
    }
   },
   "id": "55d309ca131b77f5"
  },
  {
   "cell_type": "code",
   "execution_count": 31,
   "outputs": [],
   "source": [],
   "metadata": {
    "collapsed": false,
    "ExecuteTime": {
     "end_time": "2024-07-03T06:18:14.434818100Z",
     "start_time": "2024-07-03T06:18:14.432744500Z"
    }
   },
   "id": "1f61637d7b3e45d0"
  }
 ],
 "metadata": {
  "kernelspec": {
   "display_name": "Python 3",
   "language": "python",
   "name": "python3"
  },
  "language_info": {
   "codemirror_mode": {
    "name": "ipython",
    "version": 2
   },
   "file_extension": ".py",
   "mimetype": "text/x-python",
   "name": "python",
   "nbconvert_exporter": "python",
   "pygments_lexer": "ipython2",
   "version": "2.7.6"
  }
 },
 "nbformat": 4,
 "nbformat_minor": 5
}
