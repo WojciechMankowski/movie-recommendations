{
 "cells": [
  {
   "metadata": {},
   "cell_type": "markdown",
   "source": [
    "## Importing needed libraries"
   ],
   "id": "99c421d1ecc41cc3"
  },
  {
   "cell_type": "code",
   "id": "initial_id",
   "metadata": {
    "collapsed": true,
    "ExecuteTime": {
     "end_time": "2024-07-05T13:27:21.499413300Z",
     "start_time": "2024-07-05T13:27:20.108029100Z"
    }
   },
   "source": [
    "import pandas as pd\n",
    "from sklearn.model_selection import train_test_split\n",
    "from sklearn.preprocessing import MinMaxScaler\n",
    "from sklearn.neighbors import NearestNeighbors\n",
    "from API.datebase import create_df"
   ],
   "execution_count": 1,
   "outputs": []
  },
  {
   "metadata": {},
   "cell_type": "markdown",
   "source": [
    "## Loading data"
   ],
   "id": "97a2f7765728a3a6"
  },
  {
   "metadata": {
    "ExecuteTime": {
     "end_time": "2024-07-05T13:27:26.418927700Z",
     "start_time": "2024-07-05T13:27:25.373429500Z"
    }
   },
   "cell_type": "code",
   "source": [
    "df = create_df()\n",
    "df.head()"
   ],
   "id": "cdd0eb2ed33922f5",
   "execution_count": 2,
   "outputs": [
    {
     "name": "stdout",
     "output_type": "stream",
     "text": [
      "[{'id': 1, 'name': 'Akcja', 'id_generes': 28}, {'id': 1, 'name': 'Akcja', 'id_generes': 28}, {'id': 1, 'name': 'Akcja', 'id_generes': 28}, {'id': 1, 'name': 'Akcja', 'id_generes': 28}, {'id': 3, 'name': 'Przygodowy', 'id_generes': 12}, {'id': 3, 'name': 'Przygodowy', 'id_generes': 12}, {'id': 3, 'name': 'Przygodowy', 'id_generes': 12}, {'id': 3, 'name': 'Przygodowy', 'id_generes': 12}, {'id': 16, 'name': 'Sci-Fi', 'id_generes': 878}, {'id': 16, 'name': 'Sci-Fi', 'id_generes': 878}, {'id': 16, 'name': 'Sci-Fi', 'id_generes': 878}, {'id': 16, 'name': 'Sci-Fi', 'id_generes': 878}]\n",
      "{'id': 5, 'title': 'Furiosa: Saga Mad Max', 'original_title': 'Furiosa: A Mad Max Saga', 'original_language': 'en', 'overview': 'Kiedy świat upada, młoda Furiosa zostaje uprowadzona z Zielonego Miejsca Wielu Matek. Wpada w ręce potężnej Hordy Bikerów, której przewodzi watażka Dementus. Po przebyciu Pustkowi porywacze docierają do Cytadeli, gdzie rządzi Wieczny Joe. Dwóch tyranów zaczyna walkę o władzę, Furiosa zaś musi przetrwać wiele prób, jednocześnie gromadząc środki, które pozwolą jej wrócić do domu.', 'popularity': 3815.308, 'release_date': '2024-05-22', 'vote_average': 7.696, 'vote_count': 1718, 'keywords': 'furiosa, bikerów, cytadeli, dementus, docierają, domu, dwóch, gdzie, gromadząc, hordy, jednocześnie, jej, joe, kiedy, które', 'poster_path': '/eLFOjrfPs61kaSvbBej5wZfaHtL.jpg', 'genres': 'Akcja, Akcja, Akcja, Akcja, Przygodowy, Przygodowy, Przygodowy, Przygodowy, Sci-Fi, Sci-Fi, Sci-Fi, Sci-Fi'}\n",
      "[{'id': 14, 'name': 'Tajemnica', 'id_generes': 9648}, {'id': 14, 'name': 'Tajemnica', 'id_generes': 9648}, {'id': 14, 'name': 'Tajemnica', 'id_generes': 9648}]\n",
      "{'id': 6, 'title': 'Petricore', 'original_title': 'Petricore', 'original_language': 'it', 'overview': '', 'popularity': 1.386, 'release_date': '2024-06-15', 'vote_average': 0, 'vote_count': 0, 'keywords': '', 'poster_path': None, 'genres': 'Tajemnica, Tajemnica, Tajemnica'}\n",
      "[]\n",
      "{'id': 7, 'title': 'Rattle', 'original_title': 'Rattle', 'original_language': 'en', 'overview': '', 'popularity': 0.981, 'release_date': '2024-06-01', 'vote_average': 0, 'vote_count': 0, 'keywords': '', 'poster_path': None, 'genres': ''}\n",
      "[{'id': 7, 'name': 'Dokumentalny', 'id_generes': 99}, {'id': 7, 'name': 'Dokumentalny', 'id_generes': 99}]\n",
      "{'id': 8, 'title': 'The Killing Spree: Hunting Joanne Dennehy', 'original_title': 'The Killing Spree: Hunting Joanne Dennehy', 'original_language': 'en', 'overview': '', 'popularity': 1.4, 'release_date': '2024-06-18', 'vote_average': 0, 'vote_count': 0, 'keywords': '', 'poster_path': None, 'genres': 'Dokumentalny, Dokumentalny'}\n",
      "[{'id': 10, 'name': 'Fantasy', 'id_generes': 14}, {'id': 10, 'name': 'Fantasy', 'id_generes': 14}]\n",
      "{'id': 9, 'title': 'Cadillac: Go Louder', 'original_title': 'Cadillac: Go Louder', 'original_language': 'en', 'overview': '', 'popularity': 1.4, 'release_date': '2024-06-28', 'vote_average': 0, 'vote_count': 0, 'keywords': '', 'poster_path': '/d6Rtw6rDQgTWmH23BIOhLdBjXzR.jpg', 'genres': 'Fantasy, Fantasy'}\n",
      "[{'id': 5, 'name': 'Komedia', 'id_generes': 35}, {'id': 5, 'name': 'Komedia', 'id_generes': 35}, {'id': 16, 'name': 'Sci-Fi', 'id_generes': 878}, {'id': 16, 'name': 'Sci-Fi', 'id_generes': 878}]\n",
      "{'id': 10, 'title': '7G: The Fight Against Phones', 'original_title': '7G: The Fight Against Phones', 'original_language': 'en', 'overview': '', 'popularity': 1.4, 'release_date': '2024-07-05', 'vote_average': 0, 'vote_count': 0, 'keywords': '', 'poster_path': '/lPochZAucar1LVMTs2lSlXlKLmm.jpg', 'genres': 'Komedia, Komedia, Sci-Fi, Sci-Fi'}\n",
      "[{'id': 8, 'name': 'Dramat', 'id_generes': 18}, {'id': 8, 'name': 'Dramat', 'id_generes': 18}]\n",
      "{'id': 11, 'title': 'UNE ENFANCE', 'original_title': 'UNE ENFANCE', 'original_language': 'fr', 'overview': '', 'popularity': 1.4, 'release_date': '2024-07-04', 'vote_average': 0, 'vote_count': 0, 'keywords': '', 'poster_path': None, 'genres': 'Dramat, Dramat'}\n",
      "[{'id': 14, 'name': 'Tajemnica', 'id_generes': 9648}, {'id': 14, 'name': 'Tajemnica', 'id_generes': 9648}]\n",
      "{'id': 12, 'title': 'noturna', 'original_title': 'noturna', 'original_language': 'pt', 'overview': '', 'popularity': 1.4, 'release_date': '2024-07-05', 'vote_average': 0, 'vote_count': 0, 'keywords': '', 'poster_path': '/rmfBowz4UzvrWzEc2MlS3r6gPos.jpg', 'genres': 'Tajemnica, Tajemnica'}\n",
      "[{'id': 7, 'name': 'Dokumentalny', 'id_generes': 99}, {'id': 7, 'name': 'Dokumentalny', 'id_generes': 99}]\n",
      "{'id': 13, 'title': 'I Don’t Know James Rolfe', 'original_title': 'I Don’t Know James Rolfe', 'original_language': 'en', 'overview': '', 'popularity': 1.4, 'release_date': '2024-06-20', 'vote_average': 0, 'vote_count': 0, 'keywords': '', 'poster_path': None, 'genres': 'Dokumentalny, Dokumentalny'}\n",
      "[{'id': 3, 'name': 'Przygodowy', 'id_generes': 12}, {'id': 3, 'name': 'Przygodowy', 'id_generes': 12}]\n",
      "{'id': 14, 'title': \"Beerio Kart : Volume 1 (Director's Cut)\", 'original_title': \"Beerio Kart : Volume 1 (Director's Cut)\", 'original_language': 'it', 'overview': '', 'popularity': 1.4, 'release_date': '2024-07-03', 'vote_average': 0, 'vote_count': 0, 'keywords': '', 'poster_path': '/7vpEqNFSrHDbOSCOvv6na4kJQo.jpg', 'genres': 'Przygodowy, Przygodowy'}\n",
      "[]\n",
      "{'id': 15, 'title': 'Kiss Me Goodnight, for it May Be My Last', 'original_title': 'Kiss Me Goodnight, for it May Be My Last', 'original_language': 'en', 'overview': '', 'popularity': 1.4, 'release_date': '2024-07-04', 'vote_average': 0, 'vote_count': 0, 'keywords': '', 'poster_path': '/lA8ykZQNoLFYGWvsCIFASNuJenr.jpg', 'genres': ''}\n",
      "[{'id': 5, 'name': 'Komedia', 'id_generes': 35}, {'id': 5, 'name': 'Komedia', 'id_generes': 35}, {'id': 12, 'name': 'Horror', 'id_generes': 27}, {'id': 12, 'name': 'Horror', 'id_generes': 27}, {'id': 18, 'name': 'Thriller', 'id_generes': 53}, {'id': 18, 'name': 'Thriller', 'id_generes': 53}]\n",
      "{'id': 16, 'title': 'Inside No. 9: Ctrl/Alt/Esc', 'original_title': 'Inside No. 9: Ctrl/Alt/Esc', 'original_language': 'en', 'overview': '', 'popularity': 1.4, 'release_date': '2024-05-29', 'vote_average': 0, 'vote_count': 0, 'keywords': '', 'poster_path': None, 'genres': 'Komedia, Komedia, Horror, Horror, Thriller, Thriller'}\n",
      "[{'id': 5, 'name': 'Komedia', 'id_generes': 35}, {'id': 5, 'name': 'Komedia', 'id_generes': 35}, {'id': 12, 'name': 'Horror', 'id_generes': 27}, {'id': 12, 'name': 'Horror', 'id_generes': 27}]\n",
      "{'id': 17, 'title': 'The Legend of Gourdface', 'original_title': 'The Legend of Gourdface', 'original_language': 'en', 'overview': '', 'popularity': 1.4, 'release_date': '2024-06-26', 'vote_average': 0, 'vote_count': 0, 'keywords': '', 'poster_path': '/bFoEN4dhesp51xauZRA9dFVPHOb.jpg', 'genres': 'Komedia, Komedia, Horror, Horror'}\n",
      "[{'id': 3, 'name': 'Przygodowy', 'id_generes': 12}, {'id': 3, 'name': 'Przygodowy', 'id_generes': 12}, {'id': 18, 'name': 'Thriller', 'id_generes': 53}, {'id': 18, 'name': 'Thriller', 'id_generes': 53}]\n",
      "{'id': 18, 'title': '龙石密码', 'original_title': '龙石密码', 'original_language': 'zh', 'overview': '', 'popularity': 1.4, 'release_date': '2024-07-04', 'vote_average': 0, 'vote_count': 0, 'keywords': '', 'poster_path': '/2TQraja8cqC0ZkXvNsfhuH7D6FH.jpg', 'genres': 'Przygodowy, Przygodowy, Thriller, Thriller'}\n",
      "[{'id': 5, 'name': 'Komedia', 'id_generes': 35}, {'id': 5, 'name': 'Komedia', 'id_generes': 35}, {'id': 12, 'name': 'Horror', 'id_generes': 27}, {'id': 12, 'name': 'Horror', 'id_generes': 27}, {'id': 15, 'name': 'Romans', 'id_generes': 10749}, {'id': 15, 'name': 'Romans', 'id_generes': 10749}]\n",
      "{'id': 19, 'title': 'Killer Love', 'original_title': 'Killer Love', 'original_language': 'en', 'overview': '', 'popularity': 1.4, 'release_date': '2024-07-01', 'vote_average': 0, 'vote_count': 0, 'keywords': '', 'poster_path': None, 'genres': 'Komedia, Komedia, Horror, Horror, Romans, Romans'}\n",
      "[]\n",
      "{'id': 20, 'title': \"Mika Philharmonique aux Chorégies d'Orange\", 'original_title': \"Mika Philharmonique aux Chorégies d'Orange\", 'original_language': 'fr', 'overview': '', 'popularity': 1.4, 'release_date': '2024-06-23', 'vote_average': 0, 'vote_count': 0, 'keywords': '', 'poster_path': '/2fnOdWTNFABfGUA8CFCm6szp8pc.jpg', 'genres': ''}\n",
      "[{'id': 8, 'name': 'Dramat', 'id_generes': 18}, {'id': 8, 'name': 'Dramat', 'id_generes': 18}, {'id': 18, 'name': 'Thriller', 'id_generes': 53}, {'id': 18, 'name': 'Thriller', 'id_generes': 53}]\n",
      "{'id': 21, 'title': 'Heat, or: Sometimes the Fan Is Your Only Link to Life', 'original_title': 'Heat, or: Sometimes the Fan Is Your Only Link to Life', 'original_language': 'en', 'overview': '', 'popularity': 1.4, 'release_date': '2024-07-03', 'vote_average': 0, 'vote_count': 0, 'keywords': '', 'poster_path': None, 'genres': 'Dramat, Dramat, Thriller, Thriller'}\n",
      "[{'id': 12, 'name': 'Horror', 'id_generes': 27}, {'id': 12, 'name': 'Horror', 'id_generes': 27}, {'id': 18, 'name': 'Thriller', 'id_generes': 53}, {'id': 18, 'name': 'Thriller', 'id_generes': 53}]\n",
      "{'id': 22, 'title': 'Black Magic Baby', 'original_title': 'Black Magic Baby', 'original_language': 'en', 'overview': '', 'popularity': 0, 'release_date': '2024-07-03', 'vote_average': 0, 'vote_count': 0, 'keywords': '', 'poster_path': '/8gTgU24lU9lGhhAi8eYTkvHmgNo.jpg', 'genres': 'Horror, Horror, Thriller, Thriller'}\n",
      "[{'id': 5, 'name': 'Komedia', 'id_generes': 35}, {'id': 5, 'name': 'Komedia', 'id_generes': 35}, {'id': 8, 'name': 'Dramat', 'id_generes': 18}, {'id': 8, 'name': 'Dramat', 'id_generes': 18}]\n",
      "{'id': 23, 'title': 'De mooiste dag', 'original_title': 'De mooiste dag', 'original_language': 'nl', 'overview': '', 'popularity': 0, 'release_date': '2024-06-13', 'vote_average': 0, 'vote_count': 0, 'keywords': '', 'poster_path': '/hI3BTug42PeeKk4ldO6whqhLX5J.jpg', 'genres': 'Komedia, Komedia, Dramat, Dramat'}\n",
      "[]\n",
      "{'id': 24, 'title': 'Petricore', 'original_title': 'Petricore', 'original_language': 'it', 'overview': '', 'popularity': 1.386, 'release_date': '2024-06-15', 'vote_average': 0, 'vote_count': 0, 'keywords': '', 'poster_path': None, 'genres': ''}\n",
      "[]\n",
      "{'id': 25, 'title': 'Rattle', 'original_title': 'Rattle', 'original_language': 'en', 'overview': '', 'popularity': 0.981, 'release_date': '2024-06-01', 'vote_average': 0, 'vote_count': 0, 'keywords': '', 'poster_path': None, 'genres': ''}\n",
      "[]\n",
      "{'id': 26, 'title': 'The Killing Spree: Hunting Joanne Dennehy', 'original_title': 'The Killing Spree: Hunting Joanne Dennehy', 'original_language': 'en', 'overview': '', 'popularity': 1.4, 'release_date': '2024-06-18', 'vote_average': 0, 'vote_count': 0, 'keywords': '', 'poster_path': None, 'genres': ''}\n",
      "[]\n",
      "{'id': 27, 'title': 'Cadillac: Go Louder', 'original_title': 'Cadillac: Go Louder', 'original_language': 'en', 'overview': '', 'popularity': 1.4, 'release_date': '2024-06-28', 'vote_average': 0, 'vote_count': 0, 'keywords': '', 'poster_path': '/d6Rtw6rDQgTWmH23BIOhLdBjXzR.jpg', 'genres': ''}\n",
      "[]\n",
      "{'id': 28, 'title': '7G: The Fight Against Phones', 'original_title': '7G: The Fight Against Phones', 'original_language': 'en', 'overview': '', 'popularity': 1.4, 'release_date': '2024-07-05', 'vote_average': 0, 'vote_count': 0, 'keywords': '', 'poster_path': '/lPochZAucar1LVMTs2lSlXlKLmm.jpg', 'genres': ''}\n",
      "[]\n",
      "{'id': 29, 'title': 'UNE ENFANCE', 'original_title': 'UNE ENFANCE', 'original_language': 'fr', 'overview': '', 'popularity': 1.4, 'release_date': '2024-07-04', 'vote_average': 0, 'vote_count': 0, 'keywords': '', 'poster_path': None, 'genres': ''}\n",
      "[]\n",
      "{'id': 30, 'title': 'noturna', 'original_title': 'noturna', 'original_language': 'pt', 'overview': '', 'popularity': 1.4, 'release_date': '2024-07-05', 'vote_average': 0, 'vote_count': 0, 'keywords': '', 'poster_path': '/rmfBowz4UzvrWzEc2MlS3r6gPos.jpg', 'genres': ''}\n",
      "[]\n",
      "{'id': 31, 'title': 'I Don’t Know James Rolfe', 'original_title': 'I Don’t Know James Rolfe', 'original_language': 'en', 'overview': '', 'popularity': 1.4, 'release_date': '2024-06-20', 'vote_average': 0, 'vote_count': 0, 'keywords': '', 'poster_path': None, 'genres': ''}\n",
      "[]\n",
      "{'id': 32, 'title': \"Beerio Kart : Volume 1 (Director's Cut)\", 'original_title': \"Beerio Kart : Volume 1 (Director's Cut)\", 'original_language': 'it', 'overview': '', 'popularity': 1.4, 'release_date': '2024-07-03', 'vote_average': 0, 'vote_count': 0, 'keywords': '', 'poster_path': '/7vpEqNFSrHDbOSCOvv6na4kJQo.jpg', 'genres': ''}\n",
      "[]\n",
      "{'id': 33, 'title': 'Kiss Me Goodnight, for it May Be My Last', 'original_title': 'Kiss Me Goodnight, for it May Be My Last', 'original_language': 'en', 'overview': '', 'popularity': 1.4, 'release_date': '2024-07-04', 'vote_average': 0, 'vote_count': 0, 'keywords': '', 'poster_path': '/lA8ykZQNoLFYGWvsCIFASNuJenr.jpg', 'genres': ''}\n",
      "[]\n",
      "{'id': 34, 'title': 'Inside No. 9: Ctrl/Alt/Esc', 'original_title': 'Inside No. 9: Ctrl/Alt/Esc', 'original_language': 'en', 'overview': '', 'popularity': 1.4, 'release_date': '2024-05-29', 'vote_average': 0, 'vote_count': 0, 'keywords': '', 'poster_path': None, 'genres': ''}\n",
      "[]\n",
      "{'id': 35, 'title': 'The Legend of Gourdface', 'original_title': 'The Legend of Gourdface', 'original_language': 'en', 'overview': '', 'popularity': 1.4, 'release_date': '2024-06-26', 'vote_average': 0, 'vote_count': 0, 'keywords': '', 'poster_path': '/bFoEN4dhesp51xauZRA9dFVPHOb.jpg', 'genres': ''}\n",
      "[]\n",
      "{'id': 36, 'title': '龙石密码', 'original_title': '龙石密码', 'original_language': 'zh', 'overview': '', 'popularity': 1.4, 'release_date': '2024-07-04', 'vote_average': 0, 'vote_count': 0, 'keywords': '', 'poster_path': '/2TQraja8cqC0ZkXvNsfhuH7D6FH.jpg', 'genres': ''}\n",
      "[]\n",
      "{'id': 37, 'title': 'Killer Love', 'original_title': 'Killer Love', 'original_language': 'en', 'overview': '', 'popularity': 1.4, 'release_date': '2024-07-01', 'vote_average': 0, 'vote_count': 0, 'keywords': '', 'poster_path': None, 'genres': ''}\n",
      "[]\n",
      "{'id': 38, 'title': \"Mika Philharmonique aux Chorégies d'Orange\", 'original_title': \"Mika Philharmonique aux Chorégies d'Orange\", 'original_language': 'fr', 'overview': '', 'popularity': 1.4, 'release_date': '2024-06-23', 'vote_average': 0, 'vote_count': 0, 'keywords': '', 'poster_path': '/2fnOdWTNFABfGUA8CFCm6szp8pc.jpg', 'genres': ''}\n",
      "[]\n",
      "{'id': 39, 'title': 'Heat, or: Sometimes the Fan Is Your Only Link to Life', 'original_title': 'Heat, or: Sometimes the Fan Is Your Only Link to Life', 'original_language': 'en', 'overview': '', 'popularity': 1.4, 'release_date': '2024-07-03', 'vote_average': 0, 'vote_count': 0, 'keywords': '', 'poster_path': None, 'genres': ''}\n",
      "[]\n",
      "{'id': 40, 'title': 'Black Magic Baby', 'original_title': 'Black Magic Baby', 'original_language': 'en', 'overview': '', 'popularity': 0, 'release_date': '2024-07-03', 'vote_average': 0, 'vote_count': 0, 'keywords': '', 'poster_path': '/8gTgU24lU9lGhhAi8eYTkvHmgNo.jpg', 'genres': ''}\n",
      "[]\n",
      "{'id': 41, 'title': 'De mooiste dag', 'original_title': 'De mooiste dag', 'original_language': 'nl', 'overview': '', 'popularity': 0, 'release_date': '2024-06-13', 'vote_average': 0, 'vote_count': 0, 'keywords': '', 'poster_path': '/hI3BTug42PeeKk4ldO6whqhLX5J.jpg', 'genres': ''}\n",
      "[{'id': 3, 'name': 'Przygodowy', 'id_generes': 12}, {'id': 3, 'name': 'Przygodowy', 'id_generes': 12}, {'id': 4, 'name': 'Animacja', 'id_generes': 16}, {'id': 4, 'name': 'Animacja', 'id_generes': 16}, {'id': 5, 'name': 'Komedia', 'id_generes': 35}, {'id': 5, 'name': 'Komedia', 'id_generes': 35}, {'id': 9, 'name': 'Familijny', 'id_generes': 10751}, {'id': 9, 'name': 'Familijny', 'id_generes': 10751}]\n",
      "{'id': 43, 'title': 'W głowie się nie mieści 2', 'original_title': 'Inside Out 2', 'original_language': 'en', 'overview': 'W głowie się nie mieści 2 to powrót do umysłu Riley, obecnie świeżo upieczonej nastolatki. Centrala sterowania przechodzi gruntowny remont, bo pojawiły się nowe Emocje! Radość, Smutek, Złość, Strach i Odraza, które dotąd z powodzeniem kierowały całym przedsięwzięciem, z pewnym wahaniem witają nowego przybysza: Niepewność. A to dopiero początek zmian.', 'popularity': 4051.852, 'release_date': '2024-06-11', 'vote_average': 7.705, 'vote_count': 1319, 'keywords': 'się, bo, całym, centrala, dopiero, dotąd, emocje, gruntowny, głowie, kierowały, które, mieści, nastolatki, nie, niepewność, nowe, nowego, obecnie, odraza, pewnym', 'poster_path': '/3WtgdDuBexirMyGFvXmcyQcIAfj.jpg', 'genres': 'Przygodowy, Przygodowy, Animacja, Animacja, Komedia, Komedia, Familijny, Familijny'}\n",
      "[{'id': 8, 'name': 'Dramat', 'id_generes': 18}, {'id': 13, 'name': 'Muzyczny', 'id_generes': 10402}]\n",
      "{'id': 63, 'title': 'We Dream of Eden', 'original_title': 'We Dream of Eden', 'original_language': 'en', 'overview': '', 'popularity': 13.788, 'release_date': '2024-07-03', 'vote_average': 0, 'vote_count': 0, 'keywords': '', 'poster_path': '/6j8ZdRGb6AVyQgsGJdBm6B2H2z.jpg', 'genres': 'Dramat, Muzyczny'}\n",
      "[]\n",
      "{'id': 148, 'title': 'Discovering Love', 'original_title': 'Discovering Love', 'original_language': 'en', 'overview': '', 'popularity': 2.027, 'release_date': '2024-06-23', 'vote_average': 0, 'vote_count': 0, 'keywords': '', 'poster_path': None, 'genres': ''}\n",
      "[{'id': 1, 'name': 'Akcja', 'id_generes': 28}, {'id': 4, 'name': 'Animacja', 'id_generes': 16}, {'id': 4, 'name': 'Animacja', 'id_generes': 16}, {'id': 5, 'name': 'Komedia', 'id_generes': 35}, {'id': 9, 'name': 'Familijny', 'id_generes': 10751}]\n",
      "{'id': 44, 'title': 'Gru i Minionki: Pod przykrywką', 'original_title': 'Despicable Me 4', 'original_language': 'en', 'overview': 'Gru, ulubiony super-złoczyńca świata, powraca w ekscytującej, nowej odsłonie komedii animowanej „Gru i Minionki: Pod przykrywką”. Gru i Lucy oraz ich córeczki: – Margo , Edith i Agnes powitają nowego członka rodziny Gru juniora. Gru będzie musiał zmierzyć się z nowym nemezis w postaci Maxime’a Le Mala i jego femme fatale, Valentiny. Pełen nieprzerwanej akcji i charakterystycznego, przewrotnego humoru film „Gru i Minionki: Pod Przykrywką” został wyreżyserowany przez nominowanego do Oscara® Chrisa Renauda i wyprodukowany przez Illumination.', 'popularity': 1454.287, 'release_date': '2024-06-20', 'vote_average': 8.4, 'vote_count': 81, 'keywords': 'gru, minionki, pod, przez, przykrywką, agnes, akcji, animowanej, będzie, charakterystycznego, chrisa, członka, córeczki, edith, ekscytującej, fatale, femme, film, humoru, ich', 'poster_path': '/91MTLexAI0am1x0yuvZfIIAkDzr.jpg', 'genres': 'Akcja, Animacja, Animacja, Komedia, Familijny'}\n",
      "[{'id': 1, 'name': 'Akcja', 'id_generes': 28}, {'id': 5, 'name': 'Komedia', 'id_generes': 35}, {'id': 6, 'name': 'Kryminał', 'id_generes': 80}, {'id': 18, 'name': 'Thriller', 'id_generes': 53}]\n",
      "{'id': 45, 'title': 'Bad Boys: Ride or Die', 'original_title': 'Bad Boys: Ride or Die', 'original_language': 'en', 'overview': 'Po tym, jak ich zmarły były kapitan zostaje wrobiony, Lowrey i Burnett próbują oczyścić jego imię, ale sami kończą na ucieczce.', 'popularity': 1415.762, 'release_date': '2024-06-05', 'vote_average': 7, 'vote_count': 485, 'keywords': 'ale, burnett, były, ich, imię, jak, jego, kapitan, kończą, lowrey, na, oczyścić, po, próbują, sami, tym, ucieczce, wrobiony, zmarły, zostaje', 'poster_path': '/9iH7jNWI4vctHz7sTcJBoXhGGDH.jpg', 'genres': 'Akcja, Komedia, Kryminał, Thriller'}\n",
      "[]\n",
      "{'id': 46, 'title': 'Weteranka', 'original_title': 'Trigger Warning', 'original_language': 'en', 'overview': 'Komandoska wraca do rodzinnego miasteczka na pogrzeb ukochanego ojca. Szukając odpowiedzi na pytania związane z jego śmiercią, odkrywa groźny spisek.', 'popularity': 1098.458, 'release_date': '2024-06-20', 'vote_average': 5.75, 'vote_count': 244, 'keywords': 'na, groźny, jego, komandoska, miasteczka, odkrywa, odpowiedzi, ojca, pogrzeb, pytania, rodzinnego, spisek, szukając, ukochanego, wraca, związane, śmiercią', 'poster_path': '/6XJM3C47iGOK9nFU6yLFCSf4U5c.jpg', 'genres': ''}\n",
      "[]\n",
      "{'id': 48, 'title': 'W głowie się nie mieści 2', 'original_title': 'Inside Out 2', 'original_language': 'en', 'overview': 'W głowie się nie mieści 2 to powrót do umysłu Riley, obecnie świeżo upieczonej nastolatki. Centrala sterowania przechodzi gruntowny remont, bo pojawiły się nowe Emocje! Radość, Smutek, Złość, Strach i Odraza, które dotąd z powodzeniem kierowały całym przedsięwzięciem, z pewnym wahaniem witają nowego przybysza: Niepewność. A to dopiero początek zmian.', 'popularity': 4051.852, 'release_date': '2024-06-11', 'vote_average': 7.705, 'vote_count': 1319, 'keywords': 'się, bo, całym, centrala, dopiero, dotąd, emocje, gruntowny, głowie, kierowały, które, mieści, nastolatki, nie, niepewność, nowe, nowego, obecnie, odraza, pewnym', 'poster_path': '/3WtgdDuBexirMyGFvXmcyQcIAfj.jpg', 'genres': ''}\n",
      "[]\n",
      "{'id': 49, 'title': 'Gru i Minionki: Pod przykrywką', 'original_title': 'Despicable Me 4', 'original_language': 'en', 'overview': 'Gru, ulubiony super-złoczyńca świata, powraca w ekscytującej, nowej odsłonie komedii animowanej „Gru i Minionki: Pod przykrywką”. Gru i Lucy oraz ich córeczki: – Margo , Edith i Agnes powitają nowego członka rodziny Gru juniora. Gru będzie musiał zmierzyć się z nowym nemezis w postaci Maxime’a Le Mala i jego femme fatale, Valentiny. Pełen nieprzerwanej akcji i charakterystycznego, przewrotnego humoru film „Gru i Minionki: Pod Przykrywką” został wyreżyserowany przez nominowanego do Oscara® Chrisa Renauda i wyprodukowany przez Illumination.', 'popularity': 1454.287, 'release_date': '2024-06-20', 'vote_average': 8.4, 'vote_count': 81, 'keywords': 'gru, minionki, pod, przez, przykrywką, agnes, akcji, animowanej, będzie, charakterystycznego, chrisa, członka, córeczki, edith, ekscytującej, fatale, femme, film, humoru, ich', 'poster_path': '/91MTLexAI0am1x0yuvZfIIAkDzr.jpg', 'genres': ''}\n",
      "[{'id': 5, 'name': 'Komedia', 'id_generes': 35}]\n",
      "{'id': 51, 'title': 'Es por su bien', 'original_title': 'Es por su bien', 'original_language': 'en', 'overview': '', 'popularity': 302.952, 'release_date': '2024-06-21', 'vote_average': 7.5, 'vote_count': 44, 'keywords': '', 'poster_path': '/f7udxOX5DiAHFtq4pid99M65leg.jpg', 'genres': 'Komedia'}\n",
      "[{'id': 8, 'name': 'Dramat', 'id_generes': 18}, {'id': 15, 'name': 'Romans', 'id_generes': 10749}]\n",
      "{'id': 52, 'title': 'Ipar Adalah Maut', 'original_title': 'Ipar Adalah Maut', 'original_language': 'id', 'overview': '', 'popularity': 123.483, 'release_date': '2024-06-13', 'vote_average': 7, 'vote_count': 4, 'keywords': '', 'poster_path': '/ot3AH9MEDhsKZAD9oqmDH5f6xU9.jpg', 'genres': 'Dramat, Romans'}\n",
      "[{'id': 16, 'name': 'Sci-Fi', 'id_generes': 878}]\n",
      "{'id': 53, 'title': 'Kora', 'original_title': 'Cora', 'original_language': 'en', 'overview': 'Śmiercionośna mgła pokryła ziemię, skutecznie unicestwiając większość ludzkości. Tajemnicza organizacja próbuje ocalić to, co pozostało.', 'popularity': 100.361, 'release_date': '2024-05-31', 'vote_average': 4.5, 'vote_count': 4, 'keywords': 'co, ludzkości, mgła, ocalić, organizacja, pokryła, pozostało, próbuje, skutecznie, tajemnicza, unicestwiając, większość, ziemię, śmiercionośna', 'poster_path': '/5c28mVcDUzUMLNOk28iWx8Mm3sd.jpg', 'genres': 'Sci-Fi'}\n",
      "[{'id': 12, 'name': 'Horror', 'id_generes': 27}, {'id': 18, 'name': 'Thriller', 'id_generes': 53}]\n",
      "{'id': 54, 'title': 'Strangers', 'original_title': 'The Strangers: Chapter 1', 'original_language': 'en', 'overview': 'Zakochani Maya i Ryan w trakcie beztroskiej podróży przez Stany, trafiają do małej miejscowości ukrytej gdzieś w głębi lasu. Gdy wieczorem chcą ruszyć w dalszą drogę,...', 'popularity': 87.435, 'release_date': '2024-05-15', 'vote_average': 5.759, 'vote_count': 164, 'keywords': 'beztroskiej, chcą, dalszą, drogę, gdy, gdzieś, głębi, lasu, maya, małej, miejscowości, podróży, przez, ruszyć, ryan, stany, trafiają, trakcie, ukrytej, wieczorem', 'poster_path': '/cdFZoQDxLRRWXLB3kxCnc674dBF.jpg', 'genres': 'Horror, Thriller'}\n",
      "[{'id': 7, 'name': 'Dokumentalny', 'id_generes': 99}]\n",
      "{'id': 55, 'title': 'Federer: Dwanaście ostatnich dni', 'original_title': 'Federer: Twelve Final Days', 'original_language': 'en', 'overview': '', 'popularity': 49.587, 'release_date': '2024-06-13', 'vote_average': 7.904, 'vote_count': 26, 'keywords': '', 'poster_path': '/A15nvIYUzLEZS65vUQkZMorwNwE.jpg', 'genres': 'Dokumentalny'}\n",
      "[{'id': 1, 'name': 'Akcja', 'id_generes': 28}, {'id': 8, 'name': 'Dramat', 'id_generes': 18}]\n",
      "{'id': 56, 'title': 'Siedmiu samurajów', 'original_title': '七人の侍', 'original_language': 'ja', 'overview': 'Dramat samurajski. Epicka opowieść, której treścią jest historia mieszkańców pewnej japońskiej wioski nękanej i co roku najeżdżanej przez bandę 40-tu opryszków zabierających jej mieszkańcom coroczny dorobek ich ciężkiej pracy na roli. Zdesperowani rolnicy wynajmują do obrony przed bandytami roninów - samurajów \"bez pana\", którzy za przysłowiową \"garstkę ryżu\" podejmują walkę z najeźdźcami.', 'popularity': 44.449, 'release_date': '1954-04-26', 'vote_average': 8.458, 'vote_count': 3537, 'keywords': 'bandytami, bandę, bez, ciężkiej, co, coroczny, dorobek, dramat, epicka, garstkę, historia, ich, japońskiej, jej, jest, której, którzy, mieszkańcom, mieszkańców, na', 'poster_path': '/8G8a4UeEpC20ieFBMnZYYKkJUgS.jpg', 'genres': 'Akcja, Dramat'}\n",
      "[{'id': 8, 'name': 'Dramat', 'id_generes': 18}, {'id': 15, 'name': 'Romans', 'id_generes': 10749}, {'id': 16, 'name': 'Sci-Fi', 'id_generes': 878}]\n",
      "{'id': 57, 'title': 'Bestia', 'original_title': 'La Bête', 'original_language': 'fr', 'overview': '', 'popularity': 26.087, 'release_date': '2023-09-03', 'vote_average': 6.411, 'vote_count': 62, 'keywords': '', 'poster_path': '/aNLGMfyhz1ZRSHMkrUvJDTkW9Oe.jpg', 'genres': 'Dramat, Romans, Sci-Fi'}\n",
      "[{'id': 5, 'name': 'Komedia', 'id_generes': 35}, {'id': 6, 'name': 'Kryminał', 'id_generes': 80}]\n",
      "{'id': 58, 'title': '扫黑·决不放弃', 'original_title': '扫黑·决不放弃', 'original_language': 'zh', 'overview': '', 'popularity': 35.021, 'release_date': '2024-05-25', 'vote_average': 7.3, 'vote_count': 3, 'keywords': '', 'poster_path': '/2zjx2dqvkRgHu6YBGRj8ZY2rDaO.jpg', 'genres': 'Komedia, Kryminał'}\n",
      "[{'id': 5, 'name': 'Komedia', 'id_generes': 35}, {'id': 12, 'name': 'Horror', 'id_generes': 27}]\n",
      "{'id': 59, 'title': '핸섬가이즈', 'original_title': '핸섬가이즈', 'original_language': 'ko', 'overview': '', 'popularity': 31.359, 'release_date': '2024-06-26', 'vote_average': 0, 'vote_count': 0, 'keywords': '', 'poster_path': '/ng4oX4mzPr8x53yF8gw5zGtpDLD.jpg', 'genres': 'Komedia, Horror'}\n",
      "[{'id': 8, 'name': 'Dramat', 'id_generes': 18}]\n",
      "{'id': 60, 'title': 'Frisch', 'original_title': 'Frisch', 'original_language': 'de', 'overview': '', 'popularity': 23.224, 'release_date': '2024-07-04', 'vote_average': 0, 'vote_count': 0, 'keywords': '', 'poster_path': None, 'genres': 'Dramat'}\n",
      "[{'id': 1, 'name': 'Akcja', 'id_generes': 28}, {'id': 6, 'name': 'Kryminał', 'id_generes': 80}, {'id': 18, 'name': 'Thriller', 'id_generes': 53}]\n",
      "{'id': 61, 'title': '하이재킹', 'original_title': '하이재킹', 'original_language': 'ko', 'overview': '', 'popularity': 24.133, 'release_date': '2024-06-21', 'vote_average': 8.5, 'vote_count': 1, 'keywords': '', 'poster_path': '/uEpFxsBse6JY4OztlsuyAQoGszy.jpg', 'genres': 'Akcja, Kryminał, Thriller'}\n",
      "[{'id': 5, 'name': 'Komedia', 'id_generes': 35}, {'id': 9, 'name': 'Familijny', 'id_generes': 10751}]\n",
      "{'id': 62, 'title': 'العيد عيدين', 'original_title': 'العيد عيدين', 'original_language': 'ar', 'overview': '', 'popularity': 21.681, 'release_date': '2024-07-04', 'vote_average': 0, 'vote_count': 0, 'keywords': '', 'poster_path': '/tP4lEQlIrbx2k2LgGLNamFbaD7s.jpg', 'genres': 'Komedia, Familijny'}\n",
      "[{'id': 8, 'name': 'Dramat', 'id_generes': 18}]\n",
      "{'id': 64, 'title': 'Pamięć', 'original_title': 'Memory', 'original_language': 'en', 'overview': 'Sylvia jest pracownikiem socjalnym, prowadzi proste i uporządkowane życie - córka, praca, spotkania AA. Sytuacja ulega zmianie, gdy wraca ze zjazdu absolwentów liceum, a jej śladem podąża Saul. Niespodziewane spotkanie będzie miało głęboki wpływ na ich oboje, otwierając drzwi do przeszłości', 'popularity': 15.794, 'release_date': '2023-12-22', 'vote_average': 7.226, 'vote_count': 84, 'keywords': 'aa, absolwentów, będzie, córka, drzwi, gdy, głęboki, ich, jej, jest, liceum, miało, na, niespodziewane, oboje, otwierając, podąża, praca, pracownikiem, proste', 'poster_path': '/2H0jEGu27K9ZCXWReJzSsEy3esT.jpg', 'genres': 'Dramat'}\n",
      "[{'id': 5, 'name': 'Komedia', 'id_generes': 35}]\n",
      "{'id': 65, 'title': 'Builder Boys', 'original_title': 'Builder Boys', 'original_language': 'gu', 'overview': '', 'popularity': 28.106, 'release_date': '2024-07-05', 'vote_average': 0, 'vote_count': 0, 'keywords': '', 'poster_path': '/pUR3MvtlvAKyKqqdUymsM79hOoo.jpg', 'genres': 'Komedia'}\n",
      "[{'id': 8, 'name': 'Dramat', 'id_generes': 18}]\n",
      "{'id': 66, 'title': 'Ostatnia sesja Freuda', 'original_title': \"Freud's Last Session\", 'original_language': 'en', 'overview': 'Historia opowiada o ostatniej sesji terapeutycznej Zygmunta Freuda, do którego przychodzi C.S. Lewis, znany jako twórca książkowej Opowieści z Narni. W rzeczywistości panowie nigdy się nie spotkali, a opowieść jest całkowicie fikcyjna. W Freuda wciela się Anthony Hopkins, a Lewisa gra Matthew Goode.', 'popularity': 26.047, 'release_date': '2023-12-22', 'vote_average': 6.492, 'vote_count': 60, 'keywords': 'freuda, się, anthony, całkowicie, fikcyjna, goode, gra, historia, hopkins, jako, jest, książkowej, którego, lewis, lewisa, matthew, narni, nie, nigdy, opowiada', 'poster_path': '/mp7IBxFuvNZSVOOGESybvaPxd7y.jpg', 'genres': 'Dramat'}\n",
      "[]\n",
      "{'id': 67, 'title': 'ほんとにあった！呪いのビデオ106', 'original_title': 'ほんとにあった！呪いのビデオ106', 'original_language': 'ja', 'overview': '', 'popularity': 24.227, 'release_date': '2024-07-05', 'vote_average': 0, 'vote_count': 0, 'keywords': '', 'poster_path': None, 'genres': ''}\n",
      "[{'id': 6, 'name': 'Kryminał', 'id_generes': 80}, {'id': 7, 'name': 'Dokumentalny', 'id_generes': 99}]\n",
      "{'id': 68, 'title': 'Nelma Kodama: Królowa brudnych pieniędzy', 'original_title': 'Doleira: A História de Nelma Kodama', 'original_language': 'pt', 'overview': 'Po wyjściu z więzienia niesławna cinkciarka Nelma Kodama ujawnia swoją rolę w dużym skandalu korupcyjnym w Brazylii.', 'popularity': 22.261, 'release_date': '2024-06-06', 'vote_average': 6.2, 'vote_count': 6, 'keywords': 'brazylii, cinkciarka, dużym, kodama, korupcyjnym, nelma, niesławna, po, rolę, skandalu, swoją, ujawnia, więzienia, wyjściu', 'poster_path': '/zOMu5Q3jYO2v1C8MULsSmhwNzrI.jpg', 'genres': 'Kryminał, Dokumentalny'}\n",
      "[{'id': 4, 'name': 'Animacja', 'id_generes': 16}, {'id': 5, 'name': 'Komedia', 'id_generes': 35}]\n",
      "{'id': 69, 'title': 'BRUTUS', 'original_title': 'BRUTUS', 'original_language': 'en', 'overview': '', 'popularity': 9.331, 'release_date': '2024-07-02', 'vote_average': 10, 'vote_count': 1, 'keywords': '', 'poster_path': '/kBGDWvAyGYeVAHil0j8BgLrmZX0.jpg', 'genres': 'Animacja, Komedia'}\n",
      "[{'id': 5, 'name': 'Komedia', 'id_generes': 35}, {'id': 8, 'name': 'Dramat', 'id_generes': 18}]\n",
      "{'id': 70, 'title': 'Nie obiecujcie sobie zbyt wiele po końcu świata', 'original_title': 'Nu Aștepta Prea Mult de la Sfârșitul Lumii', 'original_language': 'ro', 'overview': '', 'popularity': 16.563, 'release_date': '2023-09-27', 'vote_average': 7.273, 'vote_count': 44, 'keywords': '', 'poster_path': '/aQ098nQcGhPSsanBF8C3wy8Pvuc.jpg', 'genres': 'Komedia, Dramat'}\n",
      "[{'id': 1, 'name': 'Akcja', 'id_generes': 28}, {'id': 8, 'name': 'Dramat', 'id_generes': 18}]\n",
      "{'id': 71, 'title': '特捜戦隊デカレンジャー20th ファイヤーボール・ブースター', 'original_title': '特捜戦隊デカレンジャー20th ファイヤーボール・ブースター', 'original_language': 'ja', 'overview': '', 'popularity': 15.746, 'release_date': '2024-06-07', 'vote_average': 0, 'vote_count': 0, 'keywords': '', 'poster_path': '/iuey7GTiq5Vf6M28QTU9ZtbdmpC.jpg', 'genres': 'Akcja, Dramat'}\n",
      "[{'id': 1, 'name': 'Akcja', 'id_generes': 28}, {'id': 3, 'name': 'Przygodowy', 'id_generes': 12}, {'id': 5, 'name': 'Komedia', 'id_generes': 35}]\n",
      "{'id': 72, 'title': 'Setki bobrów', 'original_title': 'Hundreds of Beavers', 'original_language': 'en', 'overview': 'Szalona slapstickowa komedia prosto z USA. Co zrobisz, gdy w wyniku inwazji humanoidalnych bobrów stracisz cały dorobek życia?', 'popularity': 17.611, 'release_date': '2024-01-26', 'vote_average': 7.37, 'vote_count': 46, 'keywords': 'bobrów, cały, co, dorobek, gdy, humanoidalnych, inwazji, komedia, prosto, slapstickowa, stracisz, szalona, usa, wyniku, zrobisz, życia', 'poster_path': '/5VeM1l5qrEcT49JZ3xrci1NT2B6.jpg', 'genres': 'Akcja, Przygodowy, Komedia'}\n",
      "[{'id': 5, 'name': 'Komedia', 'id_generes': 35}]\n",
      "{'id': 73, 'title': 'Puan', 'original_title': 'Puan', 'original_language': 'es', 'overview': '', 'popularity': 11.63, 'release_date': '2023-10-05', 'vote_average': 6.861, 'vote_count': 17, 'keywords': '', 'poster_path': '/iusTlaCKAv6JQmPXdmHyRTSLeae.jpg', 'genres': 'Komedia'}\n",
      "[{'id': 15, 'name': 'Romans', 'id_generes': 10749}]\n",
      "{'id': 74, 'title': 'Operation Nutcracker', 'original_title': 'Operation Nutcracker', 'original_language': 'en', 'overview': '', 'popularity': 9.008, 'release_date': '2024-07-01', 'vote_average': 0, 'vote_count': 0, 'keywords': '', 'poster_path': '/A0YgWjD86PA5aiuj1kAvfzYILS6.jpg', 'genres': 'Romans'}\n",
      "[{'id': 5, 'name': 'Komedia', 'id_generes': 35}, {'id': 8, 'name': 'Dramat', 'id_generes': 18}]\n",
      "{'id': 75, 'title': 'The Sweet East', 'original_title': 'The Sweet East', 'original_language': 'en', 'overview': '', 'popularity': 15.512, 'release_date': '2023-12-01', 'vote_average': 6.622, 'vote_count': 37, 'keywords': '', 'poster_path': '/aMDGwI5WiaII7s8z8vKN9qpH3jS.jpg', 'genres': 'Komedia, Dramat'}\n",
      "[{'id': 4, 'name': 'Animacja', 'id_generes': 16}, {'id': 9, 'name': 'Familijny', 'id_generes': 10751}]\n",
      "{'id': 76, 'title': 'Capitán Avispa', 'original_title': 'Capitán Avispa', 'original_language': 'es', 'overview': '', 'popularity': 12.04, 'release_date': '2024-04-04', 'vote_average': 0, 'vote_count': 0, 'keywords': '', 'poster_path': '/zmthz3CuFljmBQcfuaz4hBNwbQ0.jpg', 'genres': 'Animacja, Familijny'}\n",
      "[{'id': 7, 'name': 'Dokumentalny', 'id_generes': 99}]\n",
      "{'id': 77, 'title': 'Threads That Tie Us: An Oshwal Odyssey', 'original_title': 'Threads That Tie Us: An Oshwal Odyssey', 'original_language': 'en', 'overview': '', 'popularity': 13.859, 'release_date': '2024-07-07', 'vote_average': 0, 'vote_count': 0, 'keywords': '', 'poster_path': None, 'genres': 'Dokumentalny'}\n",
      "[{'id': 7, 'name': 'Dokumentalny', 'id_generes': 99}]\n",
      "{'id': 78, 'title': 'Habana Shakes', 'original_title': 'Habana Shakes', 'original_language': 'en', 'overview': '', 'popularity': 5.721, 'release_date': '2024-06-30', 'vote_average': 0, 'vote_count': 0, 'keywords': '', 'poster_path': '/qzzuXqaXrD0o2X0xWdjyTg8ysVg.jpg', 'genres': 'Dokumentalny'}\n",
      "[{'id': 4, 'name': 'Animacja', 'id_generes': 16}, {'id': 5, 'name': 'Komedia', 'id_generes': 35}]\n",
      "{'id': 79, 'title': \"It's Such a Beautiful Day\", 'original_title': \"It's Such a Beautiful Day\", 'original_language': 'en', 'overview': '', 'popularity': 8.621, 'release_date': '2012-08-24', 'vote_average': 7.9, 'vote_count': 304, 'keywords': '', 'poster_path': '/hop0dsM4nxyNENGhBhpJWTCJ5rS.jpg', 'genres': 'Animacja, Komedia'}\n",
      "[{'id': 5, 'name': 'Komedia', 'id_generes': 35}]\n",
      "{'id': 80, 'title': 'Bad Shabbos', 'original_title': 'Bad Shabbos', 'original_language': 'en', 'overview': '', 'popularity': 5.66, 'release_date': '2024-06-10', 'vote_average': 6, 'vote_count': 2, 'keywords': '', 'poster_path': '/84cEj8nVFIlkiWruoe11NMYaKIN.jpg', 'genres': 'Komedia'}\n",
      "[{'id': 5, 'name': 'Komedia', 'id_generes': 35}, {'id': 6, 'name': 'Kryminał', 'id_generes': 80}, {'id': 18, 'name': 'Thriller', 'id_generes': 53}]\n",
      "{'id': 81, 'title': 'La Familia', 'original_title': 'La Familia', 'original_language': 'es', 'overview': '', 'popularity': 5.035, 'release_date': '2024-06-13', 'vote_average': 0, 'vote_count': 0, 'keywords': '', 'poster_path': '/8CL3Hr9agAg6dY0hufxCJp5iTCU.jpg', 'genres': 'Komedia, Kryminał, Thriller'}\n",
      "[{'id': 6, 'name': 'Kryminał', 'id_generes': 80}, {'id': 8, 'name': 'Dramat', 'id_generes': 18}]\n",
      "{'id': 82, 'title': 'Paradise', 'original_title': 'Paradise', 'original_language': 'en', 'overview': '', 'popularity': 8.167, 'release_date': '2024-06-21', 'vote_average': 9, 'vote_count': 1, 'keywords': '', 'poster_path': '/pYl7ydDvidoaM2Q8pLx8rGn8WRg.jpg', 'genres': 'Kryminał, Dramat'}\n",
      "[{'id': 10, 'name': 'Fantasy', 'id_generes': 14}, {'id': 14, 'name': 'Tajemnica', 'id_generes': 9648}]\n",
      "{'id': 83, 'title': 'Fleyne: La Paloma Áptera', 'original_title': 'Fleyne: La Paloma Áptera', 'original_language': 'es', 'overview': '', 'popularity': 5.112, 'release_date': '2024-06-30', 'vote_average': 0, 'vote_count': 0, 'keywords': '', 'poster_path': '/lCI2utlSpU5GEfzo5bWe1o7kphh.jpg', 'genres': 'Fantasy, Tajemnica'}\n",
      "[{'id': 7, 'name': 'Dokumentalny', 'id_generes': 99}, {'id': 11, 'name': 'Historyczny', 'id_generes': 36}]\n",
      "{'id': 84, 'title': 'Copa 71', 'original_title': 'Copa 71', 'original_language': 'en', 'overview': '', 'popularity': 10.648, 'release_date': '2024-03-08', 'vote_average': 7.3, 'vote_count': 5, 'keywords': '', 'poster_path': '/ogomdWRAJpONcErSvyeby3scrFn.jpg', 'genres': 'Dokumentalny, Historyczny'}\n",
      "[{'id': 8, 'name': 'Dramat', 'id_generes': 18}, {'id': 9, 'name': 'Familijny', 'id_generes': 10751}]\n",
      "{'id': 85, 'title': '세상 참 예쁜 오드리', 'original_title': '세상 참 예쁜 오드리', 'original_language': 'ko', 'overview': '', 'popularity': 10.359, 'release_date': '2024-07-09', 'vote_average': 0, 'vote_count': 0, 'keywords': '', 'poster_path': '/y5qImXLKdfXfKPhkzpMPbntOe5r.jpg', 'genres': 'Dramat, Familijny'}\n",
      "[{'id': 1, 'name': 'Akcja', 'id_generes': 28}, {'id': 5, 'name': 'Komedia', 'id_generes': 35}, {'id': 6, 'name': 'Kryminał', 'id_generes': 80}, {'id': 8, 'name': 'Dramat', 'id_generes': 18}, {'id': 15, 'name': 'Romans', 'id_generes': 10749}]\n",
      "{'id': 86, 'title': 'เธอฟอร์แคช', 'original_title': 'เธอฟอร์แคช', 'original_language': 'th', 'overview': '', 'popularity': 6.914, 'release_date': '2024-04-25', 'vote_average': 4, 'vote_count': 2, 'keywords': '', 'poster_path': '/dM59nsyDZDY4VvTGuWeNaXQE2p2.jpg', 'genres': 'Akcja, Komedia, Kryminał, Dramat, Romans'}\n",
      "[{'id': 6, 'name': 'Kryminał', 'id_generes': 80}, {'id': 7, 'name': 'Dokumentalny', 'id_generes': 99}]\n",
      "{'id': 87, 'title': 'TikTok Star Murders', 'original_title': 'TikTok Star Murders', 'original_language': 'en', 'overview': '', 'popularity': 6.59, 'release_date': '2024-06-25', 'vote_average': 7.333, 'vote_count': 3, 'keywords': '', 'poster_path': '/zbc3RXxxlEHgBd5zVeKDpajxEEM.jpg', 'genres': 'Kryminał, Dokumentalny'}\n",
      "[{'id': 8, 'name': 'Dramat', 'id_generes': 18}]\n",
      "{'id': 88, 'title': 'あんのこと', 'original_title': 'あんのこと', 'original_language': 'ja', 'overview': '', 'popularity': 4.725, 'release_date': '2024-06-07', 'vote_average': 0, 'vote_count': 0, 'keywords': '', 'poster_path': '/gsxS8aACqVVxS46H9zdPmXj4k3i.jpg', 'genres': 'Dramat'}\n",
      "[{'id': 8, 'name': 'Dramat', 'id_generes': 18}]\n",
      "{'id': 89, 'title': '우리의 하루', 'original_title': '우리의 하루', 'original_language': 'ko', 'overview': '', 'popularity': 6.608, 'release_date': '2023-07-19', 'vote_average': 6.8, 'vote_count': 14, 'keywords': '', 'poster_path': '/712BOyadfS8Dt56ymxEyahlqYOQ.jpg', 'genres': 'Dramat'}\n",
      "[]\n",
      "{'id': 90, 'title': 'ROH Live 2024/25: Alice im Wunderland', 'original_title': 'ROH Live 2024/25: Alice im Wunderland', 'original_language': 'en', 'overview': '', 'popularity': 7.078, 'release_date': '2024-07-10', 'vote_average': 0, 'vote_count': 0, 'keywords': '', 'poster_path': None, 'genres': ''}\n",
      "[{'id': 8, 'name': 'Dramat', 'id_generes': 18}, {'id': 15, 'name': 'Romans', 'id_generes': 10749}, {'id': 16, 'name': 'Sci-Fi', 'id_generes': 878}, {'id': 19, 'name': 'Wojenny', 'id_generes': 10752}]\n",
      "{'id': 91, 'title': 'WAR TIMES', 'original_title': 'WAR TIMES', 'original_language': 'en', 'overview': '', 'popularity': 3.755, 'release_date': '2024-06-03', 'vote_average': 0, 'vote_count': 0, 'keywords': '', 'poster_path': '/o84YtwUSUwOmTLy9QStGM4wjfUr.jpg', 'genres': 'Dramat, Romans, Sci-Fi, Wojenny'}\n",
      "[{'id': 8, 'name': 'Dramat', 'id_generes': 18}]\n",
      "{'id': 92, 'title': 'Hard Miles', 'original_title': 'Hard Miles', 'original_language': 'en', 'overview': '', 'popularity': 7.954, 'release_date': '2024-04-19', 'vote_average': 7, 'vote_count': 1, 'keywords': '', 'poster_path': '/w6cUA1iFi2ef7K2e5nBa4Qcw4O9.jpg', 'genres': 'Dramat'}\n",
      "[{'id': 5, 'name': 'Komedia', 'id_generes': 35}, {'id': 18, 'name': 'Thriller', 'id_generes': 53}]\n",
      "{'id': 93, 'title': 'Vulcanizadora', 'original_title': 'Vulcanizadora', 'original_language': 'en', 'overview': '', 'popularity': 5.158, 'release_date': '2024-06-08', 'vote_average': 9, 'vote_count': 1, 'keywords': '', 'poster_path': '/6x7W7gn5dLSvzVhfxDCJG5va4af.jpg', 'genres': 'Komedia, Thriller'}\n",
      "[{'id': 5, 'name': 'Komedia', 'id_generes': 35}]\n",
      "{'id': 94, 'title': 'Tô de Graça: O Filme', 'original_title': 'Tô de Graça: O Filme', 'original_language': 'pt', 'overview': '', 'popularity': 6.191, 'release_date': '2024-06-20', 'vote_average': 0, 'vote_count': 0, 'keywords': '', 'poster_path': '/tDeYq4V4T7WQ1YFU6KuLGxO0iDh.jpg', 'genres': 'Komedia'}\n",
      "[{'id': 5, 'name': 'Komedia', 'id_generes': 35}, {'id': 8, 'name': 'Dramat', 'id_generes': 18}, {'id': 18, 'name': 'Thriller', 'id_generes': 53}]\n",
      "{'id': 95, 'title': 'Los justos', 'original_title': 'Los justos', 'original_language': 'es', 'overview': '', 'popularity': 8.012, 'release_date': '2024-07-04', 'vote_average': 0, 'vote_count': 0, 'keywords': '', 'poster_path': '/ffhjQteKw15YyacruxTaBgdR6nJ.jpg', 'genres': 'Komedia, Dramat, Thriller'}\n",
      "[{'id': 8, 'name': 'Dramat', 'id_generes': 18}]\n",
      "{'id': 96, 'title': 'POPPED', 'original_title': 'POPPED', 'original_language': 'en', 'overview': '', 'popularity': 3.34, 'release_date': '2024-06-22', 'vote_average': 0, 'vote_count': 0, 'keywords': '', 'poster_path': '/3k5UvZnA8W9YLJo1qYM0sGdDJtE.jpg', 'genres': 'Dramat'}\n",
      "[{'id': 15, 'name': 'Romans', 'id_generes': 10749}]\n",
      "{'id': 97, 'title': 'มหัศจรรย์วันเดียว', 'original_title': 'มหัศจรรย์วันเดียว', 'original_language': 'th', 'overview': '', 'popularity': 4.843, 'release_date': '2024-06-24', 'vote_average': 0, 'vote_count': 0, 'keywords': '', 'poster_path': '/A0ImYSGtPO9c3ed6M8omR7rmA0P.jpg', 'genres': 'Romans'}\n",
      "[{'id': 5, 'name': 'Komedia', 'id_generes': 35}, {'id': 12, 'name': 'Horror', 'id_generes': 27}]\n",
      "{'id': 98, 'title': 'अल्याड पल्याड', 'original_title': 'अल्याड पल्याड', 'original_language': 'mr', 'overview': '', 'popularity': 3.239, 'release_date': '2024-06-14', 'vote_average': 0, 'vote_count': 0, 'keywords': '', 'poster_path': '/thD5q8bhZHX3fq4gWK1cR5bEMDp.jpg', 'genres': 'Komedia, Horror'}\n",
      "[{'id': 5, 'name': 'Komedia', 'id_generes': 35}, {'id': 6, 'name': 'Kryminał', 'id_generes': 80}, {'id': 18, 'name': 'Thriller', 'id_generes': 53}]\n",
      "{'id': 99, 'title': \"A Gangster's Kiss\", 'original_title': \"A Gangster's Kiss\", 'original_language': 'en', 'overview': 'Odkąd Jack pamięta, on i Danny byli przyjaciółmi, a Danny zawsze wpędzał Jacka w kłopoty. Miał kilka konfliktów z prawem i wysadził połowę głównych ulic, zanim zdecydował się zająć się aktorstwem. Wszystko idzie dobrze, dopóki Jack nie dostaje swojej pierwszej roli w filmie fabularnym, a Danny zgadza się śledzić „rodzinę”. Jack wkrótce zdaje sobie sprawę, że przesadził, co ma śmiertelne i zabawne konsekwencje.', 'popularity': 7.314, 'release_date': '2024-06-24', 'vote_average': 0, 'vote_count': 0, 'keywords': 'danny, jack, się, aktorstwem, byli, co, dobrze, dopóki, dostaje, fabularnym, filmie, głównych, idzie, jacka, kilka, konfliktów, konsekwencje, kłopoty, miał, nie', 'poster_path': '/uM0b6enePJwl5wdmbXAFbHdYVte.jpg', 'genres': 'Komedia, Kryminał, Thriller'}\n",
      "[{'id': 13, 'name': 'Muzyczny', 'id_generes': 10402}]\n",
      "{'id': 100, 'title': 'Acid King - Hellfest 2024', 'original_title': 'Acid King - Hellfest 2024', 'original_language': 'fr', 'overview': '', 'popularity': 4.323, 'release_date': '2024-06-28', 'vote_average': 8, 'vote_count': 1, 'keywords': '', 'poster_path': '/ncOD0KMewmQdoiCxlNdSXex9qGa.jpg', 'genres': 'Muzyczny'}\n",
      "[{'id': 5, 'name': 'Komedia', 'id_generes': 35}]\n",
      "{'id': 101, 'title': 'Seoulmeyt', 'original_title': 'Seoulmeyt', 'original_language': 'tl', 'overview': '', 'popularity': 4.031, 'release_date': '2024-05-29', 'vote_average': 0, 'vote_count': 0, 'keywords': '', 'poster_path': '/4xEr4x28jEh8M6vqlGSxWsuQuKd.jpg', 'genres': 'Komedia'}\n",
      "[{'id': 5, 'name': 'Komedia', 'id_generes': 35}]\n",
      "{'id': 102, 'title': 'Sobre anchos y falsos', 'original_title': 'Sobre anchos y falsos', 'original_language': 'es', 'overview': '', 'popularity': 4.777, 'release_date': '2024-07-10', 'vote_average': 0, 'vote_count': 0, 'keywords': '', 'poster_path': '/k1hZXh6jaMuVD9fSgBMAsrVPSlE.jpg', 'genres': 'Komedia'}\n",
      "[]\n",
      "{'id': 103, 'title': 'Primos', 'original_title': 'Primos', 'original_language': 'es', 'overview': '', 'popularity': 6.738, 'release_date': '2024-06-21', 'vote_average': 0, 'vote_count': 0, 'keywords': '', 'poster_path': '/kfXiGKzVCOxTQ7Az3aNOSfZLzgf.jpg', 'genres': ''}\n",
      "[{'id': 6, 'name': 'Kryminał', 'id_generes': 80}, {'id': 18, 'name': 'Thriller', 'id_generes': 53}]\n",
      "{'id': 104, 'title': 'The Secrets We Keep', 'original_title': 'The Secrets We Keep', 'original_language': 'en', 'overview': '', 'popularity': 4.185, 'release_date': '2024-06-29', 'vote_average': 0, 'vote_count': 0, 'keywords': '', 'poster_path': '/wMtXAzmJJUCfKcTqFGUpydnHEhv.jpg', 'genres': 'Kryminał, Thriller'}\n",
      "[{'id': 1, 'name': 'Akcja', 'id_generes': 28}, {'id': 14, 'name': 'Tajemnica', 'id_generes': 9648}, {'id': 16, 'name': 'Sci-Fi', 'id_generes': 878}, {'id': 18, 'name': 'Thriller', 'id_generes': 53}]\n",
      "{'id': 105, 'title': '异形寄生: 起源', 'original_title': '异形寄生: 起源', 'original_language': 'zh', 'overview': '', 'popularity': 4.45, 'release_date': '2024-06-12', 'vote_average': 4.4, 'vote_count': 5, 'keywords': '', 'poster_path': '/g0BMPT5HcFhrN23Ovrqv0nSs5ci.jpg', 'genres': 'Akcja, Tajemnica, Sci-Fi, Thriller'}\n",
      "[{'id': 7, 'name': 'Dokumentalny', 'id_generes': 99}, {'id': 8, 'name': 'Dramat', 'id_generes': 18}]\n",
      "{'id': 106, 'title': 'Viva Voz', 'original_title': 'Viva Voz', 'original_language': 'pt', 'overview': '', 'popularity': 2.839, 'release_date': '2024-06-18', 'vote_average': 0, 'vote_count': 0, 'keywords': '', 'poster_path': '/gqJRbpq6u1lfjuMJsdMZOuDVrLN.jpg', 'genres': 'Dokumentalny, Dramat'}\n",
      "[{'id': 18, 'name': 'Thriller', 'id_generes': 53}]\n",
      "{'id': 107, 'title': 'Ruletka', 'original_title': 'Ruletka', 'original_language': 'es', 'overview': '', 'popularity': 2.74, 'release_date': '2024-06-20', 'vote_average': 0, 'vote_count': 0, 'keywords': '', 'poster_path': '/7IrmabQ8EdELPWeefLonabwd85B.jpg', 'genres': 'Thriller'}\n",
      "[{'id': 8, 'name': 'Dramat', 'id_generes': 18}, {'id': 11, 'name': 'Historyczny', 'id_generes': 36}]\n",
      "{'id': 108, 'title': 'La contadora de películas', 'original_title': 'La contadora de películas', 'original_language': 'es', 'overview': '', 'popularity': 6.079, 'release_date': '2023-10-27', 'vote_average': 6.2, 'vote_count': 15, 'keywords': '', 'poster_path': '/fSIAx1HZ4MCt54YxPq8bpHl6jem.jpg', 'genres': 'Dramat, Historyczny'}\n",
      "[{'id': 8, 'name': 'Dramat', 'id_generes': 18}, {'id': 18, 'name': 'Thriller', 'id_generes': 53}]\n",
      "{'id': 109, 'title': 'The Weekend', 'original_title': 'The Weekend', 'original_language': 'en', 'overview': '', 'popularity': 2.575, 'release_date': '2024-06-09', 'vote_average': 0, 'vote_count': 0, 'keywords': '', 'poster_path': None, 'genres': 'Dramat, Thriller'}\n",
      "[{'id': 13, 'name': 'Muzyczny', 'id_generes': 10402}]\n",
      "{'id': 110, 'title': 'Cradle Of Filth - Hellfest 2024', 'original_title': 'Cradle Of Filth - Hellfest 2024', 'original_language': 'fr', 'overview': '', 'popularity': 3.822, 'release_date': '2024-06-27', 'vote_average': 0, 'vote_count': 0, 'keywords': '', 'poster_path': '/2GuTIJgfbbEuSncDF3VWFouabJ1.jpg', 'genres': 'Muzyczny'}\n",
      "[{'id': 7, 'name': 'Dokumentalny', 'id_generes': 99}]\n",
      "{'id': 111, 'title': 'Breaking the Cycle', 'original_title': 'Breaking the Cycle', 'original_language': 'th', 'overview': '', 'popularity': 5.121, 'release_date': '2024-06-06', 'vote_average': 6.5, 'vote_count': 2, 'keywords': '', 'poster_path': '/mHKO9D3lZ7TjBNyIOJzg3xFHbMA.jpg', 'genres': 'Dokumentalny'}\n",
      "[{'id': 5, 'name': 'Komedia', 'id_generes': 35}, {'id': 8, 'name': 'Dramat', 'id_generes': 18}, {'id': 18, 'name': 'Thriller', 'id_generes': 53}]\n",
      "{'id': 112, 'title': 'Ο Τελευταίος Ταξιτζής', 'original_title': 'Ο Τελευταίος Ταξιτζής', 'original_language': 'el', 'overview': '', 'popularity': 2.465, 'release_date': '2023-11-06', 'vote_average': 7, 'vote_count': 1, 'keywords': '', 'poster_path': '/4saQvyewohP4GR2ifm5T1Fg3LEj.jpg', 'genres': 'Komedia, Dramat, Thriller'}\n",
      "[{'id': 5, 'name': 'Komedia', 'id_generes': 35}, {'id': 14, 'name': 'Tajemnica', 'id_generes': 9648}]\n",
      "{'id': 113, 'title': 'BBQ', 'original_title': 'BBQ', 'original_language': 'ca', 'overview': '', 'popularity': 2.431, 'release_date': '2024-06-01', 'vote_average': 0, 'vote_count': 0, 'keywords': '', 'poster_path': '/fU0lqlK2PmDOZYZqDNzc3oQouTL.jpg', 'genres': 'Komedia, Tajemnica'}\n",
      "[]\n",
      "{'id': 114, 'title': 'Before She Rode Away', 'original_title': 'Before She Rode Away', 'original_language': 'en', 'overview': '', 'popularity': 3.378, 'release_date': '2024-06-28', 'vote_average': 0, 'vote_count': 0, 'keywords': '', 'poster_path': '/lcw1TJI9wYB1As0IZKobxurvRem.jpg', 'genres': ''}\n",
      "[{'id': 13, 'name': 'Muzyczny', 'id_generes': 10402}]\n",
      "{'id': 115, 'title': 'Dropkick Murphys - Hellfest 2024', 'original_title': 'Dropkick Murphys - Hellfest 2024', 'original_language': 'fr', 'overview': '', 'popularity': 4.054, 'release_date': '2024-06-27', 'vote_average': 8, 'vote_count': 1, 'keywords': '', 'poster_path': '/rFRMZl8LY4ET6L7eyrpPY0tRyqk.jpg', 'genres': 'Muzyczny'}\n",
      "[{'id': 8, 'name': 'Dramat', 'id_generes': 18}]\n",
      "{'id': 116, 'title': 'To Give or Not to Give: Reparations for Slavery', 'original_title': 'To Give or Not to Give: Reparations for Slavery', 'original_language': 'en', 'overview': '', 'popularity': 5.379, 'release_date': '2024-07-04', 'vote_average': 0, 'vote_count': 0, 'keywords': '', 'poster_path': None, 'genres': 'Dramat'}\n",
      "[{'id': 8, 'name': 'Dramat', 'id_generes': 18}]\n",
      "{'id': 117, 'title': 'Never Not Yours', 'original_title': 'Never Not Yours', 'original_language': 'en', 'overview': '', 'popularity': 5.379, 'release_date': '2024-06-29', 'vote_average': 10, 'vote_count': 1, 'keywords': '', 'poster_path': '/zjqm00B1sXvXQoNNl5x68MYmhTl.jpg', 'genres': 'Dramat'}\n",
      "[{'id': 8, 'name': 'Dramat', 'id_generes': 18}]\n",
      "{'id': 118, 'title': 'Jíkuri', 'original_title': 'Jíkuri', 'original_language': 'fr', 'overview': '', 'popularity': 4.293, 'release_date': '2024-06-14', 'vote_average': 4, 'vote_count': 1, 'keywords': '', 'poster_path': '/rAmJl6vETXzoWTXfNWNR8mPGBAS.jpg', 'genres': 'Dramat'}\n",
      "[{'id': 7, 'name': 'Dokumentalny', 'id_generes': 99}]\n",
      "{'id': 119, 'title': 'Poised', 'original_title': 'Poised', 'original_language': 'en', 'overview': '', 'popularity': 2.847, 'release_date': '2024-06-24', 'vote_average': 0, 'vote_count': 0, 'keywords': '', 'poster_path': '/vfDwboiKLG047Vnn7x6dA7yJikW.jpg', 'genres': 'Dokumentalny'}\n",
      "[]\n",
      "{'id': 120, 'title': 'Έξω/Μέσα', 'original_title': 'Έξω/Μέσα', 'original_language': 'en', 'overview': '', 'popularity': 3.244, 'release_date': '2024-06-27', 'vote_average': 0, 'vote_count': 0, 'keywords': '', 'poster_path': '/5sO6tZu6PKmiDQrZfIlTzwp2TXS.jpg', 'genres': ''}\n",
      "[{'id': 13, 'name': 'Muzyczny', 'id_generes': 10402}]\n",
      "{'id': 121, 'title': 'Kanonenfieber - Hellfest 2024', 'original_title': 'Kanonenfieber - Hellfest 2024', 'original_language': 'fr', 'overview': '', 'popularity': 3.326, 'release_date': '2024-06-28', 'vote_average': 0, 'vote_count': 0, 'keywords': '', 'poster_path': '/hrk5I8TkjbFNXZHNYW3aYywgPgh.jpg', 'genres': 'Muzyczny'}\n",
      "[{'id': 5, 'name': 'Komedia', 'id_generes': 35}, {'id': 10, 'name': 'Fantasy', 'id_generes': 14}]\n",
      "{'id': 122, 'title': '62 1/2', 'original_title': '62 1/2', 'original_language': 'en', 'overview': '', 'popularity': 2.825, 'release_date': '2024-06-24', 'vote_average': 0, 'vote_count': 0, 'keywords': '', 'poster_path': '/4ZvKTGb0PMG84ER3idVgzCSWgFz.jpg', 'genres': 'Komedia, Fantasy'}\n",
      "[]\n",
      "{'id': 123, 'title': 'Shuruuk', 'original_title': 'Shuruuk', 'original_language': 'ro', 'overview': '', 'popularity': 3.222, 'release_date': '2024-06-27', 'vote_average': 0, 'vote_count': 0, 'keywords': '', 'poster_path': None, 'genres': ''}\n",
      "[{'id': 6, 'name': 'Kryminał', 'id_generes': 80}, {'id': 14, 'name': 'Tajemnica', 'id_generes': 9648}, {'id': 18, 'name': 'Thriller', 'id_generes': 53}]\n",
      "{'id': 124, 'title': 'Karanlıktan Kaçış', 'original_title': 'Karanlıktan Kaçış', 'original_language': 'tr', 'overview': '', 'popularity': 2.108, 'release_date': '2024-05-31', 'vote_average': 0, 'vote_count': 0, 'keywords': '', 'poster_path': '/15sYHwQXSc3iuYju3NZn2vYiRet.jpg', 'genres': 'Kryminał, Tajemnica, Thriller'}\n",
      "[{'id': 7, 'name': 'Dokumentalny', 'id_generes': 99}, {'id': 8, 'name': 'Dramat', 'id_generes': 18}]\n",
      "{'id': 125, 'title': 'Ofelia', 'original_title': 'Ofelia', 'original_language': 'es', 'overview': '', 'popularity': 2.958, 'release_date': '2024-06-27', 'vote_average': 0, 'vote_count': 0, 'keywords': '', 'poster_path': '/3jbNOimXEhRXWpyjS2I2QF8jc9D.jpg', 'genres': 'Dokumentalny, Dramat'}\n",
      "[{'id': 1, 'name': 'Akcja', 'id_generes': 28}]\n",
      "{'id': 126, 'title': 'NJPW Dominion 6.9 In Osaka-Jo Hall ~ Best Of The Super Junior 31 Final ~', 'original_title': 'NJPW Dominion 6.9 In Osaka-Jo Hall ~ Best Of The Super Junior 31 Final ~', 'original_language': 'ja', 'overview': '', 'popularity': 2.523, 'release_date': '2024-06-09', 'vote_average': 0, 'vote_count': 0, 'keywords': '', 'poster_path': '/nfZ5gh9vkHoTeWN9ZiFATevylMu.jpg', 'genres': 'Akcja'}\n",
      "[{'id': 8, 'name': 'Dramat', 'id_generes': 18}, {'id': 18, 'name': 'Thriller', 'id_generes': 53}]\n",
      "{'id': 127, 'title': 'ચૂપ', 'original_title': 'ચૂપ', 'original_language': 'gu', 'overview': '', 'popularity': 2.014, 'release_date': '2024-06-07', 'vote_average': 0, 'vote_count': 0, 'keywords': '', 'poster_path': '/hQg6B8wt7jFNR4zasX3VLBvADHD.jpg', 'genres': 'Dramat, Thriller'}\n",
      "[]\n",
      "{'id': 128, 'title': 'Game On', 'original_title': 'Game On', 'original_language': 'en', 'overview': '', 'popularity': 3.404, 'release_date': '2024-06-18', 'vote_average': 0, 'vote_count': 0, 'keywords': '', 'poster_path': '/dyxCC4oT09kHsdvEaEjyOlCu4nx.jpg', 'genres': ''}\n",
      "[{'id': 8, 'name': 'Dramat', 'id_generes': 18}]\n",
      "{'id': 129, 'title': 'Patrząc w wodę', 'original_title': '물안에서', 'original_language': 'ko', 'overview': 'Na skalistej wyspie Jeju młody aktor kręci film. Kiedy brakuje mu inspiracji, widzi sylwetkę u podnóża klifu. Dzięki temu spotkaniu i napisanej wiele lat wcześniej piosence miłosnej wreszcie ma historię do opowiedzenia.', 'popularity': 4.57, 'release_date': '2023-04-12', 'vote_average': 6.5, 'vote_count': 12, 'keywords': 'aktor, brakuje, dzięki, film, historię, inspiracji, jeju, kiedy, klifu, kręci, lat, miłosnej, mu, młody, na, napisanej, opowiedzenia, piosence, podnóża, skalistej', 'poster_path': '/sfg6A1knpv2XagkvXQCd5L3sb7l.jpg', 'genres': 'Dramat'}\n",
      "[{'id': 6, 'name': 'Kryminał', 'id_generes': 80}, {'id': 7, 'name': 'Dokumentalny', 'id_generes': 99}]\n",
      "{'id': 130, 'title': 'Most Famous Murder: The O.J. Simpson Trial', 'original_title': 'Most Famous Murder: The O.J. Simpson Trial', 'original_language': 'en', 'overview': '', 'popularity': 3.268, 'release_date': '2024-05-29', 'vote_average': 0, 'vote_count': 0, 'keywords': '', 'poster_path': '/1XnRfMIfhHPIsYgktz5pMkSOHIr.jpg', 'genres': 'Kryminał, Dokumentalny'}\n",
      "[]\n",
      "{'id': 131, 'title': 'つゆのあとさき', 'original_title': 'つゆのあとさき', 'original_language': 'ja', 'overview': '', 'popularity': 2.238, 'release_date': '2024-06-22', 'vote_average': 0, 'vote_count': 0, 'keywords': '', 'poster_path': None, 'genres': ''}\n",
      "[{'id': 5, 'name': 'Komedia', 'id_generes': 35}]\n",
      "{'id': 132, 'title': 'Une Régate au Paradis', 'original_title': 'Une Régate au Paradis', 'original_language': 'fr', 'overview': '', 'popularity': 4.351, 'release_date': '2024-07-08', 'vote_average': 0, 'vote_count': 0, 'keywords': '', 'poster_path': None, 'genres': 'Komedia'}\n",
      "[{'id': 8, 'name': 'Dramat', 'id_generes': 18}, {'id': 10, 'name': 'Fantasy', 'id_generes': 14}, {'id': 15, 'name': 'Romans', 'id_generes': 10749}]\n",
      "{'id': 133, 'title': '倒数说爱你', 'original_title': '倒数说爱你', 'original_language': 'zh', 'overview': '', 'popularity': 4.302, 'release_date': '2023-04-28', 'vote_average': 8.6, 'vote_count': 6, 'keywords': '', 'poster_path': '/ycb1xEgR8SLsYOOpy2928vkP1Ck.jpg', 'genres': 'Dramat, Fantasy, Romans'}\n",
      "[{'id': 4, 'name': 'Animacja', 'id_generes': 16}, {'id': 8, 'name': 'Dramat', 'id_generes': 18}, {'id': 13, 'name': 'Muzyczny', 'id_generes': 10402}, {'id': 16, 'name': 'Sci-Fi', 'id_generes': 878}]\n",
      "{'id': 134, 'title': 'ME', 'original_title': 'ME', 'original_language': 'en', 'overview': '', 'popularity': 1.814, 'release_date': '2024-05-27', 'vote_average': 9, 'vote_count': 1, 'keywords': '', 'poster_path': '/pnzQx2RyMM5DzHUfQZ5ouYOssRT.jpg', 'genres': 'Animacja, Dramat, Muzyczny, Sci-Fi'}\n",
      "[{'id': 3, 'name': 'Przygodowy', 'id_generes': 12}, {'id': 4, 'name': 'Animacja', 'id_generes': 16}, {'id': 10, 'name': 'Fantasy', 'id_generes': 14}]\n",
      "{'id': 135, 'title': 'Zak i Wowo: Tropiciele magii', 'original_title': 'Zak & Wowo, la légende de Lendarys', 'original_language': 'fr', 'overview': '', 'popularity': 3.46, 'release_date': '2024-04-11', 'vote_average': 10, 'vote_count': 1, 'keywords': '', 'poster_path': '/tgOq45Aijeup6mqEmOWGzYabaVQ.jpg', 'genres': 'Przygodowy, Animacja, Fantasy'}\n",
      "[{'id': 4, 'name': 'Animacja', 'id_generes': 16}, {'id': 8, 'name': 'Dramat', 'id_generes': 18}]\n",
      "{'id': 136, 'title': '구제역에서 살아 돌아온 돼지', 'original_title': '구제역에서 살아 돌아온 돼지', 'original_language': 'ko', 'overview': '', 'popularity': 2.268, 'release_date': '2024-06-11', 'vote_average': 0, 'vote_count': 0, 'keywords': '', 'poster_path': '/30oFH8abDyFFbLq7jalCpAIXiwZ.jpg', 'genres': 'Animacja, Dramat'}\n",
      "[]\n",
      "{'id': 137, 'title': 'Frieda TV', 'original_title': 'Frieda TV', 'original_language': 'de', 'overview': '', 'popularity': 2.613, 'release_date': '2024-06-26', 'vote_average': 0, 'vote_count': 0, 'keywords': '', 'poster_path': '/2Q1qloKJsld4cLHdgLwW2CRBo39.jpg', 'genres': ''}\n",
      "[{'id': 8, 'name': 'Dramat', 'id_generes': 18}, {'id': 14, 'name': 'Tajemnica', 'id_generes': 9648}]\n",
      "{'id': 138, 'title': 'Avesso', 'original_title': 'Avesso', 'original_language': 'pt', 'overview': '', 'popularity': 2.776, 'release_date': '2024-06-20', 'vote_average': 10, 'vote_count': 1, 'keywords': '', 'poster_path': '/tvSIvuqUyfnZ3Ue4UAanqY30Dc2.jpg', 'genres': 'Dramat, Tajemnica'}\n",
      "[]\n",
      "{'id': 139, 'title': 'AAA TripleMania XXXII: Tijuana', 'original_title': 'AAA TripleMania XXXII: Tijuana', 'original_language': 'es', 'overview': '', 'popularity': 1.915, 'release_date': '2024-06-15', 'vote_average': 0, 'vote_count': 0, 'keywords': '', 'poster_path': '/rQpw5CQVcHtgtU64ic0a35MyFnd.jpg', 'genres': ''}\n",
      "[{'id': 8, 'name': 'Dramat', 'id_generes': 18}]\n",
      "{'id': 140, 'title': 'Toc Toc Toc', 'original_title': 'Toc Toc Toc', 'original_language': 'fr', 'overview': '', 'popularity': 1.689, 'release_date': '2024-06-01', 'vote_average': 0, 'vote_count': 0, 'keywords': '', 'poster_path': '/tgZuzZUT6dFq5iwLZk361LYMNF0.jpg', 'genres': 'Dramat'}\n",
      "[{'id': 12, 'name': 'Horror', 'id_generes': 27}, {'id': 13, 'name': 'Muzyczny', 'id_generes': 10402}]\n",
      "{'id': 141, 'title': 'Ritmomania', 'original_title': 'Ritmomania', 'original_language': 'pt', 'overview': '', 'popularity': 2.619, 'release_date': '2024-06-25', 'vote_average': 0, 'vote_count': 0, 'keywords': '', 'poster_path': '/6iHp4MkIgkjHtF3f7lhsCoze9qy.jpg', 'genres': 'Horror, Muzyczny'}\n",
      "[{'id': 5, 'name': 'Komedia', 'id_generes': 35}, {'id': 7, 'name': 'Dokumentalny', 'id_generes': 99}]\n",
      "{'id': 142, 'title': 'Frankie Howerd’s 30 Funniest Moments', 'original_title': 'Frankie Howerd’s 30 Funniest Moments', 'original_language': 'en', 'overview': '', 'popularity': 2.046, 'release_date': '2024-06-23', 'vote_average': 0, 'vote_count': 0, 'keywords': '', 'poster_path': '/ksEe6k0sdV0bVujH2GrgEBOWgSI.jpg', 'genres': 'Komedia, Dokumentalny'}\n",
      "[]\n",
      "{'id': 143, 'title': 'Die blaue Blume im Land der Technik', 'original_title': 'Die blaue Blume im Land der Technik', 'original_language': 'de', 'overview': '', 'popularity': 3.842, 'release_date': '2024-06-30', 'vote_average': 0, 'vote_count': 0, 'keywords': '', 'poster_path': None, 'genres': ''}\n",
      "[{'id': 8, 'name': 'Dramat', 'id_generes': 18}, {'id': 12, 'name': 'Horror', 'id_generes': 27}, {'id': 18, 'name': 'Thriller', 'id_generes': 53}]\n",
      "{'id': 144, 'title': 'Nuclear', 'original_title': 'Nuclear', 'original_language': 'en', 'overview': '', 'popularity': 2.691, 'release_date': '2024-06-24', 'vote_average': 0, 'vote_count': 0, 'keywords': '', 'poster_path': '/otLp9uSwf6DZgEIHK913RSV59te.jpg', 'genres': 'Dramat, Horror, Thriller'}\n",
      "[{'id': 4, 'name': 'Animacja', 'id_generes': 16}, {'id': 13, 'name': 'Muzyczny', 'id_generes': 10402}]\n",
      "{'id': 145, 'title': 'Les Champs Élysées', 'original_title': 'Les Champs Élysées', 'original_language': 'fr', 'overview': '', 'popularity': 1.891, 'release_date': '2024-06-15', 'vote_average': 0, 'vote_count': 0, 'keywords': '', 'poster_path': '/gVwjrBM48ItMeVnSUmdlOGNz1b3.jpg', 'genres': 'Animacja, Muzyczny'}\n",
      "[]\n",
      "{'id': 146, 'title': 'El deseado', 'original_title': 'El deseado', 'original_language': 'es', 'overview': '', 'popularity': 2.857, 'release_date': '2024-06-25', 'vote_average': 0, 'vote_count': 0, 'keywords': '', 'poster_path': '/jh3VgPHig33YnUjEwDucaglKGoQ.jpg', 'genres': ''}\n",
      "[{'id': 7, 'name': 'Dokumentalny', 'id_generes': 99}]\n",
      "{'id': 147, 'title': 'Searching for Amani', 'original_title': 'Searching for Amani', 'original_language': 'en', 'overview': '', 'popularity': 2.629, 'release_date': '2024-06-08', 'vote_average': 0, 'vote_count': 0, 'keywords': '', 'poster_path': '/5nz6kFp2s54DlwEZQU1zGaKYVCr.jpg', 'genres': 'Dokumentalny'}\n",
      "[{'id': 7, 'name': 'Dokumentalny', 'id_generes': 99}]\n",
      "{'id': 149, 'title': 'Where Olive Trees Weep', 'original_title': 'Where Olive Trees Weep', 'original_language': 'en', 'overview': '', 'popularity': 1.541, 'release_date': '2024-06-06', 'vote_average': 9, 'vote_count': 1, 'keywords': '', 'poster_path': '/jn9U0nKBO2twLGRXNspE71PvPNE.jpg', 'genres': 'Dokumentalny'}\n",
      "[{'id': 7, 'name': 'Dokumentalny', 'id_generes': 99}]\n",
      "{'id': 150, 'title': 'A Balada dos Palhaços', 'original_title': 'A Balada dos Palhaços', 'original_language': 'pt', 'overview': '', 'popularity': 1.939, 'release_date': '2024-06-20', 'vote_average': 0, 'vote_count': 0, 'keywords': '', 'poster_path': '/xCeW1yAGMB1BKGFkkuMQpgh7Nru.jpg', 'genres': 'Dokumentalny'}\n",
      "[{'id': 13, 'name': 'Muzyczny', 'id_generes': 10402}]\n",
      "{'id': 151, 'title': 'Deichkind - Southside Festival 2024', 'original_title': 'Deichkind - Southside Festival 2024', 'original_language': 'de', 'overview': '', 'popularity': 1.777, 'release_date': '2024-06-21', 'vote_average': 0, 'vote_count': 0, 'keywords': '', 'poster_path': '/ybzdn3xeyBWRgmPCZnGBswFBTCS.jpg', 'genres': 'Muzyczny'}\n",
      "[]\n",
      "{'id': 152, 'title': 'Capitanes', 'original_title': 'Capitanes', 'original_language': 'es', 'overview': '', 'popularity': 2.252, 'release_date': '2024-06-23', 'vote_average': 0, 'vote_count': 0, 'keywords': '', 'poster_path': '/8XgGks7c8zlfkY8kPcDGkPI9YSV.jpg', 'genres': ''}\n",
      "[{'id': 7, 'name': 'Dokumentalny', 'id_generes': 99}]\n",
      "{'id': 153, 'title': 'A-Okay', 'original_title': 'A-Okay', 'original_language': 'en', 'overview': '', 'popularity': 1.833, 'release_date': '2024-05-24', 'vote_average': 0, 'vote_count': 0, 'keywords': '', 'poster_path': '/uZyizcOB8LjMW8uOIvt9Jymmiby.jpg', 'genres': 'Dokumentalny'}\n",
      "[{'id': 1, 'name': 'Akcja', 'id_generes': 28}, {'id': 3, 'name': 'Przygodowy', 'id_generes': 12}, {'id': 5, 'name': 'Komedia', 'id_generes': 35}]\n",
      "{'id': 154, 'title': 'Afrikan and Allen 2', 'original_title': 'Afrikan and Allen 2', 'original_language': 'en', 'overview': '', 'popularity': 2.019, 'release_date': '2024-06-21', 'vote_average': 0, 'vote_count': 0, 'keywords': '', 'poster_path': '/uoRdVuYVSFYVFth4iLDac1tAbPX.jpg', 'genres': 'Akcja, Przygodowy, Komedia'}\n",
      "[{'id': 5, 'name': 'Komedia', 'id_generes': 35}, {'id': 12, 'name': 'Horror', 'id_generes': 27}]\n",
      "{'id': 155, 'title': 'Zim Zim Ala Kazim', 'original_title': 'Zim Zim Ala Kazim', 'original_language': 'ms', 'overview': '', 'popularity': 3.287, 'release_date': '2024-06-13', 'vote_average': 0, 'vote_count': 0, 'keywords': '', 'poster_path': '/k3hmkxg4NC2ru1xLhPcI0e4doGa.jpg', 'genres': 'Komedia, Horror'}\n",
      "[{'id': 13, 'name': 'Muzyczny', 'id_generes': 10402}]\n",
      "{'id': 156, 'title': 'Simple Plan - Southside Festival 2024', 'original_title': 'Simple Plan - Southside Festival 2024', 'original_language': 'de', 'overview': '', 'popularity': 3.241, 'release_date': '2024-06-23', 'vote_average': 0, 'vote_count': 0, 'keywords': '', 'poster_path': '/biTcTNWXvbEF8FF7Bti3kaIb5CJ.jpg', 'genres': 'Muzyczny'}\n",
      "[{'id': 13, 'name': 'Muzyczny', 'id_generes': 10402}]\n",
      "{'id': 157, 'title': 'Avril Lavigne: Hurricane Festival', 'original_title': 'Avril Lavigne: Hurricane Festival', 'original_language': 'en', 'overview': '', 'popularity': 2.104, 'release_date': '2024-06-22', 'vote_average': 0, 'vote_count': 0, 'keywords': '', 'poster_path': None, 'genres': 'Muzyczny'}\n",
      "[]\n",
      "{'id': 158, 'title': 'The Barman’s Daughter', 'original_title': 'The Barman’s Daughter', 'original_language': 'en', 'overview': '', 'popularity': 1.902, 'release_date': '2024-06-20', 'vote_average': 0, 'vote_count': 0, 'keywords': '', 'poster_path': '/iJMIsyZ8ufhgJbdbkwyxNTdR87E.jpg', 'genres': ''}\n",
      "[{'id': 4, 'name': 'Animacja', 'id_generes': 16}]\n",
      "{'id': 159, 'title': 'Opener 2023', 'original_title': 'Opener 2023', 'original_language': 'en', 'overview': '', 'popularity': 1.342, 'release_date': '2024-06-09', 'vote_average': 5, 'vote_count': 1, 'keywords': '', 'poster_path': None, 'genres': 'Animacja'}\n",
      "[{'id': 7, 'name': 'Dokumentalny', 'id_generes': 99}]\n",
      "{'id': 160, 'title': 'Perfected Grammar', 'original_title': 'Perfected Grammar', 'original_language': 'id', 'overview': '', 'popularity': 1.33, 'release_date': '2024-06-12', 'vote_average': 0, 'vote_count': 0, 'keywords': '', 'poster_path': '/tkfaaWir7glJu9OYL4hm75FpKOh.jpg', 'genres': 'Dokumentalny'}\n",
      "[{'id': 7, 'name': 'Dokumentalny', 'id_generes': 99}]\n",
      "{'id': 161, 'title': 'Albatros', 'original_title': 'Albatros', 'original_language': 'en', 'overview': '', 'popularity': 2.389, 'release_date': '2024-06-20', 'vote_average': 0, 'vote_count': 0, 'keywords': '', 'poster_path': '/7BzhyUiYoKc89Cz9i6Aq1z6qqaM.jpg', 'genres': 'Dokumentalny'}\n",
      "[{'id': 5, 'name': 'Komedia', 'id_generes': 35}, {'id': 8, 'name': 'Dramat', 'id_generes': 18}]\n",
      "{'id': 162, 'title': 'Is Now a Good Time?', 'original_title': 'Is Now a Good Time?', 'original_language': 'en', 'overview': '', 'popularity': 3.039, 'release_date': '2024-06-07', 'vote_average': 0, 'vote_count': 0, 'keywords': '', 'poster_path': '/cLexnDyN78RYjIlmx8momNbFpt6.jpg', 'genres': 'Komedia, Dramat'}\n",
      "[{'id': 8, 'name': 'Dramat', 'id_generes': 18}, {'id': 18, 'name': 'Thriller', 'id_generes': 53}]\n",
      "{'id': 163, 'title': '¿Cuántas veces puedo matar sin morir en el intento?', 'original_title': '¿Cuántas veces puedo matar sin morir en el intento?', 'original_language': 'es', 'overview': '', 'popularity': 2.476, 'release_date': '2024-06-21', 'vote_average': 0, 'vote_count': 0, 'keywords': '', 'poster_path': '/6gJS9hS4wYHguxmEvcz51bcVfYC.jpg', 'genres': 'Dramat, Thriller'}\n",
      "[{'id': 8, 'name': 'Dramat', 'id_generes': 18}]\n",
      "{'id': 164, 'title': 'Shift', 'original_title': 'Shift', 'original_language': 'es', 'overview': '', 'popularity': 1.97, 'release_date': '2024-06-21', 'vote_average': 0, 'vote_count': 0, 'keywords': '', 'poster_path': '/oWBq8LFrW2vzjdTebI1m6wEuzJv.jpg', 'genres': 'Dramat'}\n",
      "[{'id': 16, 'name': 'Sci-Fi', 'id_generes': 878}]\n",
      "{'id': 165, 'title': 'Rou', 'original_title': 'Rou', 'original_language': 'en', 'overview': '', 'popularity': 1.598, 'release_date': '2024-06-16', 'vote_average': 0, 'vote_count': 0, 'keywords': '', 'poster_path': '/4MJ4nAwpZeO1wcU9XU1kk2zHxZX.jpg', 'genres': 'Sci-Fi'}\n",
      "[{'id': 8, 'name': 'Dramat', 'id_generes': 18}]\n",
      "{'id': 166, 'title': 'NEA', 'original_title': 'NEA', 'original_language': 'es', 'overview': '', 'popularity': 2.014, 'release_date': '2024-06-07', 'vote_average': 0, 'vote_count': 0, 'keywords': '', 'poster_path': '/xqNA7a5NTWnK5is5FLwhRByWZW3.jpg', 'genres': 'Dramat'}\n",
      "[{'id': 4, 'name': 'Animacja', 'id_generes': 16}, {'id': 8, 'name': 'Dramat', 'id_generes': 18}, {'id': 10, 'name': 'Fantasy', 'id_generes': 14}, {'id': 15, 'name': 'Romans', 'id_generes': 10749}]\n",
      "{'id': 167, 'title': 'Blue Egg', 'original_title': 'Blue Egg', 'original_language': 'en', 'overview': '', 'popularity': 1.662, 'release_date': '2024-06-12', 'vote_average': 0, 'vote_count': 0, 'keywords': '', 'poster_path': '/p4U3w9OrOiHyLZvCgq2hglaQpdP.jpg', 'genres': 'Animacja, Dramat, Fantasy, Romans'}\n",
      "[{'id': 8, 'name': 'Dramat', 'id_generes': 18}, {'id': 16, 'name': 'Sci-Fi', 'id_generes': 878}, {'id': 18, 'name': 'Thriller', 'id_generes': 53}]\n",
      "{'id': 168, 'title': 'Virtuous', 'original_title': 'Virtuous', 'original_language': 'en', 'overview': '', 'popularity': 1.208, 'release_date': '2024-06-12', 'vote_average': 0, 'vote_count': 0, 'keywords': '', 'poster_path': '/aHvKv2MGV4qY7sZfegysRGXWSbU.jpg', 'genres': 'Dramat, Sci-Fi, Thriller'}\n",
      "[{'id': 4, 'name': 'Animacja', 'id_generes': 16}]\n",
      "{'id': 169, 'title': 'San o gnjevu', 'original_title': 'San o gnjevu', 'original_language': 'hr', 'overview': '', 'popularity': 1.19, 'release_date': '2024-06-08', 'vote_average': 0, 'vote_count': 0, 'keywords': '', 'poster_path': '/8ncw4oTxpVZs4NgwZR4JTwWnbUu.jpg', 'genres': 'Animacja'}\n",
      "[]\n",
      "{'id': 170, 'title': 'The Ghost', 'original_title': 'The Ghost', 'original_language': 'en', 'overview': '', 'popularity': 2.725, 'release_date': '2024-06-06', 'vote_average': 0, 'vote_count': 0, 'keywords': '', 'poster_path': '/iBQnhCNnrH6QZjdErozjkFUYWBx.jpg', 'genres': ''}\n",
      "[{'id': 12, 'name': 'Horror', 'id_generes': 27}, {'id': 16, 'name': 'Sci-Fi', 'id_generes': 878}]\n",
      "{'id': 171, 'title': 'Enter Prompt', 'original_title': 'Enter Prompt', 'original_language': 'en', 'overview': '', 'popularity': 2.744, 'release_date': '2024-06-30', 'vote_average': 0, 'vote_count': 0, 'keywords': '', 'poster_path': '/iDIAMnFPXkei1XjFHgMomRyaaiM.jpg', 'genres': 'Horror, Sci-Fi'}\n",
      "[{'id': 4, 'name': 'Animacja', 'id_generes': 16}, {'id': 12, 'name': 'Horror', 'id_generes': 27}]\n",
      "{'id': 172, 'title': 'Salad Fingers 20th Anniversary Special', 'original_title': 'Salad Fingers 20th Anniversary Special', 'original_language': 'en', 'overview': '', 'popularity': 2.744, 'release_date': '2024-07-01', 'vote_average': 0, 'vote_count': 0, 'keywords': '', 'poster_path': '/fAnhJXSAIWHm4db3G7yDbVH1VRT.jpg', 'genres': 'Animacja, Horror'}\n",
      "[{'id': 8, 'name': 'Dramat', 'id_generes': 18}]\n",
      "{'id': 173, 'title': 'プロミスト・ランド', 'original_title': 'プロミスト・ランド', 'original_language': 'ja', 'overview': '', 'popularity': 2.483, 'release_date': '2024-06-14', 'vote_average': 0, 'vote_count': 0, 'keywords': '', 'poster_path': '/gunSxVOfndx92NoYEchPylLr4Vh.jpg', 'genres': 'Dramat'}\n",
      "[{'id': 5, 'name': 'Komedia', 'id_generes': 35}]\n",
      "{'id': 174, 'title': 'Janet', 'original_title': 'Janet', 'original_language': 'en', 'overview': '', 'popularity': 1.197, 'release_date': '2024-06-05', 'vote_average': 0, 'vote_count': 0, 'keywords': '', 'poster_path': None, 'genres': 'Komedia'}\n",
      "[{'id': 7, 'name': 'Dokumentalny', 'id_generes': 99}]\n",
      "{'id': 175, 'title': 'Sans Roland Béguelin et Marcel Boillat, pas de Canton du Jura !', 'original_title': 'Sans Roland Béguelin et Marcel Boillat, pas de Canton du Jura !', 'original_language': 'fr', 'overview': '', 'popularity': 2.016, 'release_date': '2024-06-19', 'vote_average': 0, 'vote_count': 0, 'keywords': '', 'poster_path': '/l7l29q98oqoMfNwmpa4OVJrlsgS.jpg', 'genres': 'Dokumentalny'}\n",
      "[{'id': 12, 'name': 'Horror', 'id_generes': 27}]\n",
      "{'id': 176, 'title': 'Doubles', 'original_title': 'Doubles', 'original_language': 'en', 'overview': '', 'popularity': 2.435, 'release_date': '2024-06-21', 'vote_average': 0, 'vote_count': 0, 'keywords': '', 'poster_path': None, 'genres': 'Horror'}\n",
      "[{'id': 8, 'name': 'Dramat', 'id_generes': 18}]\n",
      "{'id': 177, 'title': 'Ako Ay Isang Halo-Halo', 'original_title': 'Ako Ay Isang Halo-Halo', 'original_language': 'tl', 'overview': '', 'popularity': 2.598, 'release_date': '2024-06-15', 'vote_average': 0, 'vote_count': 0, 'keywords': '', 'poster_path': '/q0YyfhbOiQAwaAqAELakaEJqRlc.jpg', 'genres': 'Dramat'}\n",
      "[{'id': 1, 'name': 'Akcja', 'id_generes': 28}, {'id': 3, 'name': 'Przygodowy', 'id_generes': 12}, {'id': 10, 'name': 'Fantasy', 'id_generes': 14}]\n",
      "{'id': 178, 'title': \"M4's The Hobbit (Book Edit)\", 'original_title': \"M4's The Hobbit (Book Edit)\", 'original_language': 'en', 'overview': '', 'popularity': 1.357, 'release_date': '2024-06-01', 'vote_average': 0, 'vote_count': 0, 'keywords': '', 'poster_path': '/bYaL5kcmFASIQHbg4GMkjaad4Wo.jpg', 'genres': 'Akcja, Przygodowy, Fantasy'}\n",
      "[{'id': 7, 'name': 'Dokumentalny', 'id_generes': 99}]\n",
      "{'id': 179, 'title': 'GG & NM', 'original_title': 'GG & NM', 'original_language': 'en', 'overview': '', 'popularity': 1.678, 'release_date': '2024-06-21', 'vote_average': 0, 'vote_count': 0, 'keywords': '', 'poster_path': '/rL9NyHITA5ABg6cmFFwk8Z96V2S.jpg', 'genres': 'Dokumentalny'}\n",
      "[]\n",
      "{'id': 180, 'title': \"Моя сім'я та інші звірі\", 'original_title': \"Моя сім'я та інші звірі\", 'original_language': 'uk', 'overview': '', 'popularity': 1.259, 'release_date': '2024-06-15', 'vote_average': 0, 'vote_count': 0, 'keywords': '', 'poster_path': '/isenwgXGLhqh4uYGrHR2rZcwvL6.jpg', 'genres': ''}\n",
      "[]\n",
      "{'id': 181, 'title': 'Almadia', 'original_title': 'Almadia', 'original_language': 'pt', 'overview': '', 'popularity': 1.255, 'release_date': '2024-06-15', 'vote_average': 0, 'vote_count': 0, 'keywords': '', 'poster_path': None, 'genres': ''}\n",
      "[{'id': 7, 'name': 'Dokumentalny', 'id_generes': 99}]\n",
      "{'id': 182, 'title': 'In, out and about', 'original_title': 'In, out and about', 'original_language': 'en', 'overview': '', 'popularity': 1.673, 'release_date': '2024-06-18', 'vote_average': 0, 'vote_count': 0, 'keywords': '', 'poster_path': '/9XThX3bPXroTzgH9OOL2SRqjMtr.jpg', 'genres': 'Dokumentalny'}\n",
      "[{'id': 8, 'name': 'Dramat', 'id_generes': 18}]\n",
      "{'id': 183, 'title': 'The Other, Gold', 'original_title': 'The Other, Gold', 'original_language': 'en', 'overview': '', 'popularity': 1.048, 'release_date': '2024-06-07', 'vote_average': 0, 'vote_count': 0, 'keywords': '', 'poster_path': None, 'genres': 'Dramat'}\n",
      "[{'id': 8, 'name': 'Dramat', 'id_generes': 18}, {'id': 15, 'name': 'Romans', 'id_generes': 10749}]\n",
      "{'id': 184, 'title': 'Meeting Ms. Leigh', 'original_title': 'Meeting Ms. Leigh', 'original_language': 'en', 'overview': '', 'popularity': 2.411, 'release_date': '2024-06-07', 'vote_average': 0, 'vote_count': 0, 'keywords': '', 'poster_path': '/yer4haIOFPCgHZSAvTrSCMYp3ae.jpg', 'genres': 'Dramat, Romans'}\n",
      "[{'id': 1, 'name': 'Akcja', 'id_generes': 28}, {'id': 20, 'name': 'Western', 'id_generes': 37}]\n",
      "{'id': 185, 'title': 'They Call Her Death', 'original_title': 'They Call Her Death', 'original_language': 'en', 'overview': '', 'popularity': 1.816, 'release_date': '2024-06-20', 'vote_average': 0, 'vote_count': 0, 'keywords': '', 'poster_path': '/4KJM4IQeE02QbbrCWJYR8TPD4xc.jpg', 'genres': 'Akcja, Western'}\n",
      "[]\n",
      "{'id': 186, 'title': 'PIEZA (O siluetas de Ausencia)', 'original_title': 'PIEZA (O siluetas de Ausencia)', 'original_language': 'es', 'overview': '', 'popularity': 2.064, 'release_date': '2024-06-20', 'vote_average': 0, 'vote_count': 0, 'keywords': '', 'poster_path': '/jdzqkCLZLm8QU1ZJSMjnkoczu77.jpg', 'genres': ''}\n",
      "[{'id': 8, 'name': 'Dramat', 'id_generes': 18}]\n",
      "{'id': 187, 'title': 'Nowhere Near', 'original_title': 'Nowhere Near', 'original_language': 'en', 'overview': '', 'popularity': 2.107, 'release_date': '2024-06-12', 'vote_average': 0, 'vote_count': 0, 'keywords': '', 'poster_path': '/y4SwA5j6Cz0HmjHt54oNxCLa1VU.jpg', 'genres': 'Dramat'}\n",
      "[{'id': 8, 'name': 'Dramat', 'id_generes': 18}, {'id': 18, 'name': 'Thriller', 'id_generes': 53}]\n",
      "{'id': 188, 'title': 'Delirio', 'original_title': 'Delirio', 'original_language': 'es', 'overview': '', 'popularity': 1.786, 'release_date': '2024-06-10', 'vote_average': 0, 'vote_count': 0, 'keywords': '', 'poster_path': '/kq440WOVZh70Wj6r5ZXkWXSlgos.jpg', 'genres': 'Dramat, Thriller'}\n",
      "[{'id': 12, 'name': 'Horror', 'id_generes': 27}]\n",
      "{'id': 189, 'title': 'Cucaracha', 'original_title': 'Cucaracha', 'original_language': 'es', 'overview': '', 'popularity': 1.14, 'release_date': '2024-06-13', 'vote_average': 0, 'vote_count': 0, 'keywords': '', 'poster_path': None, 'genres': 'Horror'}\n",
      "[]\n",
      "{'id': 190, 'title': 'Senza titolo', 'original_title': 'Senza titolo', 'original_language': 'xx', 'overview': '', 'popularity': 1.721, 'release_date': '2024-06-19', 'vote_average': 0, 'vote_count': 0, 'keywords': '', 'poster_path': None, 'genres': ''}\n",
      "[{'id': 7, 'name': 'Dokumentalny', 'id_generes': 99}]\n",
      "{'id': 191, 'title': 'Давка-82. Тайная трагедия СССР', 'original_title': 'Давка-82. Тайная трагедия СССР', 'original_language': 'ru', 'overview': '', 'popularity': 2.22, 'release_date': '2024-06-15', 'vote_average': 0, 'vote_count': 0, 'keywords': '', 'poster_path': '/vUGBrFxPOhiaSPey4p36fSUqZuf.jpg', 'genres': 'Dokumentalny'}\n",
      "[{'id': 8, 'name': 'Dramat', 'id_generes': 18}]\n",
      "{'id': 192, 'title': 'BENZIN', 'original_title': 'BENZIN', 'original_language': 'da', 'overview': '', 'popularity': 1.872, 'release_date': '2024-06-04', 'vote_average': 0, 'vote_count': 0, 'keywords': '', 'poster_path': '/5ygC4Mxc2mf1DTlxdPl1AaBZ1o4.jpg', 'genres': 'Dramat'}\n",
      "[{'id': 5, 'name': 'Komedia', 'id_generes': 35}]\n",
      "{'id': 193, 'title': 'Sete no Set', 'original_title': 'Sete no Set', 'original_language': 'pt', 'overview': '', 'popularity': 1.773, 'release_date': '2024-06-10', 'vote_average': 0, 'vote_count': 0, 'keywords': '', 'poster_path': '/spjxU5pq05zIwTSbsCywegGOvhC.jpg', 'genres': 'Komedia'}\n",
      "[]\n",
      "{'id': 194, 'title': 'How to Be a Man', 'original_title': 'How to Be a Man', 'original_language': 'id', 'overview': '', 'popularity': 1.989, 'release_date': '2024-06-09', 'vote_average': 0, 'vote_count': 0, 'keywords': '', 'poster_path': '/dkAqmBbAtT4O4ZoMD1Kp1rbs7fs.jpg', 'genres': ''}\n",
      "[{'id': 8, 'name': 'Dramat', 'id_generes': 18}, {'id': 14, 'name': 'Tajemnica', 'id_generes': 9648}, {'id': 18, 'name': 'Thriller', 'id_generes': 53}]\n",
      "{'id': 195, 'title': 'Otra Página de Locura', 'original_title': 'Otra Página de Locura', 'original_language': 'es', 'overview': '', 'popularity': 1.666, 'release_date': '2024-06-18', 'vote_average': 10, 'vote_count': 1, 'keywords': '', 'poster_path': '/vZg6Ofjv3J2q6dxypzEOkGDytK3.jpg', 'genres': 'Dramat, Tajemnica, Thriller'}\n",
      "[]\n",
      "{'id': 196, 'title': 'Eat Me', 'original_title': 'Eat Me', 'original_language': 'en', 'overview': '', 'popularity': 1.384, 'release_date': '2024-06-05', 'vote_average': 0, 'vote_count': 0, 'keywords': '', 'poster_path': None, 'genres': ''}\n",
      "[{'id': 8, 'name': 'Dramat', 'id_generes': 18}, {'id': 15, 'name': 'Romans', 'id_generes': 10749}, {'id': 18, 'name': 'Thriller', 'id_generes': 53}]\n",
      "{'id': 197, 'title': 'Flowers', 'original_title': 'Flowers', 'original_language': 'en', 'overview': '', 'popularity': 1.179, 'release_date': '2024-06-07', 'vote_average': 0, 'vote_count': 0, 'keywords': '', 'poster_path': '/3biVl9OSSuckgF4RVIzQ6oitbXi.jpg', 'genres': 'Dramat, Romans, Thriller'}\n",
      "[{'id': 12, 'name': 'Horror', 'id_generes': 27}, {'id': 18, 'name': 'Thriller', 'id_generes': 53}]\n",
      "{'id': 198, 'title': 'Look Twice', 'original_title': 'Look Twice', 'original_language': 'no', 'overview': '', 'popularity': 0.882, 'release_date': '2024-05-30', 'vote_average': 0, 'vote_count': 0, 'keywords': '', 'poster_path': '/GRyT1Rn7oF4bBfyZStVgmtI6i4.jpg', 'genres': 'Horror, Thriller'}\n",
      "[{'id': 13, 'name': 'Muzyczny', 'id_generes': 10402}]\n",
      "{'id': 199, 'title': 'Live From Detroit: The Concert at Michigan Central', 'original_title': 'Live From Detroit: The Concert at Michigan Central', 'original_language': 'en', 'overview': '', 'popularity': 2.03, 'release_date': '2024-06-09', 'vote_average': 0, 'vote_count': 0, 'keywords': '', 'poster_path': '/kJ5b13rnMWpK2LTkmZoSnAMvIhO.jpg', 'genres': 'Muzyczny'}\n",
      "[]\n",
      "{'id': 200, 'title': 'Retaso', 'original_title': 'Retaso', 'original_language': 'tl', 'overview': '', 'popularity': 1.251, 'release_date': '2024-06-16', 'vote_average': 0, 'vote_count': 0, 'keywords': '', 'poster_path': '/ywP84mcxolNbzhwLUOWHZQq4ozN.jpg', 'genres': ''}\n",
      "[{'id': 7, 'name': 'Dokumentalny', 'id_generes': 99}, {'id': 11, 'name': 'Historyczny', 'id_generes': 36}, {'id': 19, 'name': 'Wojenny', 'id_generes': 10752}]\n",
      "{'id': 201, 'title': \"39-45, elles n'ont rien oublié\", 'original_title': \"39-45, elles n'ont rien oublié\", 'original_language': 'fr', 'overview': '', 'popularity': 1.246, 'release_date': '2024-05-29', 'vote_average': 0, 'vote_count': 0, 'keywords': '', 'poster_path': '/A81bYTvLsxXMIhSd5zfRtSAvTg5.jpg', 'genres': 'Dokumentalny, Historyczny, Wojenny'}\n",
      "[{'id': 8, 'name': 'Dramat', 'id_generes': 18}, {'id': 12, 'name': 'Horror', 'id_generes': 27}, {'id': 14, 'name': 'Tajemnica', 'id_generes': 9648}, {'id': 17, 'name': 'film TV', 'id_generes': 10770}]\n",
      "{'id': 202, 'title': 'Luk Thep Tom 3', 'original_title': 'Luk Thep Tom 3', 'original_language': 'en', 'overview': '', 'popularity': 1.96, 'release_date': '2024-07-04', 'vote_average': 0, 'vote_count': 0, 'keywords': '', 'poster_path': '/2tlWVtek919xc8uhH7xeFJXvzby.jpg', 'genres': 'Dramat, Horror, Tajemnica, film TV'}\n",
      "[]\n",
      "{'id': 203, 'title': 'Хейт', 'original_title': 'Хейт', 'original_language': 'en', 'overview': '', 'popularity': 1.96, 'release_date': '2024-06-30', 'vote_average': 0, 'vote_count': 0, 'keywords': '', 'poster_path': '/9Cr5yAEvuylZ9L2V5X7IBJrehhR.jpg', 'genres': ''}\n",
      "[{'id': 4, 'name': 'Animacja', 'id_generes': 16}]\n",
      "{'id': 204, 'title': 'Le Bruit du silence', 'original_title': 'Le Bruit du silence', 'original_language': 'fr', 'overview': '', 'popularity': 1.258, 'release_date': '2024-05-30', 'vote_average': 0, 'vote_count': 0, 'keywords': '', 'poster_path': '/ckRCWbPPiwaeGKBMYy0sRXcCFt7.jpg', 'genres': 'Animacja'}\n",
      "[{'id': 7, 'name': 'Dokumentalny', 'id_generes': 99}]\n",
      "{'id': 205, 'title': '06/23 - 07/24', 'original_title': '06/23 - 07/24', 'original_language': 'en', 'overview': '', 'popularity': 1.104, 'release_date': '2024-06-13', 'vote_average': 0, 'vote_count': 0, 'keywords': '', 'poster_path': '/nv2AREisxg9GoWmojwHWFRHft7N.jpg', 'genres': 'Dokumentalny'}\n",
      "[{'id': 7, 'name': 'Dokumentalny', 'id_generes': 99}, {'id': 11, 'name': 'Historyczny', 'id_generes': 36}]\n",
      "{'id': 206, 'title': 'Remember This Place: 31°20’46’’N 34°46’46’’E', 'original_title': 'Remember This Place: 31°20’46’’N 34°46’46’’E', 'original_language': 'en', 'overview': '', 'popularity': 1.908, 'release_date': '2024-06-12', 'vote_average': 0, 'vote_count': 0, 'keywords': '', 'poster_path': '/jXFjSRfMIq2S3VQuAHfBZfcbg0X.jpg', 'genres': 'Dokumentalny, Historyczny'}\n",
      "[]\n",
      "{'id': 207, 'title': 'Jan Jaap van der Wal: GEEN STEM', 'original_title': 'Jan Jaap van der Wal: GEEN STEM', 'original_language': 'nl', 'overview': '', 'popularity': 0.906, 'release_date': '2024-06-07', 'vote_average': 0, 'vote_count': 0, 'keywords': '', 'poster_path': '/lrugjbumPXrehCaAMHhV9koiAgt.jpg', 'genres': ''}\n",
      "[{'id': 8, 'name': 'Dramat', 'id_generes': 18}]\n",
      "{'id': 208, 'title': '¿El Verdadero Jefe es...?', 'original_title': '¿El Verdadero Jefe es...?', 'original_language': 'es', 'overview': '', 'popularity': 1.345, 'release_date': '2024-06-13', 'vote_average': 0, 'vote_count': 0, 'keywords': '', 'poster_path': None, 'genres': 'Dramat'}\n",
      "[{'id': 7, 'name': 'Dokumentalny', 'id_generes': 99}]\n",
      "{'id': 209, 'title': 'Habibullah', 'original_title': 'Habibullah', 'original_language': 'ku', 'overview': '', 'popularity': 1.683, 'release_date': '2024-06-15', 'vote_average': 0, 'vote_count': 0, 'keywords': '', 'poster_path': '/hiqH66cfiQ8SqelIZ7lAuhvt9ep.jpg', 'genres': 'Dokumentalny'}\n",
      "[{'id': 8, 'name': 'Dramat', 'id_generes': 18}]\n",
      "{'id': 210, 'title': 'せん', 'original_title': 'せん', 'original_language': 'ja', 'overview': '', 'popularity': 1.524, 'release_date': '2024-06-01', 'vote_average': 0, 'vote_count': 0, 'keywords': '', 'poster_path': '/vN0t78J6VOXFRkPEkN3Nt1ZQiR0.jpg', 'genres': 'Dramat'}\n",
      "[{'id': 5, 'name': 'Komedia', 'id_generes': 35}, {'id': 7, 'name': 'Dokumentalny', 'id_generes': 99}, {'id': 8, 'name': 'Dramat', 'id_generes': 18}, {'id': 15, 'name': 'Romans', 'id_generes': 10749}]\n",
      "{'id': 211, 'title': 'Hikikomori', 'original_title': 'Hikikomori', 'original_language': 'it', 'overview': '', 'popularity': 1.619, 'release_date': '2024-06-13', 'vote_average': 10, 'vote_count': 1, 'keywords': '', 'poster_path': '/m3fYG1KMDK9QZyu6AFI0ltTqAtl.jpg', 'genres': 'Komedia, Dokumentalny, Dramat, Romans'}\n",
      "[{'id': 7, 'name': 'Dokumentalny', 'id_generes': 99}]\n",
      "{'id': 212, 'title': 'Край ночи', 'original_title': 'Край ночи', 'original_language': 'ru', 'overview': '', 'popularity': 1.263, 'release_date': '2024-06-11', 'vote_average': 0, 'vote_count': 0, 'keywords': '', 'poster_path': '/ihW4SjAvScDWniBSKuWNwdNN1tY.jpg', 'genres': 'Dokumentalny'}\n",
      "[{'id': 7, 'name': 'Dokumentalny', 'id_generes': 99}]\n",
      "{'id': 213, 'title': 'The Show Must Go On II: The End of the World', 'original_title': 'The Show Must Go On II: The End of the World', 'original_language': 'en', 'overview': '', 'popularity': 1.201, 'release_date': '2024-06-09', 'vote_average': 0, 'vote_count': 0, 'keywords': '', 'poster_path': '/rHvOHAgd2LSPHcZC1BVQUvfx9Np.jpg', 'genres': 'Dokumentalny'}\n",
      "[{'id': 5, 'name': 'Komedia', 'id_generes': 35}, {'id': 8, 'name': 'Dramat', 'id_generes': 18}]\n",
      "{'id': 214, 'title': 'Waterpark in the Winter', 'original_title': 'Waterpark in the Winter', 'original_language': 'en', 'overview': '', 'popularity': 1.744, 'release_date': '2024-06-08', 'vote_average': 0, 'vote_count': 0, 'keywords': '', 'poster_path': '/iQHAUZXrCTZqyFjzPwhckRef4bx.jpg', 'genres': 'Komedia, Dramat'}\n",
      "[{'id': 7, 'name': 'Dokumentalny', 'id_generes': 99}]\n",
      "{'id': 215, 'title': '4:30', 'original_title': '4:30', 'original_language': 'ru', 'overview': '', 'popularity': 1.225, 'release_date': '2024-06-10', 'vote_average': 0, 'vote_count': 0, 'keywords': '', 'poster_path': '/hnCmMcPsOApTyX2pY5Q5HHgS3pS.jpg', 'genres': 'Dokumentalny'}\n",
      "[{'id': 8, 'name': 'Dramat', 'id_generes': 18}, {'id': 18, 'name': 'Thriller', 'id_generes': 53}]\n",
      "{'id': 216, 'title': 'Glory Hole', 'original_title': 'Glory Hole', 'original_language': 'it', 'overview': '', 'popularity': 1.622, 'release_date': '2024-06-14', 'vote_average': 0, 'vote_count': 0, 'keywords': '', 'poster_path': '/qhZ9aBbYhlC5nX7HFJCJE4PknRN.jpg', 'genres': 'Dramat, Thriller'}\n",
      "[{'id': 4, 'name': 'Animacja', 'id_generes': 16}, {'id': 7, 'name': 'Dokumentalny', 'id_generes': 99}]\n",
      "{'id': 217, 'title': 'Memórias de um Esclerosado', 'original_title': 'Memórias de um Esclerosado', 'original_language': 'pt', 'overview': '', 'popularity': 1.697, 'release_date': '2024-06-07', 'vote_average': 0, 'vote_count': 0, 'keywords': '', 'poster_path': None, 'genres': 'Animacja, Dokumentalny'}\n",
      "[{'id': 4, 'name': 'Animacja', 'id_generes': 16}]\n",
      "{'id': 218, 'title': \"Rapper's Delight\", 'original_title': \"Rapper's Delight\", 'original_language': 'en', 'overview': '', 'popularity': 0.94, 'release_date': '2024-06-09', 'vote_average': 0, 'vote_count': 0, 'keywords': '', 'poster_path': None, 'genres': 'Animacja'}\n",
      "[{'id': 7, 'name': 'Dokumentalny', 'id_generes': 99}]\n",
      "{'id': 219, 'title': 'Mefite', 'original_title': 'Mefite', 'original_language': 'it', 'overview': '', 'popularity': 0.838, 'release_date': '2024-06-05', 'vote_average': 0, 'vote_count': 0, 'keywords': '', 'poster_path': '/ryHfDqvNm7sD9ggP6HCXUUMLROI.jpg', 'genres': 'Dokumentalny'}\n",
      "[{'id': 7, 'name': 'Dokumentalny', 'id_generes': 99}]\n",
      "{'id': 220, 'title': 'Olimpia', 'original_title': 'Olimpia', 'original_language': 'es', 'overview': '', 'popularity': 1.117, 'release_date': '2024-06-14', 'vote_average': 0, 'vote_count': 0, 'keywords': '', 'poster_path': '/3fnWcEBUxhxKm81QL6tyDBI8cdz.jpg', 'genres': 'Dokumentalny'}\n",
      "[{'id': 7, 'name': 'Dokumentalny', 'id_generes': 99}]\n",
      "{'id': 221, 'title': 'GAZA | La franja del exterminio', 'original_title': 'GAZA | La franja del exterminio', 'original_language': 'ar', 'overview': '', 'popularity': 1.322, 'release_date': '2024-06-13', 'vote_average': 0, 'vote_count': 0, 'keywords': '', 'poster_path': '/jEwxjJkc5plUYiATJY8DqoS7VaJ.jpg', 'genres': 'Dokumentalny'}\n",
      "[]\n",
      "{'id': 222, 'title': 'Daughters of Evil', 'original_title': 'Daughters of Evil', 'original_language': 'en', 'overview': '', 'popularity': 1.625, 'release_date': '2024-06-05', 'vote_average': 0, 'vote_count': 0, 'keywords': '', 'poster_path': '/2OzLjKYfPcI0ftKutStCcaHbo02.jpg', 'genres': ''}\n",
      "[{'id': 7, 'name': 'Dokumentalny', 'id_generes': 99}]\n",
      "{'id': 223, 'title': \"L'incroyable saison lyonnaise\", 'original_title': \"L'incroyable saison lyonnaise\", 'original_language': 'fr', 'overview': '', 'popularity': 0.878, 'release_date': '2024-06-07', 'vote_average': 0, 'vote_count': 0, 'keywords': '', 'poster_path': '/6QUBhpnYibxBVWZ0KUF3DAX5Cgv.jpg', 'genres': 'Dokumentalny'}\n",
      "[{'id': 13, 'name': 'Muzyczny', 'id_generes': 10402}]\n",
      "{'id': 224, 'title': 'JOE SD: Forever Young (Album Visuals)', 'original_title': 'JOE SD: Forever Young (Album Visuals)', 'original_language': 'en', 'overview': '', 'popularity': 0.753, 'release_date': '2024-06-01', 'vote_average': 0, 'vote_count': 0, 'keywords': '', 'poster_path': '/kJ4vr2QmphVgDH0UxD2IWpKaXMg.jpg', 'genres': 'Muzyczny'}\n",
      "[]\n",
      "{'id': 225, 'title': 'Uwaga dobry pies', 'original_title': 'Uwaga dobry pies', 'original_language': 'pl', 'overview': '', 'popularity': 1.527, 'release_date': '2024-06-12', 'vote_average': 0, 'vote_count': 0, 'keywords': '', 'poster_path': '/xvv1jTlKaOvSMtjVkqfdr257Ajq.jpg', 'genres': ''}\n",
      "[{'id': 8, 'name': 'Dramat', 'id_generes': 18}]\n",
      "{'id': 226, 'title': 'Alhambra', 'original_title': 'Alhambra', 'original_language': 'es', 'overview': '', 'popularity': 0.99, 'release_date': '2024-06-11', 'vote_average': 0, 'vote_count': 0, 'keywords': '', 'poster_path': '/rgQhKAq27HfVZa1yaoeYXDGy6U6.jpg', 'genres': 'Dramat'}\n",
      "[{'id': 4, 'name': 'Animacja', 'id_generes': 16}]\n",
      "{'id': 227, 'title': 'Living the Dream', 'original_title': 'Living the Dream', 'original_language': 'en', 'overview': '', 'popularity': 1.544, 'release_date': '2024-06-05', 'vote_average': 0, 'vote_count': 0, 'keywords': '', 'poster_path': '/jF4Tl1lHugMUohCgFScOQpbbcIt.jpg', 'genres': 'Animacja'}\n",
      "[{'id': 12, 'name': 'Horror', 'id_generes': 27}]\n",
      "{'id': 228, 'title': '1 Kertas, 2 Nasib', 'original_title': '1 Kertas, 2 Nasib', 'original_language': 'id', 'overview': '', 'popularity': 0.977, 'release_date': '2024-05-31', 'vote_average': 0, 'vote_count': 0, 'keywords': '', 'poster_path': '/fynkHtPOjCM3eiOMrCO09bflRzq.jpg', 'genres': 'Horror'}\n",
      "[{'id': 5, 'name': 'Komedia', 'id_generes': 35}, {'id': 8, 'name': 'Dramat', 'id_generes': 18}]\n",
      "{'id': 229, 'title': 'Latidos Ebrios', 'original_title': 'Latidos Ebrios', 'original_language': 'es', 'overview': '', 'popularity': 0.819, 'release_date': '2024-06-05', 'vote_average': 0, 'vote_count': 0, 'keywords': '', 'poster_path': '/fiVfXL93BEHj1poqi8img7q1U2f.jpg', 'genres': 'Komedia, Dramat'}\n",
      "[{'id': 5, 'name': 'Komedia', 'id_generes': 35}, {'id': 15, 'name': 'Romans', 'id_generes': 10749}]\n",
      "{'id': 230, 'title': 'Smooch Criminal', 'original_title': 'Smooch Criminal', 'original_language': 'en', 'overview': '', 'popularity': 0.776, 'release_date': '2024-06-03', 'vote_average': 0, 'vote_count': 0, 'keywords': '', 'poster_path': '/aSSmwrkC75hGK7QQLFPg1ol1T6t.jpg', 'genres': 'Komedia, Romans'}\n",
      "[{'id': 12, 'name': 'Horror', 'id_generes': 27}]\n",
      "{'id': 231, 'title': 'When the Shadows Yearn to Breathe', 'original_title': 'When the Shadows Yearn to Breathe', 'original_language': 'en', 'overview': '', 'popularity': 0.987, 'release_date': '2024-06-01', 'vote_average': 0, 'vote_count': 0, 'keywords': '', 'poster_path': '/lGIJyoGeuOS6pt9HLWTZNXGj4jT.jpg', 'genres': 'Horror'}\n",
      "[{'id': 7, 'name': 'Dokumentalny', 'id_generes': 99}, {'id': 11, 'name': 'Historyczny', 'id_generes': 36}]\n",
      "{'id': 232, 'title': \"Quasi umani: L'uomo-scimmia\", 'original_title': \"Quasi umani: L'uomo-scimmia\", 'original_language': 'en', 'overview': '', 'popularity': 1.033, 'release_date': '2024-06-02', 'vote_average': 7, 'vote_count': 1, 'keywords': '', 'poster_path': '/H7VRQFIhJq4q9JSs9VHabJif0q.jpg', 'genres': 'Dokumentalny, Historyczny'}\n",
      "[{'id': 7, 'name': 'Dokumentalny', 'id_generes': 99}]\n",
      "{'id': 233, 'title': 'Сады всегда на следующий год', 'original_title': 'Сады всегда на следующий год', 'original_language': 'ru', 'overview': '', 'popularity': 1.192, 'release_date': '2024-06-10', 'vote_average': 0, 'vote_count': 0, 'keywords': '', 'poster_path': '/1UijtV6LJLP3CplLH79asaq9T3O.jpg', 'genres': 'Dokumentalny'}\n",
      "[{'id': 7, 'name': 'Dokumentalny', 'id_generes': 99}]\n",
      "{'id': 234, 'title': 'THE STORY OF DSG: From Orgless to $1 Million Match Point', 'original_title': 'THE STORY OF DSG: From Orgless to $1 Million Match Point', 'original_language': 'en', 'overview': '', 'popularity': 0.998, 'release_date': '2024-06-02', 'vote_average': 0, 'vote_count': 0, 'keywords': '', 'poster_path': '/LHEkrk6daDGFB0ns9Nyl5wX9q4.jpg', 'genres': 'Dokumentalny'}\n",
      "[]\n",
      "{'id': 235, 'title': 'Kala Nanti', 'original_title': 'Kala Nanti', 'original_language': 'id', 'overview': '', 'popularity': 1.379, 'release_date': '2024-06-08', 'vote_average': 0, 'vote_count': 0, 'keywords': '', 'poster_path': '/mYXcMfo2SvD79lcDMjYO5CEEUBH.jpg', 'genres': ''}\n",
      "[{'id': 7, 'name': 'Dokumentalny', 'id_generes': 99}]\n",
      "{'id': 236, 'title': 'Sinfonia do Caos', 'original_title': 'Sinfonia do Caos', 'original_language': 'pt', 'overview': '', 'popularity': 0.937, 'release_date': '2024-06-10', 'vote_average': 0, 'vote_count': 0, 'keywords': '', 'poster_path': '/fSycLFVkEU5KN5o2lSsEBrjw75b.jpg', 'genres': 'Dokumentalny'}\n",
      "[{'id': 3, 'name': 'Przygodowy', 'id_generes': 12}, {'id': 4, 'name': 'Animacja', 'id_generes': 16}, {'id': 5, 'name': 'Komedia', 'id_generes': 35}, {'id': 16, 'name': 'Sci-Fi', 'id_generes': 878}]\n",
      "{'id': 237, 'title': '貝肯熊：火星任務', 'original_title': '貝肯熊：火星任務', 'original_language': 'zh', 'overview': '', 'popularity': 1.355, 'release_date': '2023-09-28', 'vote_average': 0, 'vote_count': 0, 'keywords': '', 'poster_path': '/t97VWt5lx99paauGUl3RslCei1r.jpg', 'genres': 'Przygodowy, Animacja, Komedia, Sci-Fi'}\n",
      "[{'id': 8, 'name': 'Dramat', 'id_generes': 18}, {'id': 14, 'name': 'Tajemnica', 'id_generes': 9648}, {'id': 18, 'name': 'Thriller', 'id_generes': 53}]\n",
      "{'id': 238, 'title': 'Expiación', 'original_title': 'Expiación', 'original_language': 'es', 'overview': '', 'popularity': 0.975, 'release_date': '2024-06-01', 'vote_average': 0, 'vote_count': 0, 'keywords': '', 'poster_path': '/u2jfXX7vf8mRjELpTP41IDLVrVL.jpg', 'genres': 'Dramat, Tajemnica, Thriller'}\n",
      "[{'id': 7, 'name': 'Dokumentalny', 'id_generes': 99}, {'id': 8, 'name': 'Dramat', 'id_generes': 18}]\n",
      "{'id': 239, 'title': 'Mitología de barrio', 'original_title': 'Mitología de barrio', 'original_language': 'es', 'overview': '', 'popularity': 1.326, 'release_date': '2024-05-31', 'vote_average': 0, 'vote_count': 0, 'keywords': '', 'poster_path': '/gJckgsdI7m7gLE15fzfoHanLD2u.jpg', 'genres': 'Dokumentalny, Dramat'}\n",
      "[{'id': 7, 'name': 'Dokumentalny', 'id_generes': 99}, {'id': 16, 'name': 'Sci-Fi', 'id_generes': 878}]\n",
      "{'id': 240, 'title': 'Estação Janga-Lua (O Segundo Mundo da Rádio)', 'original_title': 'Estação Janga-Lua (O Segundo Mundo da Rádio)', 'original_language': 'pt', 'overview': '', 'popularity': 0.872, 'release_date': '2024-06-08', 'vote_average': 0, 'vote_count': 0, 'keywords': '', 'poster_path': None, 'genres': 'Dokumentalny, Sci-Fi'}\n",
      "[{'id': 4, 'name': 'Animacja', 'id_generes': 16}]\n",
      "{'id': 241, 'title': 'Blood Between the Legs', 'original_title': 'Blood Between the Legs', 'original_language': 'en', 'overview': '', 'popularity': 0.901, 'release_date': '2024-06-09', 'vote_average': 0, 'vote_count': 0, 'keywords': '', 'poster_path': None, 'genres': 'Animacja'}\n",
      "[{'id': 7, 'name': 'Dokumentalny', 'id_generes': 99}]\n",
      "{'id': 242, 'title': 'Arde Lima', 'original_title': 'Arde Lima', 'original_language': 'es', 'overview': '', 'popularity': 1.291, 'release_date': '2024-05-30', 'vote_average': 0, 'vote_count': 0, 'keywords': '', 'poster_path': '/aPLaqPSKtGd67th98iTj8u9xXzX.jpg', 'genres': 'Dokumentalny'}\n",
      "[{'id': 4, 'name': 'Animacja', 'id_generes': 16}, {'id': 5, 'name': 'Komedia', 'id_generes': 35}]\n",
      "{'id': 243, 'title': 'Hoje Eu Só Volto Amanhã', 'original_title': 'Hoje Eu Só Volto Amanhã', 'original_language': 'pt', 'overview': '', 'popularity': 1.117, 'release_date': '2024-06-08', 'vote_average': 0, 'vote_count': 0, 'keywords': '', 'poster_path': None, 'genres': 'Animacja, Komedia'}\n",
      "[{'id': 5, 'name': 'Komedia', 'id_generes': 35}, {'id': 12, 'name': 'Horror', 'id_generes': 27}]\n",
      "{'id': 244, 'title': 'Para Pencari Syaiton', 'original_title': 'Para Pencari Syaiton', 'original_language': 'id', 'overview': '', 'popularity': 0.792, 'release_date': '2024-06-05', 'vote_average': 0, 'vote_count': 0, 'keywords': '', 'poster_path': '/2ewmHWNWAI4KmkgK8lelgulDLbQ.jpg', 'genres': 'Komedia, Horror'}\n",
      "[{'id': 9, 'name': 'Familijny', 'id_generes': 10751}]\n",
      "{'id': 245, 'title': 'Cuando Tu Mirada Me Cayó Las Voces', 'original_title': 'Cuando Tu Mirada Me Cayó Las Voces', 'original_language': 'es', 'overview': '', 'popularity': 0.812, 'release_date': '2024-06-06', 'vote_average': 0, 'vote_count': 0, 'keywords': '', 'poster_path': '/7RUGA9K9OCGnlYwqM4h37ayz83.jpg', 'genres': 'Familijny'}\n",
      "[{'id': 12, 'name': 'Horror', 'id_generes': 27}]\n",
      "{'id': 246, 'title': '封印映像 Vol.71 ある怪物製作者の取材', 'original_title': '封印映像 Vol.71 ある怪物製作者の取材', 'original_language': 'ja', 'overview': '', 'popularity': 0.786, 'release_date': '2024-06-05', 'vote_average': 0, 'vote_count': 0, 'keywords': '', 'poster_path': '/ysgUnubgCYZERRIdkwvo8ImmuKc.jpg', 'genres': 'Horror'}\n",
      "[]\n",
      "{'id': 247, 'title': 'Head Eaters', 'original_title': 'Head Eaters', 'original_language': 'en', 'overview': '', 'popularity': 0.783, 'release_date': '2024-06-05', 'vote_average': 0, 'vote_count': 0, 'keywords': '', 'poster_path': None, 'genres': ''}\n",
      "[{'id': 8, 'name': 'Dramat', 'id_generes': 18}]\n",
      "{'id': 248, 'title': 'An Arrow Held Back', 'original_title': 'An Arrow Held Back', 'original_language': 'en', 'overview': '', 'popularity': 0.738, 'release_date': '2024-06-03', 'vote_average': 0, 'vote_count': 0, 'keywords': '', 'poster_path': '/oupbzAceWWdmusc1qe8GFdSs0gy.jpg', 'genres': 'Dramat'}\n",
      "[{'id': 5, 'name': 'Komedia', 'id_generes': 35}, {'id': 8, 'name': 'Dramat', 'id_generes': 18}, {'id': 9, 'name': 'Familijny', 'id_generes': 10751}]\n",
      "{'id': 249, 'title': 'يومين', 'original_title': 'يومين', 'original_language': 'ar', 'overview': '', 'popularity': 0.966, 'release_date': '2024-06-02', 'vote_average': 0, 'vote_count': 0, 'keywords': '', 'poster_path': '/vCUE8XFftNSqN5RZsKjihLs2Dnl.jpg', 'genres': 'Komedia, Dramat, Familijny'}\n",
      "[{'id': 7, 'name': 'Dokumentalny', 'id_generes': 99}]\n",
      "{'id': 250, 'title': 'weak signal', 'original_title': 'weak signal', 'original_language': 'en', 'overview': '', 'popularity': 0.696, 'release_date': '2024-06-01', 'vote_average': 0, 'vote_count': 0, 'keywords': '', 'poster_path': None, 'genres': 'Dokumentalny'}\n",
      "[{'id': 5, 'name': 'Komedia', 'id_generes': 35}, {'id': 12, 'name': 'Horror', 'id_generes': 27}]\n",
      "{'id': 251, 'title': 'O Massacre da Mona Do Banheiro', 'original_title': 'O Massacre da Mona Do Banheiro', 'original_language': 'pt', 'overview': '', 'popularity': 0.693, 'release_date': '2024-06-01', 'vote_average': 0, 'vote_count': 0, 'keywords': '', 'poster_path': '/AcM73EVVqSlP9NkbrADpzHLBiKI.jpg', 'genres': 'Komedia, Horror'}\n",
      "[{'id': 3, 'name': 'Przygodowy', 'id_generes': 12}]\n",
      "{'id': 252, 'title': 'scenes of a darty', 'original_title': 'scenes of a darty', 'original_language': 'en', 'overview': '', 'popularity': 0.644, 'release_date': '2024-05-29', 'vote_average': 0, 'vote_count': 0, 'keywords': '', 'poster_path': '/kosvpEph26CHI9fCecyUBCU5gfx.jpg', 'genres': 'Przygodowy'}\n",
      "[{'id': 8, 'name': 'Dramat', 'id_generes': 18}]\n",
      "{'id': 253, 'title': 'כיסופים', 'original_title': 'כיסופים', 'original_language': 'he', 'overview': '', 'popularity': 0.938, 'release_date': '2023-11-04', 'vote_average': 0, 'vote_count': 0, 'keywords': '', 'poster_path': '/9Fe67HZExN452xLnxGy9dItgUdP.jpg', 'genres': 'Dramat'}\n",
      "[{'id': 8, 'name': 'Dramat', 'id_generes': 18}, {'id': 15, 'name': 'Romans', 'id_generes': 10749}]\n",
      "{'id': 254, 'title': 'In This Moment', 'original_title': 'In This Moment', 'original_language': 'en', 'overview': '', 'popularity': 0.995, 'release_date': '2024-07-05', 'vote_average': 0, 'vote_count': 0, 'keywords': '', 'poster_path': '/yDLkWGiEJQy4goQyoD2NtgDzfu0.jpg', 'genres': 'Dramat, Romans'}\n",
      "[{'id': 5, 'name': 'Komedia', 'id_generes': 35}]\n",
      "{'id': 255, 'title': 'Diary Of A Cinephile', 'original_title': 'Diary Of A Cinephile', 'original_language': 'en', 'overview': '', 'popularity': 0.972, 'release_date': '2024-05-31', 'vote_average': 0, 'vote_count': 0, 'keywords': '', 'poster_path': None, 'genres': 'Komedia'}\n",
      "[]\n",
      "{'id': 256, 'title': 'Brooklyn Totem', 'original_title': 'Brooklyn Totem', 'original_language': 'en', 'overview': '', 'popularity': 0.649, 'release_date': '2024-05-30', 'vote_average': 0, 'vote_count': 0, 'keywords': '', 'poster_path': None, 'genres': ''}\n",
      "[]\n",
      "{'id': 257, 'title': 'Zen #17 - avec Malik Bentalha', 'original_title': 'Zen #17 - avec Malik Bentalha', 'original_language': 'fr', 'overview': '', 'popularity': 0.784, 'release_date': '2024-06-24', 'vote_average': 0, 'vote_count': 0, 'keywords': '', 'poster_path': '/yo8igiU2XsW7eCa4xqeIOcEIo8F.jpg', 'genres': ''}\n",
      "[{'id': 7, 'name': 'Dokumentalny', 'id_generes': 99}]\n",
      "{'id': 258, 'title': 'Mejunje', 'original_title': 'Mejunje', 'original_language': 'es', 'overview': '', 'popularity': 0.441, 'release_date': '2024-07-04', 'vote_average': 0, 'vote_count': 0, 'keywords': '', 'poster_path': '/w31rHLkP7RNVT82be5GKuFxEEBW.jpg', 'genres': 'Dokumentalny'}\n",
      "[{'id': 7, 'name': 'Dokumentalny', 'id_generes': 99}, {'id': 13, 'name': 'Muzyczny', 'id_generes': 10402}]\n",
      "{'id': 259, 'title': 'The Urgent Call of Palestine', 'original_title': 'The Urgent Call of Palestine', 'original_language': 'en', 'overview': '', 'popularity': 0.007, 'release_date': '1973-01-01', 'vote_average': 0, 'vote_count': 0, 'keywords': '', 'poster_path': '/vALVk43VKn3waUSxNDjmUsqyZZB.jpg', 'genres': 'Dokumentalny, Muzyczny'}\n",
      "[{'id': 5, 'name': 'Komedia', 'id_generes': 35}]\n",
      "{'id': 260, 'title': '정숙한 후보', 'original_title': '정숙한 후보', 'original_language': 'ko', 'overview': '', 'popularity': 0.001, 'release_date': '2024-07-07', 'vote_average': 0, 'vote_count': 0, 'keywords': '', 'poster_path': None, 'genres': 'Komedia'}\n",
      "[]\n",
      "{'id': 261, 'title': '마주보는 사람에게', 'original_title': '마주보는 사람에게', 'original_language': 'ko', 'overview': '', 'popularity': 0.001, 'release_date': '2024-07-07', 'vote_average': 0, 'vote_count': 0, 'keywords': '', 'poster_path': None, 'genres': ''}\n",
      "[]\n",
      "{'id': 262, 'title': 'Flashback', 'original_title': 'Flashback', 'original_language': 'en', 'overview': '', 'popularity': 0.001, 'release_date': '2024-06-14', 'vote_average': 0, 'vote_count': 0, 'keywords': '', 'poster_path': '/sLgI09eYpssUPe3zUzgmGjq0H46.jpg', 'genres': ''}\n",
      "[{'id': 7, 'name': 'Dokumentalny', 'id_generes': 99}]\n",
      "{'id': 263, 'title': 'Реал', 'original_title': 'Реал', 'original_language': 'uk', 'overview': '', 'popularity': 0.001, 'release_date': '2024-06-30', 'vote_average': 0, 'vote_count': 0, 'keywords': '', 'poster_path': '/32cXhDv1RG04zMvfwxY2PuxgLi6.jpg', 'genres': 'Dokumentalny'}\n",
      "[{'id': 7, 'name': 'Dokumentalny', 'id_generes': 99}, {'id': 17, 'name': 'film TV', 'id_generes': 10770}]\n",
      "{'id': 264, 'title': 'Paris en chansons', 'original_title': 'Paris en chansons', 'original_language': 'fr', 'overview': '', 'popularity': 0, 'release_date': '2024-07-05', 'vote_average': 8, 'vote_count': 1, 'keywords': '', 'poster_path': '/pbBpaiB5D2mZZHLkut7KA2lTxmE.jpg', 'genres': 'Dokumentalny, film TV'}\n",
      "[]\n",
      "{'id': 265, 'title': 'Petricore', 'original_title': 'Petricore', 'original_language': 'it', 'overview': '', 'popularity': 1.386, 'release_date': '2024-06-15', 'vote_average': 0, 'vote_count': 0, 'keywords': '', 'poster_path': None, 'genres': ''}\n"
     ]
    },
    {
     "data": {
      "text/plain": "   id                                      title  \\\n0   5                      Furiosa: Saga Mad Max   \n1   6                                  Petricore   \n2   7                                     Rattle   \n3   8  The Killing Spree: Hunting Joanne Dennehy   \n4   9                        Cadillac: Go Louder   \n\n                              original_title original_language  \\\n0                    Furiosa: A Mad Max Saga                en   \n1                                  Petricore                it   \n2                                     Rattle                en   \n3  The Killing Spree: Hunting Joanne Dennehy                en   \n4                        Cadillac: Go Louder                en   \n\n                                            overview  popularity release_date  \\\n0  Kiedy świat upada, młoda Furiosa zostaje uprow...    3815.308   2024-05-22   \n1                                                          1.386   2024-06-15   \n2                                                          0.981   2024-06-01   \n3                                                          1.400   2024-06-18   \n4                                                          1.400   2024-06-28   \n\n   vote_average  vote_count  \\\n0         7.696        1718   \n1         0.000           0   \n2         0.000           0   \n3         0.000           0   \n4         0.000           0   \n\n                                            keywords  \\\n0  furiosa, bikerów, cytadeli, dementus, docieraj...   \n1                                                      \n2                                                      \n3                                                      \n4                                                      \n\n                        poster_path  \\\n0  /eLFOjrfPs61kaSvbBej5wZfaHtL.jpg   \n1                              None   \n2                              None   \n3                              None   \n4  /d6Rtw6rDQgTWmH23BIOhLdBjXzR.jpg   \n\n                                              genres  \n0  Akcja, Akcja, Akcja, Akcja, Przygodowy, Przygo...  \n1                    Tajemnica, Tajemnica, Tajemnica  \n2                                                     \n3                         Dokumentalny, Dokumentalny  \n4                                   Fantasy, Fantasy  ",
      "text/html": "<div>\n<style scoped>\n    .dataframe tbody tr th:only-of-type {\n        vertical-align: middle;\n    }\n\n    .dataframe tbody tr th {\n        vertical-align: top;\n    }\n\n    .dataframe thead th {\n        text-align: right;\n    }\n</style>\n<table border=\"1\" class=\"dataframe\">\n  <thead>\n    <tr style=\"text-align: right;\">\n      <th></th>\n      <th>id</th>\n      <th>title</th>\n      <th>original_title</th>\n      <th>original_language</th>\n      <th>overview</th>\n      <th>popularity</th>\n      <th>release_date</th>\n      <th>vote_average</th>\n      <th>vote_count</th>\n      <th>keywords</th>\n      <th>poster_path</th>\n      <th>genres</th>\n    </tr>\n  </thead>\n  <tbody>\n    <tr>\n      <th>0</th>\n      <td>5</td>\n      <td>Furiosa: Saga Mad Max</td>\n      <td>Furiosa: A Mad Max Saga</td>\n      <td>en</td>\n      <td>Kiedy świat upada, młoda Furiosa zostaje uprow...</td>\n      <td>3815.308</td>\n      <td>2024-05-22</td>\n      <td>7.696</td>\n      <td>1718</td>\n      <td>furiosa, bikerów, cytadeli, dementus, docieraj...</td>\n      <td>/eLFOjrfPs61kaSvbBej5wZfaHtL.jpg</td>\n      <td>Akcja, Akcja, Akcja, Akcja, Przygodowy, Przygo...</td>\n    </tr>\n    <tr>\n      <th>1</th>\n      <td>6</td>\n      <td>Petricore</td>\n      <td>Petricore</td>\n      <td>it</td>\n      <td></td>\n      <td>1.386</td>\n      <td>2024-06-15</td>\n      <td>0.000</td>\n      <td>0</td>\n      <td></td>\n      <td>None</td>\n      <td>Tajemnica, Tajemnica, Tajemnica</td>\n    </tr>\n    <tr>\n      <th>2</th>\n      <td>7</td>\n      <td>Rattle</td>\n      <td>Rattle</td>\n      <td>en</td>\n      <td></td>\n      <td>0.981</td>\n      <td>2024-06-01</td>\n      <td>0.000</td>\n      <td>0</td>\n      <td></td>\n      <td>None</td>\n      <td></td>\n    </tr>\n    <tr>\n      <th>3</th>\n      <td>8</td>\n      <td>The Killing Spree: Hunting Joanne Dennehy</td>\n      <td>The Killing Spree: Hunting Joanne Dennehy</td>\n      <td>en</td>\n      <td></td>\n      <td>1.400</td>\n      <td>2024-06-18</td>\n      <td>0.000</td>\n      <td>0</td>\n      <td></td>\n      <td>None</td>\n      <td>Dokumentalny, Dokumentalny</td>\n    </tr>\n    <tr>\n      <th>4</th>\n      <td>9</td>\n      <td>Cadillac: Go Louder</td>\n      <td>Cadillac: Go Louder</td>\n      <td>en</td>\n      <td></td>\n      <td>1.400</td>\n      <td>2024-06-28</td>\n      <td>0.000</td>\n      <td>0</td>\n      <td></td>\n      <td>/d6Rtw6rDQgTWmH23BIOhLdBjXzR.jpg</td>\n      <td>Fantasy, Fantasy</td>\n    </tr>\n  </tbody>\n</table>\n</div>"
     },
     "execution_count": 2,
     "metadata": {},
     "output_type": "execute_result"
    }
   ]
  },
  {
   "cell_type": "markdown",
   "source": [
    "## Creating a movie recommendation system"
   ],
   "metadata": {
    "collapsed": false
   },
   "id": "ec04ba0e28d9ac0b"
  },
  {
   "cell_type": "markdown",
   "source": [
    "### Data preparation"
   ],
   "metadata": {
    "collapsed": false
   },
   "id": "4b5dcef3600acd9e"
  },
  {
   "cell_type": "markdown",
   "source": [
    "Assigning grade ranges"
   ],
   "metadata": {
    "collapsed": false
   },
   "id": "38091de9191aa109"
  },
  {
   "metadata": {
    "ExecuteTime": {
     "end_time": "2024-07-05T13:27:44.345968700Z",
     "start_time": "2024-07-05T13:27:44.330649100Z"
    }
   },
   "cell_type": "code",
   "execution_count": 3,
   "source": [
    "df_copy = df.copy()\n",
    "df_copy.loc[(df_copy['vote_average'] >= 0) & (df_copy['vote_average'] <= 1), 'rating_between'] = \"between 0 and 1\"\n",
    "df_copy.loc[(df_copy['vote_average'] > 1) & (df_copy['vote_average'] <= 2), 'rating_between'] = \"between 1 and 2\"\n",
    "df_copy.loc[(df_copy['vote_average'] > 2) & (df_copy['vote_average'] <= 3), 'rating_between'] = \"between 2 and 3\"\n",
    "df_copy.loc[(df_copy['vote_average'] > 3) & (df_copy['vote_average'] <= 4), 'rating_between'] = \"between 3 and 4\"\n",
    "df_copy.loc[(df_copy['vote_average'] > 4) & (df_copy['vote_average'] <= 5), 'rating_between'] = \"between 4 and 5\"\n",
    "df_copy.loc[(df_copy['vote_average'] > 5) & (df_copy['vote_average'] <= 6), 'rating_between'] = \"between 5 and 6\"\n",
    "df_copy.loc[(df_copy['vote_average'] > 6) & (df_copy['vote_average'] <= 7), 'rating_between'] = \"between 6 and 7\"\n",
    "df_copy.loc[(df_copy['vote_average'] > 7) & (df_copy['vote_average'] <= 8), 'rating_between'] = \"between 7 and 8\"\n",
    "df_copy.loc[(df_copy['vote_average'] > 8) & (df_copy['vote_average'] <= 9), 'rating_between'] = \"between 8 and 9\"\n",
    "df_copy.loc[(df_copy['vote_average'] > 9) & (df_copy['vote_average'] <= 10), 'rating_between'] = \"between 9 and 10\""
   ],
   "id": "11cd4b84d7dac2cb",
   "outputs": []
  },
  {
   "cell_type": "markdown",
   "source": [
    "Filling in missing values"
   ],
   "metadata": {
    "collapsed": false
   },
   "id": "e1f243169b5d02a6"
  },
  {
   "cell_type": "code",
   "execution_count": 4,
   "source": [
    "df_copy['genres'] = df_copy['genres'].fillna('no category')"
   ],
   "metadata": {
    "collapsed": false,
    "ExecuteTime": {
     "end_time": "2024-07-05T13:27:46.884803500Z",
     "start_time": "2024-07-05T13:27:46.884299500Z"
    }
   },
   "id": "69b67e57c46da427",
   "outputs": []
  },
  {
   "cell_type": "markdown",
   "source": [
    "Creating categorical variables"
   ],
   "metadata": {
    "collapsed": false
   },
   "id": "b66ee249686a993a"
  },
  {
   "cell_type": "code",
   "execution_count": 5,
   "source": [
    "rating_df = pd.get_dummies(df_copy['rating_between'])\n",
    "language_df = pd.get_dummies(df_copy['original_language'])"
   ],
   "metadata": {
    "collapsed": false,
    "ExecuteTime": {
     "end_time": "2024-07-05T13:27:50.642056300Z",
     "start_time": "2024-07-05T13:27:50.626031Z"
    }
   },
   "id": "dac667e828c9ab16",
   "outputs": []
  },
  {
   "cell_type": "markdown",
   "source": [
    "Extracting the main category"
   ],
   "metadata": {
    "collapsed": false
   },
   "id": "b27c3396584de4fb"
  },
  {
   "cell_type": "code",
   "execution_count": 6,
   "source": [
    "df_copy['main_category'] = df_copy['genres'].apply(lambda x: x.split('-')[0])\n",
    "genres_df = pd.get_dummies(df_copy.main_category)"
   ],
   "metadata": {
    "collapsed": false,
    "ExecuteTime": {
     "end_time": "2024-07-05T13:27:52.455145200Z",
     "start_time": "2024-07-05T13:27:52.446002900Z"
    }
   },
   "id": "c74183f95a384d9e",
   "outputs": []
  },
  {
   "cell_type": "markdown",
   "source": [
    "## Creating features"
   ],
   "metadata": {
    "collapsed": false
   },
   "id": "f92ab1a3e3b8c17e"
  },
  {
   "cell_type": "code",
   "execution_count": 7,
   "source": [
    "features = pd.concat([rating_df, language_df, genres_df, df_copy['vote_average'], df_copy['vote_count']], axis=1)"
   ],
   "metadata": {
    "collapsed": false,
    "ExecuteTime": {
     "end_time": "2024-07-05T13:27:54.125936600Z",
     "start_time": "2024-07-05T13:27:54.119091600Z"
    }
   },
   "id": "8584c6c89e14ce76",
   "outputs": []
  },
  {
   "cell_type": "markdown",
   "source": [
    "### Feature scaling"
   ],
   "metadata": {
    "collapsed": false
   },
   "id": "3b39d8633ba019d9"
  },
  {
   "cell_type": "code",
   "execution_count": 8,
   "source": [
    "min_max_scaler = MinMaxScaler()\n",
    "features = min_max_scaler.fit_transform(features)"
   ],
   "metadata": {
    "collapsed": false,
    "ExecuteTime": {
     "end_time": "2024-07-05T13:27:55.762647700Z",
     "start_time": "2024-07-05T13:27:55.746603500Z"
    }
   },
   "id": "c88532fdb9866e24",
   "outputs": []
  },
  {
   "cell_type": "markdown",
   "source": [
    "## Division into training and test set"
   ],
   "metadata": {
    "collapsed": false
   },
   "id": "c417b12507100fed"
  },
  {
   "cell_type": "code",
   "execution_count": 9,
   "source": [
    "X = features\n",
    "y = df_copy[['title', 'main_category']]\n",
    "X_train, X_test, y_train, y_test = train_test_split(X, y, test_size=0.2, random_state=42)"
   ],
   "metadata": {
    "collapsed": false,
    "ExecuteTime": {
     "end_time": "2024-07-05T13:27:57.223607100Z",
     "start_time": "2024-07-05T13:27:57.209462700Z"
    }
   },
   "id": "a4bd90e8ac0dc2af",
   "outputs": []
  },
  {
   "cell_type": "markdown",
   "source": [
    "## Creating a KNN model"
   ],
   "metadata": {
    "collapsed": false
   },
   "id": "fd6c63a68286e813"
  },
  {
   "cell_type": "code",
   "execution_count": 10,
   "source": [
    "n_neighbors = 10\n",
    "knn = NearestNeighbors(n_neighbors=n_neighbors, algorithm='auto').fit(X_train)"
   ],
   "metadata": {
    "collapsed": false,
    "ExecuteTime": {
     "end_time": "2024-07-05T13:27:58.634502500Z",
     "start_time": "2024-07-05T13:27:58.618550300Z"
    }
   },
   "id": "5d0f90e73095e779",
   "outputs": []
  },
  {
   "cell_type": "markdown",
   "source": [
    "## Recommender function"
   ],
   "metadata": {
    "collapsed": false
   },
   "id": "8677e05c582642bc"
  },
  {
   "cell_type": "code",
   "execution_count": 11,
   "source": [
    "def recommend_movies(title, n_recommendations=5):\n",
    "    if title not in y_train['title'].values:\n",
    "        return \"Film nie znaleziony w bazie treningowej.\"\n",
    "    \n",
    "    idx = y_train[y_train['title'] == title].index[0]\n",
    "    movie_features = X_train[idx]\n",
    "    \n",
    "    # Zmiana kształtu na (1, -1)\n",
    "    movie_features = movie_features.reshape(1, -1)\n",
    "    \n",
    "    distances, indices = knn.kneighbors(movie_features, n_neighbors=n_recommendations + 1)\n",
    "    \n",
    "    recommendations = []\n",
    "    for i in range(1, len(indices[0])):\n",
    "        recommendations.append(y_train.iloc[indices[0][i]])\n",
    "    \n",
    "    return recommendations"
   ],
   "metadata": {
    "collapsed": false,
    "ExecuteTime": {
     "end_time": "2024-07-05T13:28:00.023128Z",
     "start_time": "2024-07-05T13:28:00.022622600Z"
    }
   },
   "id": "9b3aca4abadf0afd",
   "outputs": []
  },
  {
   "cell_type": "markdown",
   "source": [
    "## Testing the model"
   ],
   "metadata": {
    "collapsed": false
   },
   "id": "3079d4f5dab90f87"
  },
  {
   "cell_type": "code",
   "execution_count": 19,
   "source": [
    "recommendations = recommend_movies(\"We Dream of Eden\", n_recommendations=5)\n",
    "for title, genres in recommendations:\n",
    "    print(f\"Film: {title}, Kategorie: {genres}\")"
   ],
   "metadata": {
    "collapsed": false,
    "ExecuteTime": {
     "end_time": "2024-07-05T15:18:03.361917200Z",
     "start_time": "2024-07-05T15:18:03.339857800Z"
    }
   },
   "id": "b9497dbf9eb80d9d",
   "outputs": [
    {
     "name": "stdout",
     "output_type": "stream",
     "text": [
      "Film: GAZA | La franja del exterminio, Kategorie: Dokumentalny\n",
      "Film: يومين, Kategorie: Komedia, Dramat, Familijny\n",
      "Film: Delirio, Kategorie: Dramat, Thriller\n",
      "Film: We Dream of Eden, Kategorie: Dramat, Muzyczny\n",
      "Film: Nowhere Near, Kategorie: Dramat\n"
     ]
    }
   ]
  },
  {
   "cell_type": "code",
   "execution_count": 17,
   "source": [
    "recommendations = recommend_movies(\"Komedia\", n_recommendations=30)\n",
    "for title, genres in recommendations:\n",
    "    print(f\"Film: {title}, Kategorie: {genres}\")"
   ],
   "metadata": {
    "collapsed": false,
    "ExecuteTime": {
     "end_time": "2024-07-05T13:29:19.321333900Z",
     "start_time": "2024-07-05T13:29:19.305250500Z"
    }
   },
   "id": "55d309ca131b77f5",
   "outputs": [
    {
     "ename": "ValueError",
     "evalue": "not enough values to unpack (expected 2, got 1)",
     "output_type": "error",
     "traceback": [
      "\u001B[1;31m---------------------------------------------------------------------------\u001B[0m",
      "\u001B[1;31mValueError\u001B[0m                                Traceback (most recent call last)",
      "Cell \u001B[1;32mIn[17], line 2\u001B[0m\n\u001B[0;32m      1\u001B[0m recommendations \u001B[38;5;241m=\u001B[39m recommend_movies(\u001B[38;5;124m\"\u001B[39m\u001B[38;5;124mKomedia\u001B[39m\u001B[38;5;124m\"\u001B[39m, n_recommendations\u001B[38;5;241m=\u001B[39m\u001B[38;5;241m30\u001B[39m)\n\u001B[1;32m----> 2\u001B[0m \u001B[38;5;28;01mfor\u001B[39;00m title, genres \u001B[38;5;129;01min\u001B[39;00m recommendations:\n\u001B[0;32m      3\u001B[0m     \u001B[38;5;28mprint\u001B[39m(\u001B[38;5;124mf\u001B[39m\u001B[38;5;124m\"\u001B[39m\u001B[38;5;124mFilm: \u001B[39m\u001B[38;5;132;01m{\u001B[39;00mtitle\u001B[38;5;132;01m}\u001B[39;00m\u001B[38;5;124m, Kategorie: \u001B[39m\u001B[38;5;132;01m{\u001B[39;00mgenres\u001B[38;5;132;01m}\u001B[39;00m\u001B[38;5;124m\"\u001B[39m)\n",
      "\u001B[1;31mValueError\u001B[0m: not enough values to unpack (expected 2, got 1)"
     ]
    }
   ]
  },
  {
   "cell_type": "code",
   "execution_count": 53,
   "source": [
    "def to_dict(df):\n",
    "    row_dict ={}\n",
    "    for index, row in df.iterrows():\n",
    "        for column in df.columns:\n",
    "            row_dict[column] = row[column] \n",
    "    return row_dict"
   ],
   "metadata": {
    "collapsed": false,
    "ExecuteTime": {
     "end_time": "2024-07-05T15:40:16.239623800Z",
     "start_time": "2024-07-05T15:40:16.239119100Z"
    }
   },
   "id": "1f61637d7b3e45d0",
   "outputs": []
  },
  {
   "cell_type": "code",
   "execution_count": 59,
   "outputs": [],
   "source": [
    "def recommend_movies2(title, n_recommendations=5):\n",
    "    if title not in y_train['title'].values:\n",
    "        return \"Film nie znaleziony w bazie treningowej.\"\n",
    "    \n",
    "    idx = y_train[y_train['title'] == title].index[0]\n",
    "    movie_features = X_train[idx]\n",
    "    \n",
    "    # Zmiana kształtu na (1, -1)\n",
    "    movie_features = movie_features.reshape(1, -1)\n",
    "    \n",
    "    distances, indices = knn.kneighbors(movie_features, n_neighbors=n_recommendations + 1)\n",
    "    recommendations = []\n",
    "    all_data = []\n",
    "    for i in range(1, len(indices[0])):\n",
    "        recommendations.append(y_train.iloc[indices[0][i]])\n",
    "        recommended_title = y.iloc[indices[0][i]]['title']\n",
    "        data = df[df['title'] == recommended_title]\n",
    "        data = data.fillna(\"\")\n",
    "        all_data.append(to_dict(data))\n",
    "    return all_data\n",
    "    # return recommendations"
   ],
   "metadata": {
    "collapsed": false,
    "ExecuteTime": {
     "end_time": "2024-07-05T15:41:30.104194900Z",
     "start_time": "2024-07-05T15:41:30.104194900Z"
    }
   },
   "id": "5c8a1a1367217ac"
  },
  {
   "cell_type": "code",
   "execution_count": 60,
   "outputs": [],
   "source": [
    "recommendations = recommend_movies2(\"We Dream of Eden\", n_recommendations=5)"
   ],
   "metadata": {
    "collapsed": false,
    "ExecuteTime": {
     "end_time": "2024-07-05T15:41:30.698169900Z",
     "start_time": "2024-07-05T15:41:30.682078Z"
    }
   },
   "id": "ac3fad0bd4700996"
  },
  {
   "cell_type": "code",
   "execution_count": 61,
   "outputs": [
    {
     "data": {
      "text/plain": "[{'id': 80,\n  'title': 'Bad Shabbos',\n  'original_title': 'Bad Shabbos',\n  'original_language': 'en',\n  'overview': '',\n  'popularity': 5.66,\n  'release_date': '2024-06-10',\n  'vote_average': 6.0,\n  'vote_count': 2,\n  'keywords': '',\n  'poster_path': '/84cEj8nVFIlkiWruoe11NMYaKIN.jpg',\n  'genres': 'Komedia'},\n {'id': 164,\n  'title': 'Shift',\n  'original_title': 'Shift',\n  'original_language': 'es',\n  'overview': '',\n  'popularity': 1.97,\n  'release_date': '2024-06-21',\n  'vote_average': 0.0,\n  'vote_count': 0,\n  'keywords': '',\n  'poster_path': '/oWBq8LFrW2vzjdTebI1m6wEuzJv.jpg',\n  'genres': 'Dramat'},\n {'id': 27,\n  'title': 'Cadillac: Go Louder',\n  'original_title': 'Cadillac: Go Louder',\n  'original_language': 'en',\n  'overview': '',\n  'popularity': 1.4,\n  'release_date': '2024-06-28',\n  'vote_average': 0.0,\n  'vote_count': 0,\n  'keywords': '',\n  'poster_path': '/d6Rtw6rDQgTWmH23BIOhLdBjXzR.jpg',\n  'genres': ''},\n {'id': 28,\n  'title': '7G: The Fight Against Phones',\n  'original_title': '7G: The Fight Against Phones',\n  'original_language': 'en',\n  'overview': '',\n  'popularity': 1.4,\n  'release_date': '2024-07-05',\n  'vote_average': 0.0,\n  'vote_count': 0,\n  'keywords': '',\n  'poster_path': '/lPochZAucar1LVMTs2lSlXlKLmm.jpg',\n  'genres': ''},\n {'id': 265,\n  'title': 'Petricore',\n  'original_title': 'Petricore',\n  'original_language': 'it',\n  'overview': '',\n  'popularity': 1.386,\n  'release_date': '2024-06-15',\n  'vote_average': 0.0,\n  'vote_count': 0,\n  'keywords': '',\n  'poster_path': '',\n  'genres': ''}]"
     },
     "execution_count": 61,
     "metadata": {},
     "output_type": "execute_result"
    }
   ],
   "source": [
    "recommendations"
   ],
   "metadata": {
    "collapsed": false,
    "ExecuteTime": {
     "end_time": "2024-07-05T15:41:31.231980100Z",
     "start_time": "2024-07-05T15:41:31.231477Z"
    }
   },
   "id": "183deafab100e5ef"
  },
  {
   "cell_type": "code",
   "execution_count": null,
   "outputs": [],
   "source": [],
   "metadata": {
    "collapsed": false
   },
   "id": "75f82bed5908eda7"
  }
 ],
 "metadata": {
  "kernelspec": {
   "display_name": "Python 3",
   "language": "python",
   "name": "python3"
  },
  "language_info": {
   "codemirror_mode": {
    "name": "ipython",
    "version": 2
   },
   "file_extension": ".py",
   "mimetype": "text/x-python",
   "name": "python",
   "nbconvert_exporter": "python",
   "pygments_lexer": "ipython2",
   "version": "2.7.6"
  }
 },
 "nbformat": 4,
 "nbformat_minor": 5
}
