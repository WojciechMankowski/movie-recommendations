{
 "cells": [
  {
   "cell_type": "code",
   "execution_count": 38,
   "id": "initial_id",
   "metadata": {
    "collapsed": true,
    "ExecuteTime": {
     "end_time": "2024-07-14T07:48:24.257186900Z",
     "start_time": "2024-07-14T07:48:22.964271900Z"
    }
   },
   "outputs": [],
   "source": [
    "import pandas as pd\n",
    "from datebase import create_df_books\n",
    "from sklearn.model_selection import train_test_split\n",
    "from sklearn.preprocessing import MinMaxScaler\n",
    "from sklearn.neighbors import NearestNeighbors"
   ]
  },
  {
   "cell_type": "code",
   "execution_count": 25,
   "outputs": [],
   "source": [
    "df = create_df_books()"
   ],
   "metadata": {
    "collapsed": false,
    "ExecuteTime": {
     "end_time": "2024-07-14T07:46:19.492698400Z",
     "start_time": "2024-07-14T07:46:18.490174100Z"
    }
   },
   "id": "c14462d2999e1797"
  },
  {
   "cell_type": "code",
   "execution_count": 28,
   "outputs": [],
   "source": [
    "selected_columns = ['title', 'authors', 'published_date', 'description', 'page_count', 'categories', 'language']\n",
    "df = df[selected_columns]"
   ],
   "metadata": {
    "collapsed": false,
    "ExecuteTime": {
     "end_time": "2024-07-14T07:46:20.789475600Z",
     "start_time": "2024-07-14T07:46:20.788471700Z"
    }
   },
   "id": "25680f04c524093"
  },
  {
   "cell_type": "code",
   "execution_count": 39,
   "outputs": [
    {
     "name": "stderr",
     "output_type": "stream",
     "text": [
      "C:\\Users\\Admin\\AppData\\Local\\Temp\\ipykernel_9976\\1865943301.py:1: SettingWithCopyWarning: \n",
      "A value is trying to be set on a copy of a slice from a DataFrame.\n",
      "Try using .loc[row_indexer,col_indexer] = value instead\n",
      "\n",
      "See the caveats in the documentation: https://pandas.pydata.org/pandas-docs/stable/user_guide/indexing.html#returning-a-view-versus-a-copy\n",
      "  df['main_category'] =df['categories'].apply(lambda x: x.split(' ')[0])\n"
     ]
    }
   ],
   "source": [
    "df['main_category'] =df['categories'].apply(lambda x: x.split(' ')[0])"
   ],
   "metadata": {
    "collapsed": false,
    "ExecuteTime": {
     "end_time": "2024-07-14T07:48:40.614816900Z",
     "start_time": "2024-07-14T07:48:40.614816900Z"
    }
   },
   "id": "a1be3b8d2475946e"
  },
  {
   "cell_type": "code",
   "execution_count": 40,
   "outputs": [],
   "source": [
    "genres_df = pd.get_dummies(df.main_category)"
   ],
   "metadata": {
    "collapsed": false,
    "ExecuteTime": {
     "end_time": "2024-07-14T07:48:42.223819600Z",
     "start_time": "2024-07-14T07:48:42.212774Z"
    }
   },
   "id": "642a40f2b0095f9b"
  },
  {
   "cell_type": "code",
   "execution_count": 41,
   "outputs": [],
   "source": [
    "autor = pd.get_dummies(df.authors)"
   ],
   "metadata": {
    "collapsed": false,
    "ExecuteTime": {
     "end_time": "2024-07-14T07:48:42.661883500Z",
     "start_time": "2024-07-14T07:48:42.661377600Z"
    }
   },
   "id": "b1c26527eb7ef66"
  },
  {
   "cell_type": "code",
   "execution_count": 42,
   "outputs": [],
   "source": [
    "language_df = pd.get_dummies(df.language)"
   ],
   "metadata": {
    "collapsed": false,
    "ExecuteTime": {
     "end_time": "2024-07-14T07:48:43.172389100Z",
     "start_time": "2024-07-14T07:48:43.171885300Z"
    }
   },
   "id": "664620dafc21ef80"
  },
  {
   "cell_type": "code",
   "execution_count": 43,
   "outputs": [],
   "source": [
    "features = pd.concat([ language_df, genres_df, autor], axis=1)"
   ],
   "metadata": {
    "collapsed": false,
    "ExecuteTime": {
     "end_time": "2024-07-14T07:48:43.891939500Z",
     "start_time": "2024-07-14T07:48:43.891939500Z"
    }
   },
   "id": "ef2a2bdda894f094"
  },
  {
   "cell_type": "code",
   "execution_count": 44,
   "outputs": [],
   "source": [
    "min_max_scaler = MinMaxScaler()\n",
    "features = min_max_scaler.fit_transform(features)"
   ],
   "metadata": {
    "collapsed": false,
    "ExecuteTime": {
     "end_time": "2024-07-14T07:48:58.402506600Z",
     "start_time": "2024-07-14T07:48:58.386353600Z"
    }
   },
   "id": "ea2978ea5cddcdca"
  },
  {
   "cell_type": "code",
   "execution_count": 45,
   "outputs": [],
   "source": [
    "X = features\n",
    "y = df[['title', 'main_category']]\n",
    "X_train, X_test, y_train, y_test = train_test_split(X, y, test_size=0.2, random_state=42)"
   ],
   "metadata": {
    "collapsed": false,
    "ExecuteTime": {
     "end_time": "2024-07-14T07:49:11.726382400Z",
     "start_time": "2024-07-14T07:49:11.710725800Z"
    }
   },
   "id": "45710941b173b346"
  },
  {
   "cell_type": "code",
   "execution_count": 47,
   "outputs": [],
   "source": [
    "n_neighbors = 10\n",
    "knn = NearestNeighbors(n_neighbors=n_neighbors, algorithm='auto').fit(X_train)"
   ],
   "metadata": {
    "collapsed": false,
    "ExecuteTime": {
     "end_time": "2024-07-14T07:49:29.607505200Z",
     "start_time": "2024-07-14T07:49:29.604493300Z"
    }
   },
   "id": "f4c073679a8d0eb4"
  },
  {
   "cell_type": "code",
   "execution_count": 57,
   "outputs": [],
   "source": [
    "def recommend_movies(title, n_recommendations=5):\n",
    "    if title not in y_train['title'].values:\n",
    "        return \"Film nie znaleziony w bazie treningowej.\"\n",
    "    \n",
    "    idx = y_train[y_train['title'] == title].index[0]\n",
    "    movie_features = X_train[idx]\n",
    "    \n",
    "    # Zmiana kształtu na (1, -1)\n",
    "    movie_features = movie_features.reshape(1, -1)\n",
    "    \n",
    "    distances, indices = knn.kneighbors(movie_features, n_neighbors=n_recommendations + 1)\n",
    "    \n",
    "    recommendations = []\n",
    "    for i in range(1, len(indices[0])):\n",
    "        recommendations.append(y_train.iloc[indices[0][i]])\n",
    "    \n",
    "    return recommendations"
   ],
   "metadata": {
    "collapsed": false,
    "ExecuteTime": {
     "end_time": "2024-07-14T07:53:59.867077Z",
     "start_time": "2024-07-14T07:53:59.864071800Z"
    }
   },
   "id": "74213f17e06d412"
  },
  {
   "cell_type": "code",
   "execution_count": 58,
   "outputs": [
    {
     "name": "stdout",
     "output_type": "stream",
     "text": [
      "title            Zaćmienie\n",
      "main_category             \n",
      "Name: 39, dtype: object\n",
      "title            Czterysta pięćdziesiąt jeden stopni Fahrenheita\n",
      "main_category                                                   \n",
      "Name: 35, dtype: object\n",
      "title            Szatańskie wersety\n",
      "main_category                      \n",
      "Name: 62, dtype: object\n",
      "title            Franklin zaprasza misia\n",
      "main_category                           \n",
      "Name: 11, dtype: object\n",
      "title            Bardzo głodna gąsienica\n",
      "main_category                           \n",
      "Name: 5, dtype: object\n"
     ]
    }
   ],
   "source": [
    "recommendations = recommend_movies(\"Harry Potter i Kamień Filozoficzny\", n_recommendations=5)\n",
    "for items in recommendations:\n",
    "    print(items)"
   ],
   "metadata": {
    "collapsed": false,
    "ExecuteTime": {
     "end_time": "2024-07-14T07:54:00.257424700Z",
     "start_time": "2024-07-14T07:54:00.228406Z"
    }
   },
   "id": "8a687b18e1048a84"
  },
  {
   "cell_type": "code",
   "execution_count": null,
   "outputs": [],
   "source": [],
   "metadata": {
    "collapsed": false
   },
   "id": "5ae9e8696d6bae9a"
  }
 ],
 "metadata": {
  "kernelspec": {
   "display_name": "Python 3",
   "language": "python",
   "name": "python3"
  },
  "language_info": {
   "codemirror_mode": {
    "name": "ipython",
    "version": 2
   },
   "file_extension": ".py",
   "mimetype": "text/x-python",
   "name": "python",
   "nbconvert_exporter": "python",
   "pygments_lexer": "ipython2",
   "version": "2.7.6"
  }
 },
 "nbformat": 4,
 "nbformat_minor": 5
}
